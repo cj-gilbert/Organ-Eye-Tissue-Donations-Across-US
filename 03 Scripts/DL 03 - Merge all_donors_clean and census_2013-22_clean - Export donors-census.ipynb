{
 "cells": [
  {
   "cell_type": "markdown",
   "id": "9c586790",
   "metadata": {},
   "source": [
    "# Table of Contents"
   ]
  },
  {
   "cell_type": "markdown",
   "id": "9e479334",
   "metadata": {},
   "source": [
    "0.1 Import Libraries\n",
    "\n",
    "0.2 Import Data: all_donors_clean.csv and census_2013-22_clean.csv\n",
    "\n",
    "0.3 Explore Original Dataframes\n",
    "\n",
    "0.4 Create keys for merge\n",
    "\n",
    "0.5 Outer Merge - census and living donors -> dfm\n",
    "\n",
    "0.6 Outer Merge - dfm and deceased donors -> dfm\n",
    "\n",
    "0.7 Derive total_donors column\n",
    "\n",
    "0.8 Export Merged Dataframe: donors-census.pkl\n",
    "\n"
   ]
  },
  {
   "cell_type": "markdown",
   "id": "f6a35677",
   "metadata": {},
   "source": [
    "### 0.1 Import Libraries"
   ]
  },
  {
   "cell_type": "code",
   "execution_count": 1,
   "id": "06568fdf",
   "metadata": {},
   "outputs": [],
   "source": [
    "# Import libraries\n",
    "import pandas as pd\n",
    "import numpy as np\n",
    "import os"
   ]
  },
  {
   "cell_type": "markdown",
   "id": "1827ebd0",
   "metadata": {},
   "source": [
    "### 0.2 Import Data: all_donors_clean.pkl and census_2013-22_clean.pkl\n"
   ]
  },
  {
   "cell_type": "code",
   "execution_count": 2,
   "id": "1b1d5cfc",
   "metadata": {},
   "outputs": [],
   "source": [
    "# Identify the file pathway to data files\n",
    "path = r'C:\\Users\\CJ\\Documents\\_CJ-Stuff\\Career Foundry\\Data Immersion\\Ach 6 - Adv Analytics and Dashboard\\Donate Life Project'"
   ]
  },
  {
   "cell_type": "code",
   "execution_count": 3,
   "id": "39320ce5",
   "metadata": {
    "scrolled": true
   },
   "outputs": [],
   "source": [
    "# Import data\n",
    "donors = pd.read_pickle(os.path.join(path, '02 Data', 'Prepared Data', 'all_donors_clean.pkl'))"
   ]
  },
  {
   "cell_type": "code",
   "execution_count": 4,
   "id": "fe08e531",
   "metadata": {},
   "outputs": [],
   "source": [
    "# Import data\n",
    "census = pd.read_pickle(os.path.join(path, '02 Data', 'Prepared Data', 'census_2013-22_clean.pkl'))"
   ]
  },
  {
   "cell_type": "markdown",
   "id": "9fb8dbcb",
   "metadata": {},
   "source": [
    "### 0.3 Explore Original Dataframes"
   ]
  },
  {
   "cell_type": "code",
   "execution_count": 5,
   "id": "3fee77fe",
   "metadata": {},
   "outputs": [
    {
     "data": {
      "text/plain": [
       "(76160, 7)"
      ]
     },
     "execution_count": 5,
     "metadata": {},
     "output_type": "execute_result"
    }
   ],
   "source": [
    "donors.shape"
   ]
  },
  {
   "cell_type": "code",
   "execution_count": 6,
   "id": "5b3a69d3",
   "metadata": {},
   "outputs": [
    {
     "data": {
      "text/plain": [
       "(56000, 6)"
      ]
     },
     "execution_count": 6,
     "metadata": {},
     "output_type": "execute_result"
    }
   ],
   "source": [
    "census.shape"
   ]
  },
  {
   "cell_type": "markdown",
   "id": "a184c0eb",
   "metadata": {},
   "source": [
    "These match what we expected (previously exported)"
   ]
  },
  {
   "cell_type": "code",
   "execution_count": 7,
   "id": "fda6c607",
   "metadata": {},
   "outputs": [
    {
     "data": {
      "text/html": [
       "<div>\n",
       "<style scoped>\n",
       "    .dataframe tbody tr th:only-of-type {\n",
       "        vertical-align: middle;\n",
       "    }\n",
       "\n",
       "    .dataframe tbody tr th {\n",
       "        vertical-align: top;\n",
       "    }\n",
       "\n",
       "    .dataframe thead th {\n",
       "        text-align: right;\n",
       "    }\n",
       "</style>\n",
       "<table border=\"1\" class=\"dataframe\">\n",
       "  <thead>\n",
       "    <tr style=\"text-align: right;\">\n",
       "      <th></th>\n",
       "      <th>number_donors</th>\n",
       "      <th>donor_type</th>\n",
       "      <th>year</th>\n",
       "      <th>state</th>\n",
       "      <th>age_group</th>\n",
       "      <th>gender</th>\n",
       "      <th>ethnicity</th>\n",
       "    </tr>\n",
       "  </thead>\n",
       "  <tbody>\n",
       "    <tr>\n",
       "      <th>0</th>\n",
       "      <td>8</td>\n",
       "      <td>Living</td>\n",
       "      <td>2022</td>\n",
       "      <td>Alabama</td>\n",
       "      <td>18-34 Years</td>\n",
       "      <td>Male</td>\n",
       "      <td>White (Non-Hispanic)</td>\n",
       "    </tr>\n",
       "    <tr>\n",
       "      <th>5440</th>\n",
       "      <td>1</td>\n",
       "      <td>Living</td>\n",
       "      <td>2022</td>\n",
       "      <td>Alabama</td>\n",
       "      <td>18-34 Years</td>\n",
       "      <td>Male</td>\n",
       "      <td>Black (Non-Hispanic)</td>\n",
       "    </tr>\n",
       "    <tr>\n",
       "      <th>10880</th>\n",
       "      <td>0</td>\n",
       "      <td>Living</td>\n",
       "      <td>2022</td>\n",
       "      <td>Alabama</td>\n",
       "      <td>18-34 Years</td>\n",
       "      <td>Male</td>\n",
       "      <td>Hispanic/Latino</td>\n",
       "    </tr>\n",
       "    <tr>\n",
       "      <th>16320</th>\n",
       "      <td>0</td>\n",
       "      <td>Living</td>\n",
       "      <td>2022</td>\n",
       "      <td>Alabama</td>\n",
       "      <td>18-34 Years</td>\n",
       "      <td>Male</td>\n",
       "      <td>Asian (Non-Hispanic)</td>\n",
       "    </tr>\n",
       "    <tr>\n",
       "      <th>21760</th>\n",
       "      <td>0</td>\n",
       "      <td>Living</td>\n",
       "      <td>2022</td>\n",
       "      <td>Alabama</td>\n",
       "      <td>18-34 Years</td>\n",
       "      <td>Male</td>\n",
       "      <td>American Indian/Alaska Native (Non-Hispanic)</td>\n",
       "    </tr>\n",
       "  </tbody>\n",
       "</table>\n",
       "</div>"
      ],
      "text/plain": [
       "       number_donors donor_type  year    state    age_group gender  \\\n",
       "0                  8     Living  2022  Alabama  18-34 Years   Male   \n",
       "5440               1     Living  2022  Alabama  18-34 Years   Male   \n",
       "10880              0     Living  2022  Alabama  18-34 Years   Male   \n",
       "16320              0     Living  2022  Alabama  18-34 Years   Male   \n",
       "21760              0     Living  2022  Alabama  18-34 Years   Male   \n",
       "\n",
       "                                          ethnicity  \n",
       "0                              White (Non-Hispanic)  \n",
       "5440                           Black (Non-Hispanic)  \n",
       "10880                               Hispanic/Latino  \n",
       "16320                          Asian (Non-Hispanic)  \n",
       "21760  American Indian/Alaska Native (Non-Hispanic)  "
      ]
     },
     "execution_count": 7,
     "metadata": {},
     "output_type": "execute_result"
    }
   ],
   "source": [
    "donors.head()"
   ]
  },
  {
   "cell_type": "code",
   "execution_count": 8,
   "id": "49a23b91",
   "metadata": {
    "scrolled": true
   },
   "outputs": [
    {
     "data": {
      "text/html": [
       "<div>\n",
       "<style scoped>\n",
       "    .dataframe tbody tr th:only-of-type {\n",
       "        vertical-align: middle;\n",
       "    }\n",
       "\n",
       "    .dataframe tbody tr th {\n",
       "        vertical-align: top;\n",
       "    }\n",
       "\n",
       "    .dataframe thead th {\n",
       "        text-align: right;\n",
       "    }\n",
       "</style>\n",
       "<table border=\"1\" class=\"dataframe\">\n",
       "  <thead>\n",
       "    <tr style=\"text-align: right;\">\n",
       "      <th></th>\n",
       "      <th>number_donors</th>\n",
       "      <th>donor_type</th>\n",
       "      <th>year</th>\n",
       "      <th>state</th>\n",
       "      <th>age_group</th>\n",
       "      <th>gender</th>\n",
       "      <th>ethnicity</th>\n",
       "    </tr>\n",
       "  </thead>\n",
       "  <tbody>\n",
       "    <tr>\n",
       "      <th>54399</th>\n",
       "      <td>0</td>\n",
       "      <td>Deceased</td>\n",
       "      <td>2013</td>\n",
       "      <td>Wyoming</td>\n",
       "      <td>50-64 Years</td>\n",
       "      <td>Female</td>\n",
       "      <td>Hispanic/Latino</td>\n",
       "    </tr>\n",
       "    <tr>\n",
       "      <th>59839</th>\n",
       "      <td>0</td>\n",
       "      <td>Deceased</td>\n",
       "      <td>2013</td>\n",
       "      <td>Wyoming</td>\n",
       "      <td>50-64 Years</td>\n",
       "      <td>Female</td>\n",
       "      <td>Asian (Non-Hispanic)</td>\n",
       "    </tr>\n",
       "    <tr>\n",
       "      <th>65279</th>\n",
       "      <td>1</td>\n",
       "      <td>Deceased</td>\n",
       "      <td>2013</td>\n",
       "      <td>Wyoming</td>\n",
       "      <td>50-64 Years</td>\n",
       "      <td>Female</td>\n",
       "      <td>American Indian/Alaska Native (Non-Hispanic)</td>\n",
       "    </tr>\n",
       "    <tr>\n",
       "      <th>70719</th>\n",
       "      <td>0</td>\n",
       "      <td>Deceased</td>\n",
       "      <td>2013</td>\n",
       "      <td>Wyoming</td>\n",
       "      <td>50-64 Years</td>\n",
       "      <td>Female</td>\n",
       "      <td>Pacific Islander (Non-Hispanic)</td>\n",
       "    </tr>\n",
       "    <tr>\n",
       "      <th>76159</th>\n",
       "      <td>0</td>\n",
       "      <td>Deceased</td>\n",
       "      <td>2013</td>\n",
       "      <td>Wyoming</td>\n",
       "      <td>50-64 Years</td>\n",
       "      <td>Female</td>\n",
       "      <td>Multiracial (Non-Hispanic)</td>\n",
       "    </tr>\n",
       "  </tbody>\n",
       "</table>\n",
       "</div>"
      ],
      "text/plain": [
       "       number_donors donor_type  year    state    age_group  gender  \\\n",
       "54399              0   Deceased  2013  Wyoming  50-64 Years  Female   \n",
       "59839              0   Deceased  2013  Wyoming  50-64 Years  Female   \n",
       "65279              1   Deceased  2013  Wyoming  50-64 Years  Female   \n",
       "70719              0   Deceased  2013  Wyoming  50-64 Years  Female   \n",
       "76159              0   Deceased  2013  Wyoming  50-64 Years  Female   \n",
       "\n",
       "                                          ethnicity  \n",
       "54399                               Hispanic/Latino  \n",
       "59839                          Asian (Non-Hispanic)  \n",
       "65279  American Indian/Alaska Native (Non-Hispanic)  \n",
       "70719               Pacific Islander (Non-Hispanic)  \n",
       "76159                    Multiracial (Non-Hispanic)  "
      ]
     },
     "execution_count": 8,
     "metadata": {},
     "output_type": "execute_result"
    }
   ],
   "source": [
    "donors.tail()"
   ]
  },
  {
   "cell_type": "code",
   "execution_count": 9,
   "id": "ccf86f29",
   "metadata": {},
   "outputs": [
    {
     "data": {
      "text/html": [
       "<div>\n",
       "<style scoped>\n",
       "    .dataframe tbody tr th:only-of-type {\n",
       "        vertical-align: middle;\n",
       "    }\n",
       "\n",
       "    .dataframe tbody tr th {\n",
       "        vertical-align: top;\n",
       "    }\n",
       "\n",
       "    .dataframe thead th {\n",
       "        text-align: right;\n",
       "    }\n",
       "</style>\n",
       "<table border=\"1\" class=\"dataframe\">\n",
       "  <thead>\n",
       "    <tr style=\"text-align: right;\">\n",
       "      <th></th>\n",
       "      <th>population</th>\n",
       "      <th>year</th>\n",
       "      <th>state</th>\n",
       "      <th>age_group</th>\n",
       "      <th>gender</th>\n",
       "      <th>ethnicity</th>\n",
       "    </tr>\n",
       "  </thead>\n",
       "  <tbody>\n",
       "    <tr>\n",
       "      <th>0</th>\n",
       "      <td>96.0</td>\n",
       "      <td>2013</td>\n",
       "      <td>Alabama</td>\n",
       "      <td>&lt; 1 Year</td>\n",
       "      <td>Male</td>\n",
       "      <td>American Indian/Alaska Native (Non-Hispanic)</td>\n",
       "    </tr>\n",
       "    <tr>\n",
       "      <th>5600</th>\n",
       "      <td>123.0</td>\n",
       "      <td>2014</td>\n",
       "      <td>Alabama</td>\n",
       "      <td>&lt; 1 Year</td>\n",
       "      <td>Male</td>\n",
       "      <td>American Indian/Alaska Native (Non-Hispanic)</td>\n",
       "    </tr>\n",
       "    <tr>\n",
       "      <th>11200</th>\n",
       "      <td>78.0</td>\n",
       "      <td>2015</td>\n",
       "      <td>Alabama</td>\n",
       "      <td>&lt; 1 Year</td>\n",
       "      <td>Male</td>\n",
       "      <td>American Indian/Alaska Native (Non-Hispanic)</td>\n",
       "    </tr>\n",
       "    <tr>\n",
       "      <th>16800</th>\n",
       "      <td>85.0</td>\n",
       "      <td>2016</td>\n",
       "      <td>Alabama</td>\n",
       "      <td>&lt; 1 Year</td>\n",
       "      <td>Male</td>\n",
       "      <td>American Indian/Alaska Native (Non-Hispanic)</td>\n",
       "    </tr>\n",
       "    <tr>\n",
       "      <th>22400</th>\n",
       "      <td>95.0</td>\n",
       "      <td>2017</td>\n",
       "      <td>Alabama</td>\n",
       "      <td>&lt; 1 Year</td>\n",
       "      <td>Male</td>\n",
       "      <td>American Indian/Alaska Native (Non-Hispanic)</td>\n",
       "    </tr>\n",
       "  </tbody>\n",
       "</table>\n",
       "</div>"
      ],
      "text/plain": [
       "       population  year    state age_group gender  \\\n",
       "0            96.0  2013  Alabama  < 1 Year   Male   \n",
       "5600        123.0  2014  Alabama  < 1 Year   Male   \n",
       "11200        78.0  2015  Alabama  < 1 Year   Male   \n",
       "16800        85.0  2016  Alabama  < 1 Year   Male   \n",
       "22400        95.0  2017  Alabama  < 1 Year   Male   \n",
       "\n",
       "                                          ethnicity  \n",
       "0      American Indian/Alaska Native (Non-Hispanic)  \n",
       "5600   American Indian/Alaska Native (Non-Hispanic)  \n",
       "11200  American Indian/Alaska Native (Non-Hispanic)  \n",
       "16800  American Indian/Alaska Native (Non-Hispanic)  \n",
       "22400  American Indian/Alaska Native (Non-Hispanic)  "
      ]
     },
     "execution_count": 9,
     "metadata": {},
     "output_type": "execute_result"
    }
   ],
   "source": [
    "census.head()"
   ]
  },
  {
   "cell_type": "code",
   "execution_count": 10,
   "id": "80e89ee8",
   "metadata": {},
   "outputs": [
    {
     "data": {
      "text/html": [
       "<div>\n",
       "<style scoped>\n",
       "    .dataframe tbody tr th:only-of-type {\n",
       "        vertical-align: middle;\n",
       "    }\n",
       "\n",
       "    .dataframe tbody tr th {\n",
       "        vertical-align: top;\n",
       "    }\n",
       "\n",
       "    .dataframe thead th {\n",
       "        text-align: right;\n",
       "    }\n",
       "</style>\n",
       "<table border=\"1\" class=\"dataframe\">\n",
       "  <thead>\n",
       "    <tr style=\"text-align: right;\">\n",
       "      <th></th>\n",
       "      <th>population</th>\n",
       "      <th>year</th>\n",
       "      <th>state</th>\n",
       "      <th>age_group</th>\n",
       "      <th>gender</th>\n",
       "      <th>ethnicity</th>\n",
       "    </tr>\n",
       "  </thead>\n",
       "  <tbody>\n",
       "    <tr>\n",
       "      <th>33599</th>\n",
       "      <td>45781.0</td>\n",
       "      <td>2018</td>\n",
       "      <td>Wyoming</td>\n",
       "      <td>65+</td>\n",
       "      <td>Female</td>\n",
       "      <td>White (Non-Hispanic)</td>\n",
       "    </tr>\n",
       "    <tr>\n",
       "      <th>39199</th>\n",
       "      <td>47316.0</td>\n",
       "      <td>2019</td>\n",
       "      <td>Wyoming</td>\n",
       "      <td>65+</td>\n",
       "      <td>Female</td>\n",
       "      <td>White (Non-Hispanic)</td>\n",
       "    </tr>\n",
       "    <tr>\n",
       "      <th>44799</th>\n",
       "      <td>47690.0</td>\n",
       "      <td>2020</td>\n",
       "      <td>Wyoming</td>\n",
       "      <td>65+</td>\n",
       "      <td>Female</td>\n",
       "      <td>White (Non-Hispanic)</td>\n",
       "    </tr>\n",
       "    <tr>\n",
       "      <th>50399</th>\n",
       "      <td>49349.0</td>\n",
       "      <td>2021</td>\n",
       "      <td>Wyoming</td>\n",
       "      <td>65+</td>\n",
       "      <td>Female</td>\n",
       "      <td>White (Non-Hispanic)</td>\n",
       "    </tr>\n",
       "    <tr>\n",
       "      <th>55999</th>\n",
       "      <td>50885.0</td>\n",
       "      <td>2022</td>\n",
       "      <td>Wyoming</td>\n",
       "      <td>65+</td>\n",
       "      <td>Female</td>\n",
       "      <td>White (Non-Hispanic)</td>\n",
       "    </tr>\n",
       "  </tbody>\n",
       "</table>\n",
       "</div>"
      ],
      "text/plain": [
       "       population  year    state age_group  gender             ethnicity\n",
       "33599     45781.0  2018  Wyoming       65+  Female  White (Non-Hispanic)\n",
       "39199     47316.0  2019  Wyoming       65+  Female  White (Non-Hispanic)\n",
       "44799     47690.0  2020  Wyoming       65+  Female  White (Non-Hispanic)\n",
       "50399     49349.0  2021  Wyoming       65+  Female  White (Non-Hispanic)\n",
       "55999     50885.0  2022  Wyoming       65+  Female  White (Non-Hispanic)"
      ]
     },
     "execution_count": 10,
     "metadata": {},
     "output_type": "execute_result"
    }
   ],
   "source": [
    "census.tail()"
   ]
  },
  {
   "cell_type": "markdown",
   "id": "baa1a917",
   "metadata": {},
   "source": [
    "Data for both dataframes appears as expected."
   ]
  },
  {
   "cell_type": "code",
   "execution_count": 11,
   "id": "585a91a9",
   "metadata": {
    "scrolled": true
   },
   "outputs": [
    {
     "name": "stdout",
     "output_type": "stream",
     "text": [
      "<class 'pandas.core.frame.DataFrame'>\n",
      "Int64Index: 76160 entries, 0 to 76159\n",
      "Data columns (total 7 columns):\n",
      " #   Column         Non-Null Count  Dtype   \n",
      "---  ------         --------------  -----   \n",
      " 0   number_donors  76160 non-null  int16   \n",
      " 1   donor_type     76160 non-null  category\n",
      " 2   year           76160 non-null  int16   \n",
      " 3   state          76160 non-null  category\n",
      " 4   age_group      76160 non-null  category\n",
      " 5   gender         76160 non-null  category\n",
      " 6   ethnicity      76160 non-null  category\n",
      "dtypes: category(5), int16(2)\n",
      "memory usage: 1.2 MB\n"
     ]
    }
   ],
   "source": [
    "donors.info()"
   ]
  },
  {
   "cell_type": "code",
   "execution_count": 12,
   "id": "3a4213be",
   "metadata": {},
   "outputs": [
    {
     "name": "stdout",
     "output_type": "stream",
     "text": [
      "<class 'pandas.core.frame.DataFrame'>\n",
      "Int64Index: 56000 entries, 0 to 55999\n",
      "Data columns (total 6 columns):\n",
      " #   Column      Non-Null Count  Dtype   \n",
      "---  ------      --------------  -----   \n",
      " 0   population  56000 non-null  float64 \n",
      " 1   year        56000 non-null  int16   \n",
      " 2   state       56000 non-null  category\n",
      " 3   age_group   56000 non-null  category\n",
      " 4   gender      56000 non-null  category\n",
      " 5   ethnicity   56000 non-null  category\n",
      "dtypes: category(4), float64(1), int16(1)\n",
      "memory usage: 1.2 MB\n"
     ]
    }
   ],
   "source": [
    "census.info()"
   ]
  },
  {
   "cell_type": "markdown",
   "id": "b588ee7a",
   "metadata": {},
   "source": [
    "All of the column names were extracted correctly.  The datatypes for corresponding columns match up correctly."
   ]
  },
  {
   "cell_type": "markdown",
   "id": "f0da441b",
   "metadata": {},
   "source": [
    "### 0.4 Prep for merge"
   ]
  },
  {
   "cell_type": "markdown",
   "id": "60787aea",
   "metadata": {},
   "source": [
    "Step to preparing for this merge:\n",
    "\n",
    "1 ) Split the donors dataframe into two -- living donors and deceased donors.\n",
    "\n",
    "2 ) Create a key column for each of the three dataframes (living, deceased, census) that is made by concatinating year-state-age_group-gender-ethnicity."
   ]
  },
  {
   "cell_type": "code",
   "execution_count": 13,
   "id": "8efc8b74",
   "metadata": {},
   "outputs": [
    {
     "data": {
      "text/plain": [
       "Deceased    49476\n",
       "Living      26684\n",
       "Name: donor_type, dtype: int64"
      ]
     },
     "execution_count": 13,
     "metadata": {},
     "output_type": "execute_result"
    }
   ],
   "source": [
    "# Confirming how many living and deceased donors are in the orignal dataframe.\n",
    "donors['donor_type'].value_counts()"
   ]
  },
  {
   "cell_type": "code",
   "execution_count": 14,
   "id": "69e36ca7",
   "metadata": {},
   "outputs": [
    {
     "data": {
      "text/plain": [
       "(26684, 7)"
      ]
     },
     "execution_count": 14,
     "metadata": {},
     "output_type": "execute_result"
    }
   ],
   "source": [
    "# Creating a dataframe just for the living donors\n",
    "living_d = donors[donors['donor_type']=='Living']\n",
    "living_d.shape"
   ]
  },
  {
   "cell_type": "code",
   "execution_count": 15,
   "id": "8416c27a",
   "metadata": {},
   "outputs": [
    {
     "data": {
      "text/plain": [
       "Living      26684\n",
       "Deceased        0\n",
       "Name: donor_type, dtype: int64"
      ]
     },
     "execution_count": 15,
     "metadata": {},
     "output_type": "execute_result"
    }
   ],
   "source": [
    "# Confirming the df\n",
    "living_d['donor_type'].value_counts()"
   ]
  },
  {
   "cell_type": "code",
   "execution_count": 16,
   "id": "00e397ac",
   "metadata": {},
   "outputs": [
    {
     "data": {
      "text/plain": [
       "(49476, 7)"
      ]
     },
     "execution_count": 16,
     "metadata": {},
     "output_type": "execute_result"
    }
   ],
   "source": [
    "# Creating a dataframe just for the deceased donors\n",
    "deceased_d = donors[donors['donor_type']=='Deceased']\n",
    "deceased_d.shape"
   ]
  },
  {
   "cell_type": "code",
   "execution_count": 17,
   "id": "7e1cae03",
   "metadata": {},
   "outputs": [
    {
     "data": {
      "text/plain": [
       "Deceased    49476\n",
       "Living          0\n",
       "Name: donor_type, dtype: int64"
      ]
     },
     "execution_count": 17,
     "metadata": {},
     "output_type": "execute_result"
    }
   ],
   "source": [
    "# Confirming the df\n",
    "deceased_d['donor_type'].value_counts()"
   ]
  },
  {
   "cell_type": "markdown",
   "id": "90088f58",
   "metadata": {},
   "source": [
    "Each of these new subset looks as expected"
   ]
  },
  {
   "cell_type": "markdown",
   "id": "a2abdced",
   "metadata": {},
   "source": [
    "#### Creating key columns of year-state-age_group-gender-ethnicity"
   ]
  },
  {
   "cell_type": "code",
   "execution_count": 18,
   "id": "7831eff3",
   "metadata": {
    "scrolled": true
   },
   "outputs": [
    {
     "name": "stderr",
     "output_type": "stream",
     "text": [
      "C:\\Users\\CJ\\AppData\\Local\\Temp\\ipykernel_7584\\3695180511.py:2: SettingWithCopyWarning: \n",
      "A value is trying to be set on a copy of a slice from a DataFrame.\n",
      "Try using .loc[row_indexer,col_indexer] = value instead\n",
      "\n",
      "See the caveats in the documentation: https://pandas.pydata.org/pandas-docs/stable/user_guide/indexing.html#returning-a-view-versus-a-copy\n",
      "  living_d['key'] = (living_d['year'].astype(str)+'-'+living_d['state'].astype(str)+'-'+living_d['age_group'].astype(str)+'-'+living_d['gender'].astype(str)+'-'+living_d['ethnicity'].astype(str)).str.replace(\" \", \"\")\n"
     ]
    }
   ],
   "source": [
    "# Create key\n",
    "living_d['key'] = (living_d['year'].astype(str)+'-'+living_d['state'].astype(str)+'-'+living_d['age_group'].astype(str)+'-'+living_d['gender'].astype(str)+'-'+living_d['ethnicity'].astype(str)).str.replace(\" \", \"\")"
   ]
  },
  {
   "cell_type": "code",
   "execution_count": 19,
   "id": "18e93c96",
   "metadata": {},
   "outputs": [
    {
     "data": {
      "text/html": [
       "<div>\n",
       "<style scoped>\n",
       "    .dataframe tbody tr th:only-of-type {\n",
       "        vertical-align: middle;\n",
       "    }\n",
       "\n",
       "    .dataframe tbody tr th {\n",
       "        vertical-align: top;\n",
       "    }\n",
       "\n",
       "    .dataframe thead th {\n",
       "        text-align: right;\n",
       "    }\n",
       "</style>\n",
       "<table border=\"1\" class=\"dataframe\">\n",
       "  <thead>\n",
       "    <tr style=\"text-align: right;\">\n",
       "      <th></th>\n",
       "      <th>number_donors</th>\n",
       "      <th>donor_type</th>\n",
       "      <th>year</th>\n",
       "      <th>state</th>\n",
       "      <th>age_group</th>\n",
       "      <th>gender</th>\n",
       "      <th>ethnicity</th>\n",
       "      <th>key</th>\n",
       "    </tr>\n",
       "  </thead>\n",
       "  <tbody>\n",
       "    <tr>\n",
       "      <th>0</th>\n",
       "      <td>8</td>\n",
       "      <td>Living</td>\n",
       "      <td>2022</td>\n",
       "      <td>Alabama</td>\n",
       "      <td>18-34 Years</td>\n",
       "      <td>Male</td>\n",
       "      <td>White (Non-Hispanic)</td>\n",
       "      <td>2022-Alabama-18-34Years-Male-White(Non-Hispanic)</td>\n",
       "    </tr>\n",
       "    <tr>\n",
       "      <th>5440</th>\n",
       "      <td>1</td>\n",
       "      <td>Living</td>\n",
       "      <td>2022</td>\n",
       "      <td>Alabama</td>\n",
       "      <td>18-34 Years</td>\n",
       "      <td>Male</td>\n",
       "      <td>Black (Non-Hispanic)</td>\n",
       "      <td>2022-Alabama-18-34Years-Male-Black(Non-Hispanic)</td>\n",
       "    </tr>\n",
       "    <tr>\n",
       "      <th>10880</th>\n",
       "      <td>0</td>\n",
       "      <td>Living</td>\n",
       "      <td>2022</td>\n",
       "      <td>Alabama</td>\n",
       "      <td>18-34 Years</td>\n",
       "      <td>Male</td>\n",
       "      <td>Hispanic/Latino</td>\n",
       "      <td>2022-Alabama-18-34Years-Male-Hispanic/Latino</td>\n",
       "    </tr>\n",
       "    <tr>\n",
       "      <th>16320</th>\n",
       "      <td>0</td>\n",
       "      <td>Living</td>\n",
       "      <td>2022</td>\n",
       "      <td>Alabama</td>\n",
       "      <td>18-34 Years</td>\n",
       "      <td>Male</td>\n",
       "      <td>Asian (Non-Hispanic)</td>\n",
       "      <td>2022-Alabama-18-34Years-Male-Asian(Non-Hispanic)</td>\n",
       "    </tr>\n",
       "    <tr>\n",
       "      <th>21760</th>\n",
       "      <td>0</td>\n",
       "      <td>Living</td>\n",
       "      <td>2022</td>\n",
       "      <td>Alabama</td>\n",
       "      <td>18-34 Years</td>\n",
       "      <td>Male</td>\n",
       "      <td>American Indian/Alaska Native (Non-Hispanic)</td>\n",
       "      <td>2022-Alabama-18-34Years-Male-AmericanIndian/Al...</td>\n",
       "    </tr>\n",
       "  </tbody>\n",
       "</table>\n",
       "</div>"
      ],
      "text/plain": [
       "       number_donors donor_type  year    state    age_group gender  \\\n",
       "0                  8     Living  2022  Alabama  18-34 Years   Male   \n",
       "5440               1     Living  2022  Alabama  18-34 Years   Male   \n",
       "10880              0     Living  2022  Alabama  18-34 Years   Male   \n",
       "16320              0     Living  2022  Alabama  18-34 Years   Male   \n",
       "21760              0     Living  2022  Alabama  18-34 Years   Male   \n",
       "\n",
       "                                          ethnicity  \\\n",
       "0                              White (Non-Hispanic)   \n",
       "5440                           Black (Non-Hispanic)   \n",
       "10880                               Hispanic/Latino   \n",
       "16320                          Asian (Non-Hispanic)   \n",
       "21760  American Indian/Alaska Native (Non-Hispanic)   \n",
       "\n",
       "                                                     key  \n",
       "0       2022-Alabama-18-34Years-Male-White(Non-Hispanic)  \n",
       "5440    2022-Alabama-18-34Years-Male-Black(Non-Hispanic)  \n",
       "10880       2022-Alabama-18-34Years-Male-Hispanic/Latino  \n",
       "16320   2022-Alabama-18-34Years-Male-Asian(Non-Hispanic)  \n",
       "21760  2022-Alabama-18-34Years-Male-AmericanIndian/Al...  "
      ]
     },
     "execution_count": 19,
     "metadata": {},
     "output_type": "execute_result"
    }
   ],
   "source": [
    "# Confirm key looks generally correct\n",
    "living_d.head()"
   ]
  },
  {
   "cell_type": "code",
   "execution_count": 20,
   "id": "580676b2",
   "metadata": {},
   "outputs": [
    {
     "data": {
      "text/html": [
       "<div>\n",
       "<style scoped>\n",
       "    .dataframe tbody tr th:only-of-type {\n",
       "        vertical-align: middle;\n",
       "    }\n",
       "\n",
       "    .dataframe tbody tr th {\n",
       "        vertical-align: top;\n",
       "    }\n",
       "\n",
       "    .dataframe thead th {\n",
       "        text-align: right;\n",
       "    }\n",
       "</style>\n",
       "<table border=\"1\" class=\"dataframe\">\n",
       "  <thead>\n",
       "    <tr style=\"text-align: right;\">\n",
       "      <th></th>\n",
       "      <th>number_donors</th>\n",
       "      <th>donor_type</th>\n",
       "      <th>year</th>\n",
       "      <th>state</th>\n",
       "      <th>age_group</th>\n",
       "      <th>gender</th>\n",
       "      <th>ethnicity</th>\n",
       "      <th>key</th>\n",
       "    </tr>\n",
       "  </thead>\n",
       "  <tbody>\n",
       "    <tr>\n",
       "      <th>50865</th>\n",
       "      <td>0</td>\n",
       "      <td>Living</td>\n",
       "      <td>2013</td>\n",
       "      <td>Wyoming</td>\n",
       "      <td>50-64 Years</td>\n",
       "      <td>Female</td>\n",
       "      <td>Hispanic/Latino</td>\n",
       "      <td>2013-Wyoming-50-64Years-Female-Hispanic/Latino</td>\n",
       "    </tr>\n",
       "    <tr>\n",
       "      <th>56305</th>\n",
       "      <td>0</td>\n",
       "      <td>Living</td>\n",
       "      <td>2013</td>\n",
       "      <td>Wyoming</td>\n",
       "      <td>50-64 Years</td>\n",
       "      <td>Female</td>\n",
       "      <td>Asian (Non-Hispanic)</td>\n",
       "      <td>2013-Wyoming-50-64Years-Female-Asian(Non-Hispa...</td>\n",
       "    </tr>\n",
       "    <tr>\n",
       "      <th>61745</th>\n",
       "      <td>0</td>\n",
       "      <td>Living</td>\n",
       "      <td>2013</td>\n",
       "      <td>Wyoming</td>\n",
       "      <td>50-64 Years</td>\n",
       "      <td>Female</td>\n",
       "      <td>American Indian/Alaska Native (Non-Hispanic)</td>\n",
       "      <td>2013-Wyoming-50-64Years-Female-AmericanIndian/...</td>\n",
       "    </tr>\n",
       "    <tr>\n",
       "      <th>67185</th>\n",
       "      <td>0</td>\n",
       "      <td>Living</td>\n",
       "      <td>2013</td>\n",
       "      <td>Wyoming</td>\n",
       "      <td>50-64 Years</td>\n",
       "      <td>Female</td>\n",
       "      <td>Pacific Islander (Non-Hispanic)</td>\n",
       "      <td>2013-Wyoming-50-64Years-Female-PacificIslander...</td>\n",
       "    </tr>\n",
       "    <tr>\n",
       "      <th>72625</th>\n",
       "      <td>0</td>\n",
       "      <td>Living</td>\n",
       "      <td>2013</td>\n",
       "      <td>Wyoming</td>\n",
       "      <td>50-64 Years</td>\n",
       "      <td>Female</td>\n",
       "      <td>Multiracial (Non-Hispanic)</td>\n",
       "      <td>2013-Wyoming-50-64Years-Female-Multiracial(Non...</td>\n",
       "    </tr>\n",
       "  </tbody>\n",
       "</table>\n",
       "</div>"
      ],
      "text/plain": [
       "       number_donors donor_type  year    state    age_group  gender  \\\n",
       "50865              0     Living  2013  Wyoming  50-64 Years  Female   \n",
       "56305              0     Living  2013  Wyoming  50-64 Years  Female   \n",
       "61745              0     Living  2013  Wyoming  50-64 Years  Female   \n",
       "67185              0     Living  2013  Wyoming  50-64 Years  Female   \n",
       "72625              0     Living  2013  Wyoming  50-64 Years  Female   \n",
       "\n",
       "                                          ethnicity  \\\n",
       "50865                               Hispanic/Latino   \n",
       "56305                          Asian (Non-Hispanic)   \n",
       "61745  American Indian/Alaska Native (Non-Hispanic)   \n",
       "67185               Pacific Islander (Non-Hispanic)   \n",
       "72625                    Multiracial (Non-Hispanic)   \n",
       "\n",
       "                                                     key  \n",
       "50865     2013-Wyoming-50-64Years-Female-Hispanic/Latino  \n",
       "56305  2013-Wyoming-50-64Years-Female-Asian(Non-Hispa...  \n",
       "61745  2013-Wyoming-50-64Years-Female-AmericanIndian/...  \n",
       "67185  2013-Wyoming-50-64Years-Female-PacificIslander...  \n",
       "72625  2013-Wyoming-50-64Years-Female-Multiracial(Non...  "
      ]
     },
     "execution_count": 20,
     "metadata": {},
     "output_type": "execute_result"
    }
   ],
   "source": [
    "living_d.tail()"
   ]
  },
  {
   "cell_type": "code",
   "execution_count": 21,
   "id": "928470d7",
   "metadata": {},
   "outputs": [
    {
     "name": "stderr",
     "output_type": "stream",
     "text": [
      "C:\\Users\\CJ\\AppData\\Local\\Temp\\ipykernel_7584\\4008683233.py:1: SettingWithCopyWarning: \n",
      "A value is trying to be set on a copy of a slice from a DataFrame.\n",
      "Try using .loc[row_indexer,col_indexer] = value instead\n",
      "\n",
      "See the caveats in the documentation: https://pandas.pydata.org/pandas-docs/stable/user_guide/indexing.html#returning-a-view-versus-a-copy\n",
      "  deceased_d['key'] = (deceased_d['year'].astype(str)+'-'+deceased_d['state'].astype(str).str.replace(\" \", \"\")+'-'+deceased_d['age_group'].astype(str)+'-'+deceased_d['gender'].astype(str)+'-'+deceased_d['ethnicity'].astype(str)).str.replace(\" \", \"\")\n"
     ]
    }
   ],
   "source": [
    "deceased_d['key'] = (deceased_d['year'].astype(str)+'-'+deceased_d['state'].astype(str).str.replace(\" \", \"\")+'-'+deceased_d['age_group'].astype(str)+'-'+deceased_d['gender'].astype(str)+'-'+deceased_d['ethnicity'].astype(str)).str.replace(\" \", \"\")"
   ]
  },
  {
   "cell_type": "code",
   "execution_count": 22,
   "id": "21b9381c",
   "metadata": {},
   "outputs": [
    {
     "data": {
      "text/html": [
       "<div>\n",
       "<style scoped>\n",
       "    .dataframe tbody tr th:only-of-type {\n",
       "        vertical-align: middle;\n",
       "    }\n",
       "\n",
       "    .dataframe tbody tr th {\n",
       "        vertical-align: top;\n",
       "    }\n",
       "\n",
       "    .dataframe thead th {\n",
       "        text-align: right;\n",
       "    }\n",
       "</style>\n",
       "<table border=\"1\" class=\"dataframe\">\n",
       "  <thead>\n",
       "    <tr style=\"text-align: right;\">\n",
       "      <th></th>\n",
       "      <th>number_donors</th>\n",
       "      <th>donor_type</th>\n",
       "      <th>year</th>\n",
       "      <th>state</th>\n",
       "      <th>age_group</th>\n",
       "      <th>gender</th>\n",
       "      <th>ethnicity</th>\n",
       "      <th>key</th>\n",
       "    </tr>\n",
       "  </thead>\n",
       "  <tbody>\n",
       "    <tr>\n",
       "      <th>1906</th>\n",
       "      <td>2</td>\n",
       "      <td>Deceased</td>\n",
       "      <td>2022</td>\n",
       "      <td>Alabama</td>\n",
       "      <td>&lt; 1 Year</td>\n",
       "      <td>Male</td>\n",
       "      <td>White (Non-Hispanic)</td>\n",
       "      <td>2022-Alabama-&lt;1Year-Male-White(Non-Hispanic)</td>\n",
       "    </tr>\n",
       "    <tr>\n",
       "      <th>7346</th>\n",
       "      <td>0</td>\n",
       "      <td>Deceased</td>\n",
       "      <td>2022</td>\n",
       "      <td>Alabama</td>\n",
       "      <td>&lt; 1 Year</td>\n",
       "      <td>Male</td>\n",
       "      <td>Black (Non-Hispanic)</td>\n",
       "      <td>2022-Alabama-&lt;1Year-Male-Black(Non-Hispanic)</td>\n",
       "    </tr>\n",
       "    <tr>\n",
       "      <th>12786</th>\n",
       "      <td>0</td>\n",
       "      <td>Deceased</td>\n",
       "      <td>2022</td>\n",
       "      <td>Alabama</td>\n",
       "      <td>&lt; 1 Year</td>\n",
       "      <td>Male</td>\n",
       "      <td>Hispanic/Latino</td>\n",
       "      <td>2022-Alabama-&lt;1Year-Male-Hispanic/Latino</td>\n",
       "    </tr>\n",
       "    <tr>\n",
       "      <th>18226</th>\n",
       "      <td>0</td>\n",
       "      <td>Deceased</td>\n",
       "      <td>2022</td>\n",
       "      <td>Alabama</td>\n",
       "      <td>&lt; 1 Year</td>\n",
       "      <td>Male</td>\n",
       "      <td>Asian (Non-Hispanic)</td>\n",
       "      <td>2022-Alabama-&lt;1Year-Male-Asian(Non-Hispanic)</td>\n",
       "    </tr>\n",
       "    <tr>\n",
       "      <th>23666</th>\n",
       "      <td>0</td>\n",
       "      <td>Deceased</td>\n",
       "      <td>2022</td>\n",
       "      <td>Alabama</td>\n",
       "      <td>&lt; 1 Year</td>\n",
       "      <td>Male</td>\n",
       "      <td>American Indian/Alaska Native (Non-Hispanic)</td>\n",
       "      <td>2022-Alabama-&lt;1Year-Male-AmericanIndian/Alaska...</td>\n",
       "    </tr>\n",
       "  </tbody>\n",
       "</table>\n",
       "</div>"
      ],
      "text/plain": [
       "       number_donors donor_type  year    state age_group gender  \\\n",
       "1906               2   Deceased  2022  Alabama  < 1 Year   Male   \n",
       "7346               0   Deceased  2022  Alabama  < 1 Year   Male   \n",
       "12786              0   Deceased  2022  Alabama  < 1 Year   Male   \n",
       "18226              0   Deceased  2022  Alabama  < 1 Year   Male   \n",
       "23666              0   Deceased  2022  Alabama  < 1 Year   Male   \n",
       "\n",
       "                                          ethnicity  \\\n",
       "1906                           White (Non-Hispanic)   \n",
       "7346                           Black (Non-Hispanic)   \n",
       "12786                               Hispanic/Latino   \n",
       "18226                          Asian (Non-Hispanic)   \n",
       "23666  American Indian/Alaska Native (Non-Hispanic)   \n",
       "\n",
       "                                                     key  \n",
       "1906        2022-Alabama-<1Year-Male-White(Non-Hispanic)  \n",
       "7346        2022-Alabama-<1Year-Male-Black(Non-Hispanic)  \n",
       "12786           2022-Alabama-<1Year-Male-Hispanic/Latino  \n",
       "18226       2022-Alabama-<1Year-Male-Asian(Non-Hispanic)  \n",
       "23666  2022-Alabama-<1Year-Male-AmericanIndian/Alaska...  "
      ]
     },
     "execution_count": 22,
     "metadata": {},
     "output_type": "execute_result"
    }
   ],
   "source": [
    "deceased_d.head()"
   ]
  },
  {
   "cell_type": "code",
   "execution_count": 23,
   "id": "07cd6002",
   "metadata": {},
   "outputs": [
    {
     "data": {
      "text/html": [
       "<div>\n",
       "<style scoped>\n",
       "    .dataframe tbody tr th:only-of-type {\n",
       "        vertical-align: middle;\n",
       "    }\n",
       "\n",
       "    .dataframe tbody tr th {\n",
       "        vertical-align: top;\n",
       "    }\n",
       "\n",
       "    .dataframe thead th {\n",
       "        text-align: right;\n",
       "    }\n",
       "</style>\n",
       "<table border=\"1\" class=\"dataframe\">\n",
       "  <thead>\n",
       "    <tr style=\"text-align: right;\">\n",
       "      <th></th>\n",
       "      <th>number_donors</th>\n",
       "      <th>donor_type</th>\n",
       "      <th>year</th>\n",
       "      <th>state</th>\n",
       "      <th>age_group</th>\n",
       "      <th>gender</th>\n",
       "      <th>ethnicity</th>\n",
       "      <th>key</th>\n",
       "    </tr>\n",
       "  </thead>\n",
       "  <tbody>\n",
       "    <tr>\n",
       "      <th>54399</th>\n",
       "      <td>0</td>\n",
       "      <td>Deceased</td>\n",
       "      <td>2013</td>\n",
       "      <td>Wyoming</td>\n",
       "      <td>50-64 Years</td>\n",
       "      <td>Female</td>\n",
       "      <td>Hispanic/Latino</td>\n",
       "      <td>2013-Wyoming-50-64Years-Female-Hispanic/Latino</td>\n",
       "    </tr>\n",
       "    <tr>\n",
       "      <th>59839</th>\n",
       "      <td>0</td>\n",
       "      <td>Deceased</td>\n",
       "      <td>2013</td>\n",
       "      <td>Wyoming</td>\n",
       "      <td>50-64 Years</td>\n",
       "      <td>Female</td>\n",
       "      <td>Asian (Non-Hispanic)</td>\n",
       "      <td>2013-Wyoming-50-64Years-Female-Asian(Non-Hispa...</td>\n",
       "    </tr>\n",
       "    <tr>\n",
       "      <th>65279</th>\n",
       "      <td>1</td>\n",
       "      <td>Deceased</td>\n",
       "      <td>2013</td>\n",
       "      <td>Wyoming</td>\n",
       "      <td>50-64 Years</td>\n",
       "      <td>Female</td>\n",
       "      <td>American Indian/Alaska Native (Non-Hispanic)</td>\n",
       "      <td>2013-Wyoming-50-64Years-Female-AmericanIndian/...</td>\n",
       "    </tr>\n",
       "    <tr>\n",
       "      <th>70719</th>\n",
       "      <td>0</td>\n",
       "      <td>Deceased</td>\n",
       "      <td>2013</td>\n",
       "      <td>Wyoming</td>\n",
       "      <td>50-64 Years</td>\n",
       "      <td>Female</td>\n",
       "      <td>Pacific Islander (Non-Hispanic)</td>\n",
       "      <td>2013-Wyoming-50-64Years-Female-PacificIslander...</td>\n",
       "    </tr>\n",
       "    <tr>\n",
       "      <th>76159</th>\n",
       "      <td>0</td>\n",
       "      <td>Deceased</td>\n",
       "      <td>2013</td>\n",
       "      <td>Wyoming</td>\n",
       "      <td>50-64 Years</td>\n",
       "      <td>Female</td>\n",
       "      <td>Multiracial (Non-Hispanic)</td>\n",
       "      <td>2013-Wyoming-50-64Years-Female-Multiracial(Non...</td>\n",
       "    </tr>\n",
       "  </tbody>\n",
       "</table>\n",
       "</div>"
      ],
      "text/plain": [
       "       number_donors donor_type  year    state    age_group  gender  \\\n",
       "54399              0   Deceased  2013  Wyoming  50-64 Years  Female   \n",
       "59839              0   Deceased  2013  Wyoming  50-64 Years  Female   \n",
       "65279              1   Deceased  2013  Wyoming  50-64 Years  Female   \n",
       "70719              0   Deceased  2013  Wyoming  50-64 Years  Female   \n",
       "76159              0   Deceased  2013  Wyoming  50-64 Years  Female   \n",
       "\n",
       "                                          ethnicity  \\\n",
       "54399                               Hispanic/Latino   \n",
       "59839                          Asian (Non-Hispanic)   \n",
       "65279  American Indian/Alaska Native (Non-Hispanic)   \n",
       "70719               Pacific Islander (Non-Hispanic)   \n",
       "76159                    Multiracial (Non-Hispanic)   \n",
       "\n",
       "                                                     key  \n",
       "54399     2013-Wyoming-50-64Years-Female-Hispanic/Latino  \n",
       "59839  2013-Wyoming-50-64Years-Female-Asian(Non-Hispa...  \n",
       "65279  2013-Wyoming-50-64Years-Female-AmericanIndian/...  \n",
       "70719  2013-Wyoming-50-64Years-Female-PacificIslander...  \n",
       "76159  2013-Wyoming-50-64Years-Female-Multiracial(Non...  "
      ]
     },
     "execution_count": 23,
     "metadata": {},
     "output_type": "execute_result"
    }
   ],
   "source": [
    "deceased_d.tail()"
   ]
  },
  {
   "cell_type": "code",
   "execution_count": 24,
   "id": "68ca4de3",
   "metadata": {},
   "outputs": [],
   "source": [
    "census['key'] = (census['year'].astype(str)+'-'+census['state'].astype(str)+'-'+census['age_group'].astype(str)+'-'+census['gender'].astype(str)+'-'+census['ethnicity'].astype(str)).str.replace(\" \", \"\")"
   ]
  },
  {
   "cell_type": "code",
   "execution_count": 25,
   "id": "cebdc8ef",
   "metadata": {},
   "outputs": [
    {
     "data": {
      "text/html": [
       "<div>\n",
       "<style scoped>\n",
       "    .dataframe tbody tr th:only-of-type {\n",
       "        vertical-align: middle;\n",
       "    }\n",
       "\n",
       "    .dataframe tbody tr th {\n",
       "        vertical-align: top;\n",
       "    }\n",
       "\n",
       "    .dataframe thead th {\n",
       "        text-align: right;\n",
       "    }\n",
       "</style>\n",
       "<table border=\"1\" class=\"dataframe\">\n",
       "  <thead>\n",
       "    <tr style=\"text-align: right;\">\n",
       "      <th></th>\n",
       "      <th>population</th>\n",
       "      <th>year</th>\n",
       "      <th>state</th>\n",
       "      <th>age_group</th>\n",
       "      <th>gender</th>\n",
       "      <th>ethnicity</th>\n",
       "      <th>key</th>\n",
       "    </tr>\n",
       "  </thead>\n",
       "  <tbody>\n",
       "    <tr>\n",
       "      <th>0</th>\n",
       "      <td>96.0</td>\n",
       "      <td>2013</td>\n",
       "      <td>Alabama</td>\n",
       "      <td>&lt; 1 Year</td>\n",
       "      <td>Male</td>\n",
       "      <td>American Indian/Alaska Native (Non-Hispanic)</td>\n",
       "      <td>2013-Alabama-&lt;1Year-Male-AmericanIndian/Alaska...</td>\n",
       "    </tr>\n",
       "    <tr>\n",
       "      <th>5600</th>\n",
       "      <td>123.0</td>\n",
       "      <td>2014</td>\n",
       "      <td>Alabama</td>\n",
       "      <td>&lt; 1 Year</td>\n",
       "      <td>Male</td>\n",
       "      <td>American Indian/Alaska Native (Non-Hispanic)</td>\n",
       "      <td>2014-Alabama-&lt;1Year-Male-AmericanIndian/Alaska...</td>\n",
       "    </tr>\n",
       "    <tr>\n",
       "      <th>11200</th>\n",
       "      <td>78.0</td>\n",
       "      <td>2015</td>\n",
       "      <td>Alabama</td>\n",
       "      <td>&lt; 1 Year</td>\n",
       "      <td>Male</td>\n",
       "      <td>American Indian/Alaska Native (Non-Hispanic)</td>\n",
       "      <td>2015-Alabama-&lt;1Year-Male-AmericanIndian/Alaska...</td>\n",
       "    </tr>\n",
       "    <tr>\n",
       "      <th>16800</th>\n",
       "      <td>85.0</td>\n",
       "      <td>2016</td>\n",
       "      <td>Alabama</td>\n",
       "      <td>&lt; 1 Year</td>\n",
       "      <td>Male</td>\n",
       "      <td>American Indian/Alaska Native (Non-Hispanic)</td>\n",
       "      <td>2016-Alabama-&lt;1Year-Male-AmericanIndian/Alaska...</td>\n",
       "    </tr>\n",
       "    <tr>\n",
       "      <th>22400</th>\n",
       "      <td>95.0</td>\n",
       "      <td>2017</td>\n",
       "      <td>Alabama</td>\n",
       "      <td>&lt; 1 Year</td>\n",
       "      <td>Male</td>\n",
       "      <td>American Indian/Alaska Native (Non-Hispanic)</td>\n",
       "      <td>2017-Alabama-&lt;1Year-Male-AmericanIndian/Alaska...</td>\n",
       "    </tr>\n",
       "  </tbody>\n",
       "</table>\n",
       "</div>"
      ],
      "text/plain": [
       "       population  year    state age_group gender  \\\n",
       "0            96.0  2013  Alabama  < 1 Year   Male   \n",
       "5600        123.0  2014  Alabama  < 1 Year   Male   \n",
       "11200        78.0  2015  Alabama  < 1 Year   Male   \n",
       "16800        85.0  2016  Alabama  < 1 Year   Male   \n",
       "22400        95.0  2017  Alabama  < 1 Year   Male   \n",
       "\n",
       "                                          ethnicity  \\\n",
       "0      American Indian/Alaska Native (Non-Hispanic)   \n",
       "5600   American Indian/Alaska Native (Non-Hispanic)   \n",
       "11200  American Indian/Alaska Native (Non-Hispanic)   \n",
       "16800  American Indian/Alaska Native (Non-Hispanic)   \n",
       "22400  American Indian/Alaska Native (Non-Hispanic)   \n",
       "\n",
       "                                                     key  \n",
       "0      2013-Alabama-<1Year-Male-AmericanIndian/Alaska...  \n",
       "5600   2014-Alabama-<1Year-Male-AmericanIndian/Alaska...  \n",
       "11200  2015-Alabama-<1Year-Male-AmericanIndian/Alaska...  \n",
       "16800  2016-Alabama-<1Year-Male-AmericanIndian/Alaska...  \n",
       "22400  2017-Alabama-<1Year-Male-AmericanIndian/Alaska...  "
      ]
     },
     "execution_count": 25,
     "metadata": {},
     "output_type": "execute_result"
    }
   ],
   "source": [
    "census.head()"
   ]
  },
  {
   "cell_type": "code",
   "execution_count": 26,
   "id": "2f6619e3",
   "metadata": {},
   "outputs": [
    {
     "data": {
      "text/html": [
       "<div>\n",
       "<style scoped>\n",
       "    .dataframe tbody tr th:only-of-type {\n",
       "        vertical-align: middle;\n",
       "    }\n",
       "\n",
       "    .dataframe tbody tr th {\n",
       "        vertical-align: top;\n",
       "    }\n",
       "\n",
       "    .dataframe thead th {\n",
       "        text-align: right;\n",
       "    }\n",
       "</style>\n",
       "<table border=\"1\" class=\"dataframe\">\n",
       "  <thead>\n",
       "    <tr style=\"text-align: right;\">\n",
       "      <th></th>\n",
       "      <th>population</th>\n",
       "      <th>year</th>\n",
       "      <th>state</th>\n",
       "      <th>age_group</th>\n",
       "      <th>gender</th>\n",
       "      <th>ethnicity</th>\n",
       "      <th>key</th>\n",
       "    </tr>\n",
       "  </thead>\n",
       "  <tbody>\n",
       "    <tr>\n",
       "      <th>33599</th>\n",
       "      <td>45781.0</td>\n",
       "      <td>2018</td>\n",
       "      <td>Wyoming</td>\n",
       "      <td>65+</td>\n",
       "      <td>Female</td>\n",
       "      <td>White (Non-Hispanic)</td>\n",
       "      <td>2018-Wyoming-65+-Female-White(Non-Hispanic)</td>\n",
       "    </tr>\n",
       "    <tr>\n",
       "      <th>39199</th>\n",
       "      <td>47316.0</td>\n",
       "      <td>2019</td>\n",
       "      <td>Wyoming</td>\n",
       "      <td>65+</td>\n",
       "      <td>Female</td>\n",
       "      <td>White (Non-Hispanic)</td>\n",
       "      <td>2019-Wyoming-65+-Female-White(Non-Hispanic)</td>\n",
       "    </tr>\n",
       "    <tr>\n",
       "      <th>44799</th>\n",
       "      <td>47690.0</td>\n",
       "      <td>2020</td>\n",
       "      <td>Wyoming</td>\n",
       "      <td>65+</td>\n",
       "      <td>Female</td>\n",
       "      <td>White (Non-Hispanic)</td>\n",
       "      <td>2020-Wyoming-65+-Female-White(Non-Hispanic)</td>\n",
       "    </tr>\n",
       "    <tr>\n",
       "      <th>50399</th>\n",
       "      <td>49349.0</td>\n",
       "      <td>2021</td>\n",
       "      <td>Wyoming</td>\n",
       "      <td>65+</td>\n",
       "      <td>Female</td>\n",
       "      <td>White (Non-Hispanic)</td>\n",
       "      <td>2021-Wyoming-65+-Female-White(Non-Hispanic)</td>\n",
       "    </tr>\n",
       "    <tr>\n",
       "      <th>55999</th>\n",
       "      <td>50885.0</td>\n",
       "      <td>2022</td>\n",
       "      <td>Wyoming</td>\n",
       "      <td>65+</td>\n",
       "      <td>Female</td>\n",
       "      <td>White (Non-Hispanic)</td>\n",
       "      <td>2022-Wyoming-65+-Female-White(Non-Hispanic)</td>\n",
       "    </tr>\n",
       "  </tbody>\n",
       "</table>\n",
       "</div>"
      ],
      "text/plain": [
       "       population  year    state age_group  gender             ethnicity  \\\n",
       "33599     45781.0  2018  Wyoming       65+  Female  White (Non-Hispanic)   \n",
       "39199     47316.0  2019  Wyoming       65+  Female  White (Non-Hispanic)   \n",
       "44799     47690.0  2020  Wyoming       65+  Female  White (Non-Hispanic)   \n",
       "50399     49349.0  2021  Wyoming       65+  Female  White (Non-Hispanic)   \n",
       "55999     50885.0  2022  Wyoming       65+  Female  White (Non-Hispanic)   \n",
       "\n",
       "                                               key  \n",
       "33599  2018-Wyoming-65+-Female-White(Non-Hispanic)  \n",
       "39199  2019-Wyoming-65+-Female-White(Non-Hispanic)  \n",
       "44799  2020-Wyoming-65+-Female-White(Non-Hispanic)  \n",
       "50399  2021-Wyoming-65+-Female-White(Non-Hispanic)  \n",
       "55999  2022-Wyoming-65+-Female-White(Non-Hispanic)  "
      ]
     },
     "execution_count": 26,
     "metadata": {},
     "output_type": "execute_result"
    }
   ],
   "source": [
    "census.tail()"
   ]
  },
  {
   "cell_type": "markdown",
   "id": "42ba53ee",
   "metadata": {},
   "source": [
    "All of the keys appear to have been generated correctly."
   ]
  },
  {
   "cell_type": "markdown",
   "id": "1a0ef651",
   "metadata": {},
   "source": [
    "### 0.5 Outer Merge of census and living dataframes into dfm"
   ]
  },
  {
   "cell_type": "code",
   "execution_count": 27,
   "id": "f327aef2",
   "metadata": {},
   "outputs": [
    {
     "data": {
      "text/plain": [
       "(56000, 7)"
      ]
     },
     "execution_count": 27,
     "metadata": {},
     "output_type": "execute_result"
    }
   ],
   "source": [
    "# Revisiting the shapes of the two dfs to be merged\n",
    "census.shape"
   ]
  },
  {
   "cell_type": "code",
   "execution_count": 28,
   "id": "ce711934",
   "metadata": {},
   "outputs": [
    {
     "data": {
      "text/plain": [
       "(26684, 8)"
      ]
     },
     "execution_count": 28,
     "metadata": {},
     "output_type": "execute_result"
    }
   ],
   "source": [
    "living_d.shape"
   ]
  },
  {
   "cell_type": "code",
   "execution_count": 29,
   "id": "8f60647c",
   "metadata": {},
   "outputs": [],
   "source": [
    "# Merging only the needed columns\n",
    "dfm = census.merge(living_d[['key', 'number_donors']], on = ['key'], how = 'outer', indicator = True)"
   ]
  },
  {
   "cell_type": "markdown",
   "id": "69228532",
   "metadata": {},
   "source": [
    "#### Confirm merge"
   ]
  },
  {
   "cell_type": "code",
   "execution_count": 30,
   "id": "ac7d5da0",
   "metadata": {},
   "outputs": [
    {
     "data": {
      "text/plain": [
       "(56000, 9)"
      ]
     },
     "execution_count": 30,
     "metadata": {},
     "output_type": "execute_result"
    }
   ],
   "source": [
    "dfm.shape"
   ]
  },
  {
   "cell_type": "code",
   "execution_count": 31,
   "id": "df779f0f",
   "metadata": {},
   "outputs": [
    {
     "data": {
      "text/html": [
       "<div>\n",
       "<style scoped>\n",
       "    .dataframe tbody tr th:only-of-type {\n",
       "        vertical-align: middle;\n",
       "    }\n",
       "\n",
       "    .dataframe tbody tr th {\n",
       "        vertical-align: top;\n",
       "    }\n",
       "\n",
       "    .dataframe thead th {\n",
       "        text-align: right;\n",
       "    }\n",
       "</style>\n",
       "<table border=\"1\" class=\"dataframe\">\n",
       "  <thead>\n",
       "    <tr style=\"text-align: right;\">\n",
       "      <th></th>\n",
       "      <th>population</th>\n",
       "      <th>year</th>\n",
       "      <th>state</th>\n",
       "      <th>age_group</th>\n",
       "      <th>gender</th>\n",
       "      <th>ethnicity</th>\n",
       "      <th>key</th>\n",
       "      <th>number_donors</th>\n",
       "      <th>_merge</th>\n",
       "    </tr>\n",
       "  </thead>\n",
       "  <tbody>\n",
       "    <tr>\n",
       "      <th>0</th>\n",
       "      <td>96.0</td>\n",
       "      <td>2013</td>\n",
       "      <td>Alabama</td>\n",
       "      <td>&lt; 1 Year</td>\n",
       "      <td>Male</td>\n",
       "      <td>American Indian/Alaska Native (Non-Hispanic)</td>\n",
       "      <td>2013-Alabama-&lt;1Year-Male-AmericanIndian/Alaska...</td>\n",
       "      <td>NaN</td>\n",
       "      <td>left_only</td>\n",
       "    </tr>\n",
       "    <tr>\n",
       "      <th>1</th>\n",
       "      <td>123.0</td>\n",
       "      <td>2014</td>\n",
       "      <td>Alabama</td>\n",
       "      <td>&lt; 1 Year</td>\n",
       "      <td>Male</td>\n",
       "      <td>American Indian/Alaska Native (Non-Hispanic)</td>\n",
       "      <td>2014-Alabama-&lt;1Year-Male-AmericanIndian/Alaska...</td>\n",
       "      <td>NaN</td>\n",
       "      <td>left_only</td>\n",
       "    </tr>\n",
       "    <tr>\n",
       "      <th>2</th>\n",
       "      <td>78.0</td>\n",
       "      <td>2015</td>\n",
       "      <td>Alabama</td>\n",
       "      <td>&lt; 1 Year</td>\n",
       "      <td>Male</td>\n",
       "      <td>American Indian/Alaska Native (Non-Hispanic)</td>\n",
       "      <td>2015-Alabama-&lt;1Year-Male-AmericanIndian/Alaska...</td>\n",
       "      <td>NaN</td>\n",
       "      <td>left_only</td>\n",
       "    </tr>\n",
       "    <tr>\n",
       "      <th>3</th>\n",
       "      <td>85.0</td>\n",
       "      <td>2016</td>\n",
       "      <td>Alabama</td>\n",
       "      <td>&lt; 1 Year</td>\n",
       "      <td>Male</td>\n",
       "      <td>American Indian/Alaska Native (Non-Hispanic)</td>\n",
       "      <td>2016-Alabama-&lt;1Year-Male-AmericanIndian/Alaska...</td>\n",
       "      <td>NaN</td>\n",
       "      <td>left_only</td>\n",
       "    </tr>\n",
       "    <tr>\n",
       "      <th>4</th>\n",
       "      <td>95.0</td>\n",
       "      <td>2017</td>\n",
       "      <td>Alabama</td>\n",
       "      <td>&lt; 1 Year</td>\n",
       "      <td>Male</td>\n",
       "      <td>American Indian/Alaska Native (Non-Hispanic)</td>\n",
       "      <td>2017-Alabama-&lt;1Year-Male-AmericanIndian/Alaska...</td>\n",
       "      <td>NaN</td>\n",
       "      <td>left_only</td>\n",
       "    </tr>\n",
       "  </tbody>\n",
       "</table>\n",
       "</div>"
      ],
      "text/plain": [
       "   population  year    state age_group gender  \\\n",
       "0        96.0  2013  Alabama  < 1 Year   Male   \n",
       "1       123.0  2014  Alabama  < 1 Year   Male   \n",
       "2        78.0  2015  Alabama  < 1 Year   Male   \n",
       "3        85.0  2016  Alabama  < 1 Year   Male   \n",
       "4        95.0  2017  Alabama  < 1 Year   Male   \n",
       "\n",
       "                                      ethnicity  \\\n",
       "0  American Indian/Alaska Native (Non-Hispanic)   \n",
       "1  American Indian/Alaska Native (Non-Hispanic)   \n",
       "2  American Indian/Alaska Native (Non-Hispanic)   \n",
       "3  American Indian/Alaska Native (Non-Hispanic)   \n",
       "4  American Indian/Alaska Native (Non-Hispanic)   \n",
       "\n",
       "                                                 key  number_donors     _merge  \n",
       "0  2013-Alabama-<1Year-Male-AmericanIndian/Alaska...            NaN  left_only  \n",
       "1  2014-Alabama-<1Year-Male-AmericanIndian/Alaska...            NaN  left_only  \n",
       "2  2015-Alabama-<1Year-Male-AmericanIndian/Alaska...            NaN  left_only  \n",
       "3  2016-Alabama-<1Year-Male-AmericanIndian/Alaska...            NaN  left_only  \n",
       "4  2017-Alabama-<1Year-Male-AmericanIndian/Alaska...            NaN  left_only  "
      ]
     },
     "execution_count": 31,
     "metadata": {},
     "output_type": "execute_result"
    }
   ],
   "source": [
    "dfm.head()"
   ]
  },
  {
   "cell_type": "code",
   "execution_count": 32,
   "id": "2b1959c8",
   "metadata": {},
   "outputs": [
    {
     "data": {
      "text/plain": [
       "left_only     29316\n",
       "both          26684\n",
       "right_only        0\n",
       "Name: _merge, dtype: int64"
      ]
     },
     "execution_count": 32,
     "metadata": {},
     "output_type": "execute_result"
    }
   ],
   "source": [
    "dfm['_merge'].value_counts()"
   ]
  },
  {
   "cell_type": "markdown",
   "id": "0fcb90ea",
   "metadata": {},
   "source": [
    "All numbers appear correct."
   ]
  },
  {
   "cell_type": "markdown",
   "id": "309edac1",
   "metadata": {},
   "source": [
    "#### Rename number_donors to living_donors"
   ]
  },
  {
   "cell_type": "code",
   "execution_count": 33,
   "id": "dded18ed",
   "metadata": {},
   "outputs": [],
   "source": [
    "dfm.rename(columns ={'number_donors': 'living_donors'}, inplace = True)"
   ]
  },
  {
   "cell_type": "code",
   "execution_count": 34,
   "id": "9638d54e",
   "metadata": {},
   "outputs": [
    {
     "data": {
      "text/html": [
       "<div>\n",
       "<style scoped>\n",
       "    .dataframe tbody tr th:only-of-type {\n",
       "        vertical-align: middle;\n",
       "    }\n",
       "\n",
       "    .dataframe tbody tr th {\n",
       "        vertical-align: top;\n",
       "    }\n",
       "\n",
       "    .dataframe thead th {\n",
       "        text-align: right;\n",
       "    }\n",
       "</style>\n",
       "<table border=\"1\" class=\"dataframe\">\n",
       "  <thead>\n",
       "    <tr style=\"text-align: right;\">\n",
       "      <th></th>\n",
       "      <th>population</th>\n",
       "      <th>year</th>\n",
       "      <th>state</th>\n",
       "      <th>age_group</th>\n",
       "      <th>gender</th>\n",
       "      <th>ethnicity</th>\n",
       "      <th>key</th>\n",
       "      <th>living_donors</th>\n",
       "      <th>_merge</th>\n",
       "    </tr>\n",
       "  </thead>\n",
       "  <tbody>\n",
       "    <tr>\n",
       "      <th>0</th>\n",
       "      <td>96.0</td>\n",
       "      <td>2013</td>\n",
       "      <td>Alabama</td>\n",
       "      <td>&lt; 1 Year</td>\n",
       "      <td>Male</td>\n",
       "      <td>American Indian/Alaska Native (Non-Hispanic)</td>\n",
       "      <td>2013-Alabama-&lt;1Year-Male-AmericanIndian/Alaska...</td>\n",
       "      <td>NaN</td>\n",
       "      <td>left_only</td>\n",
       "    </tr>\n",
       "    <tr>\n",
       "      <th>1</th>\n",
       "      <td>123.0</td>\n",
       "      <td>2014</td>\n",
       "      <td>Alabama</td>\n",
       "      <td>&lt; 1 Year</td>\n",
       "      <td>Male</td>\n",
       "      <td>American Indian/Alaska Native (Non-Hispanic)</td>\n",
       "      <td>2014-Alabama-&lt;1Year-Male-AmericanIndian/Alaska...</td>\n",
       "      <td>NaN</td>\n",
       "      <td>left_only</td>\n",
       "    </tr>\n",
       "    <tr>\n",
       "      <th>2</th>\n",
       "      <td>78.0</td>\n",
       "      <td>2015</td>\n",
       "      <td>Alabama</td>\n",
       "      <td>&lt; 1 Year</td>\n",
       "      <td>Male</td>\n",
       "      <td>American Indian/Alaska Native (Non-Hispanic)</td>\n",
       "      <td>2015-Alabama-&lt;1Year-Male-AmericanIndian/Alaska...</td>\n",
       "      <td>NaN</td>\n",
       "      <td>left_only</td>\n",
       "    </tr>\n",
       "    <tr>\n",
       "      <th>3</th>\n",
       "      <td>85.0</td>\n",
       "      <td>2016</td>\n",
       "      <td>Alabama</td>\n",
       "      <td>&lt; 1 Year</td>\n",
       "      <td>Male</td>\n",
       "      <td>American Indian/Alaska Native (Non-Hispanic)</td>\n",
       "      <td>2016-Alabama-&lt;1Year-Male-AmericanIndian/Alaska...</td>\n",
       "      <td>NaN</td>\n",
       "      <td>left_only</td>\n",
       "    </tr>\n",
       "    <tr>\n",
       "      <th>4</th>\n",
       "      <td>95.0</td>\n",
       "      <td>2017</td>\n",
       "      <td>Alabama</td>\n",
       "      <td>&lt; 1 Year</td>\n",
       "      <td>Male</td>\n",
       "      <td>American Indian/Alaska Native (Non-Hispanic)</td>\n",
       "      <td>2017-Alabama-&lt;1Year-Male-AmericanIndian/Alaska...</td>\n",
       "      <td>NaN</td>\n",
       "      <td>left_only</td>\n",
       "    </tr>\n",
       "  </tbody>\n",
       "</table>\n",
       "</div>"
      ],
      "text/plain": [
       "   population  year    state age_group gender  \\\n",
       "0        96.0  2013  Alabama  < 1 Year   Male   \n",
       "1       123.0  2014  Alabama  < 1 Year   Male   \n",
       "2        78.0  2015  Alabama  < 1 Year   Male   \n",
       "3        85.0  2016  Alabama  < 1 Year   Male   \n",
       "4        95.0  2017  Alabama  < 1 Year   Male   \n",
       "\n",
       "                                      ethnicity  \\\n",
       "0  American Indian/Alaska Native (Non-Hispanic)   \n",
       "1  American Indian/Alaska Native (Non-Hispanic)   \n",
       "2  American Indian/Alaska Native (Non-Hispanic)   \n",
       "3  American Indian/Alaska Native (Non-Hispanic)   \n",
       "4  American Indian/Alaska Native (Non-Hispanic)   \n",
       "\n",
       "                                                 key  living_donors     _merge  \n",
       "0  2013-Alabama-<1Year-Male-AmericanIndian/Alaska...            NaN  left_only  \n",
       "1  2014-Alabama-<1Year-Male-AmericanIndian/Alaska...            NaN  left_only  \n",
       "2  2015-Alabama-<1Year-Male-AmericanIndian/Alaska...            NaN  left_only  \n",
       "3  2016-Alabama-<1Year-Male-AmericanIndian/Alaska...            NaN  left_only  \n",
       "4  2017-Alabama-<1Year-Male-AmericanIndian/Alaska...            NaN  left_only  "
      ]
     },
     "execution_count": 34,
     "metadata": {},
     "output_type": "execute_result"
    }
   ],
   "source": [
    "# Confirm column is renamed\n",
    "dfm.head()"
   ]
  },
  {
   "cell_type": "markdown",
   "id": "71e0b7dc",
   "metadata": {},
   "source": [
    "#### Remove merge flag"
   ]
  },
  {
   "cell_type": "code",
   "execution_count": 35,
   "id": "36c32f42",
   "metadata": {},
   "outputs": [],
   "source": [
    "dfm = dfm.drop(columns='_merge')"
   ]
  },
  {
   "cell_type": "code",
   "execution_count": 36,
   "id": "2e544e46",
   "metadata": {},
   "outputs": [
    {
     "data": {
      "text/plain": [
       "(56000, 8)"
      ]
     },
     "execution_count": 36,
     "metadata": {},
     "output_type": "execute_result"
    }
   ],
   "source": [
    "# Confirming the correct column was dropped\n",
    "dfm.shape"
   ]
  },
  {
   "cell_type": "code",
   "execution_count": 37,
   "id": "c4472754",
   "metadata": {},
   "outputs": [
    {
     "data": {
      "text/html": [
       "<div>\n",
       "<style scoped>\n",
       "    .dataframe tbody tr th:only-of-type {\n",
       "        vertical-align: middle;\n",
       "    }\n",
       "\n",
       "    .dataframe tbody tr th {\n",
       "        vertical-align: top;\n",
       "    }\n",
       "\n",
       "    .dataframe thead th {\n",
       "        text-align: right;\n",
       "    }\n",
       "</style>\n",
       "<table border=\"1\" class=\"dataframe\">\n",
       "  <thead>\n",
       "    <tr style=\"text-align: right;\">\n",
       "      <th></th>\n",
       "      <th>population</th>\n",
       "      <th>year</th>\n",
       "      <th>state</th>\n",
       "      <th>age_group</th>\n",
       "      <th>gender</th>\n",
       "      <th>ethnicity</th>\n",
       "      <th>key</th>\n",
       "      <th>living_donors</th>\n",
       "    </tr>\n",
       "  </thead>\n",
       "  <tbody>\n",
       "    <tr>\n",
       "      <th>0</th>\n",
       "      <td>96.0</td>\n",
       "      <td>2013</td>\n",
       "      <td>Alabama</td>\n",
       "      <td>&lt; 1 Year</td>\n",
       "      <td>Male</td>\n",
       "      <td>American Indian/Alaska Native (Non-Hispanic)</td>\n",
       "      <td>2013-Alabama-&lt;1Year-Male-AmericanIndian/Alaska...</td>\n",
       "      <td>NaN</td>\n",
       "    </tr>\n",
       "    <tr>\n",
       "      <th>1</th>\n",
       "      <td>123.0</td>\n",
       "      <td>2014</td>\n",
       "      <td>Alabama</td>\n",
       "      <td>&lt; 1 Year</td>\n",
       "      <td>Male</td>\n",
       "      <td>American Indian/Alaska Native (Non-Hispanic)</td>\n",
       "      <td>2014-Alabama-&lt;1Year-Male-AmericanIndian/Alaska...</td>\n",
       "      <td>NaN</td>\n",
       "    </tr>\n",
       "    <tr>\n",
       "      <th>2</th>\n",
       "      <td>78.0</td>\n",
       "      <td>2015</td>\n",
       "      <td>Alabama</td>\n",
       "      <td>&lt; 1 Year</td>\n",
       "      <td>Male</td>\n",
       "      <td>American Indian/Alaska Native (Non-Hispanic)</td>\n",
       "      <td>2015-Alabama-&lt;1Year-Male-AmericanIndian/Alaska...</td>\n",
       "      <td>NaN</td>\n",
       "    </tr>\n",
       "    <tr>\n",
       "      <th>3</th>\n",
       "      <td>85.0</td>\n",
       "      <td>2016</td>\n",
       "      <td>Alabama</td>\n",
       "      <td>&lt; 1 Year</td>\n",
       "      <td>Male</td>\n",
       "      <td>American Indian/Alaska Native (Non-Hispanic)</td>\n",
       "      <td>2016-Alabama-&lt;1Year-Male-AmericanIndian/Alaska...</td>\n",
       "      <td>NaN</td>\n",
       "    </tr>\n",
       "    <tr>\n",
       "      <th>4</th>\n",
       "      <td>95.0</td>\n",
       "      <td>2017</td>\n",
       "      <td>Alabama</td>\n",
       "      <td>&lt; 1 Year</td>\n",
       "      <td>Male</td>\n",
       "      <td>American Indian/Alaska Native (Non-Hispanic)</td>\n",
       "      <td>2017-Alabama-&lt;1Year-Male-AmericanIndian/Alaska...</td>\n",
       "      <td>NaN</td>\n",
       "    </tr>\n",
       "  </tbody>\n",
       "</table>\n",
       "</div>"
      ],
      "text/plain": [
       "   population  year    state age_group gender  \\\n",
       "0        96.0  2013  Alabama  < 1 Year   Male   \n",
       "1       123.0  2014  Alabama  < 1 Year   Male   \n",
       "2        78.0  2015  Alabama  < 1 Year   Male   \n",
       "3        85.0  2016  Alabama  < 1 Year   Male   \n",
       "4        95.0  2017  Alabama  < 1 Year   Male   \n",
       "\n",
       "                                      ethnicity  \\\n",
       "0  American Indian/Alaska Native (Non-Hispanic)   \n",
       "1  American Indian/Alaska Native (Non-Hispanic)   \n",
       "2  American Indian/Alaska Native (Non-Hispanic)   \n",
       "3  American Indian/Alaska Native (Non-Hispanic)   \n",
       "4  American Indian/Alaska Native (Non-Hispanic)   \n",
       "\n",
       "                                                 key  living_donors  \n",
       "0  2013-Alabama-<1Year-Male-AmericanIndian/Alaska...            NaN  \n",
       "1  2014-Alabama-<1Year-Male-AmericanIndian/Alaska...            NaN  \n",
       "2  2015-Alabama-<1Year-Male-AmericanIndian/Alaska...            NaN  \n",
       "3  2016-Alabama-<1Year-Male-AmericanIndian/Alaska...            NaN  \n",
       "4  2017-Alabama-<1Year-Male-AmericanIndian/Alaska...            NaN  "
      ]
     },
     "execution_count": 37,
     "metadata": {},
     "output_type": "execute_result"
    }
   ],
   "source": [
    "dfm.head()"
   ]
  },
  {
   "cell_type": "markdown",
   "id": "4e071ce8",
   "metadata": {},
   "source": [
    "### 0.6 Outer Merge of dfm and deceased dataframes"
   ]
  },
  {
   "cell_type": "code",
   "execution_count": 38,
   "id": "52ae92ca",
   "metadata": {},
   "outputs": [
    {
     "data": {
      "text/plain": [
       "(49476, 8)"
      ]
     },
     "execution_count": 38,
     "metadata": {},
     "output_type": "execute_result"
    }
   ],
   "source": [
    "# Revisiting the shapes of the two dfs to be merged\n",
    "deceased_d.shape"
   ]
  },
  {
   "cell_type": "code",
   "execution_count": 39,
   "id": "2bac962b",
   "metadata": {},
   "outputs": [
    {
     "data": {
      "text/plain": [
       "(56000, 8)"
      ]
     },
     "execution_count": 39,
     "metadata": {},
     "output_type": "execute_result"
    }
   ],
   "source": [
    "dfm.shape"
   ]
  },
  {
   "cell_type": "code",
   "execution_count": 40,
   "id": "3e19815a",
   "metadata": {},
   "outputs": [],
   "source": [
    "# Merging only the needed columns\n",
    "dfm = dfm.merge(deceased_d[['key', 'number_donors']], on = ['key'], how = 'outer', indicator = True)"
   ]
  },
  {
   "cell_type": "markdown",
   "id": "48a55710",
   "metadata": {},
   "source": [
    "#### Confirm merge"
   ]
  },
  {
   "cell_type": "code",
   "execution_count": 41,
   "id": "ecb0d17e",
   "metadata": {},
   "outputs": [
    {
     "data": {
      "text/plain": [
       "(56000, 10)"
      ]
     },
     "execution_count": 41,
     "metadata": {},
     "output_type": "execute_result"
    }
   ],
   "source": [
    "dfm.shape"
   ]
  },
  {
   "cell_type": "code",
   "execution_count": 42,
   "id": "450bc7e4",
   "metadata": {},
   "outputs": [
    {
     "data": {
      "text/html": [
       "<div>\n",
       "<style scoped>\n",
       "    .dataframe tbody tr th:only-of-type {\n",
       "        vertical-align: middle;\n",
       "    }\n",
       "\n",
       "    .dataframe tbody tr th {\n",
       "        vertical-align: top;\n",
       "    }\n",
       "\n",
       "    .dataframe thead th {\n",
       "        text-align: right;\n",
       "    }\n",
       "</style>\n",
       "<table border=\"1\" class=\"dataframe\">\n",
       "  <thead>\n",
       "    <tr style=\"text-align: right;\">\n",
       "      <th></th>\n",
       "      <th>population</th>\n",
       "      <th>year</th>\n",
       "      <th>state</th>\n",
       "      <th>age_group</th>\n",
       "      <th>gender</th>\n",
       "      <th>ethnicity</th>\n",
       "      <th>key</th>\n",
       "      <th>living_donors</th>\n",
       "      <th>number_donors</th>\n",
       "      <th>_merge</th>\n",
       "    </tr>\n",
       "  </thead>\n",
       "  <tbody>\n",
       "    <tr>\n",
       "      <th>0</th>\n",
       "      <td>96.0</td>\n",
       "      <td>2013</td>\n",
       "      <td>Alabama</td>\n",
       "      <td>&lt; 1 Year</td>\n",
       "      <td>Male</td>\n",
       "      <td>American Indian/Alaska Native (Non-Hispanic)</td>\n",
       "      <td>2013-Alabama-&lt;1Year-Male-AmericanIndian/Alaska...</td>\n",
       "      <td>NaN</td>\n",
       "      <td>0.0</td>\n",
       "      <td>both</td>\n",
       "    </tr>\n",
       "    <tr>\n",
       "      <th>1</th>\n",
       "      <td>123.0</td>\n",
       "      <td>2014</td>\n",
       "      <td>Alabama</td>\n",
       "      <td>&lt; 1 Year</td>\n",
       "      <td>Male</td>\n",
       "      <td>American Indian/Alaska Native (Non-Hispanic)</td>\n",
       "      <td>2014-Alabama-&lt;1Year-Male-AmericanIndian/Alaska...</td>\n",
       "      <td>NaN</td>\n",
       "      <td>NaN</td>\n",
       "      <td>left_only</td>\n",
       "    </tr>\n",
       "    <tr>\n",
       "      <th>2</th>\n",
       "      <td>78.0</td>\n",
       "      <td>2015</td>\n",
       "      <td>Alabama</td>\n",
       "      <td>&lt; 1 Year</td>\n",
       "      <td>Male</td>\n",
       "      <td>American Indian/Alaska Native (Non-Hispanic)</td>\n",
       "      <td>2015-Alabama-&lt;1Year-Male-AmericanIndian/Alaska...</td>\n",
       "      <td>NaN</td>\n",
       "      <td>NaN</td>\n",
       "      <td>left_only</td>\n",
       "    </tr>\n",
       "    <tr>\n",
       "      <th>3</th>\n",
       "      <td>85.0</td>\n",
       "      <td>2016</td>\n",
       "      <td>Alabama</td>\n",
       "      <td>&lt; 1 Year</td>\n",
       "      <td>Male</td>\n",
       "      <td>American Indian/Alaska Native (Non-Hispanic)</td>\n",
       "      <td>2016-Alabama-&lt;1Year-Male-AmericanIndian/Alaska...</td>\n",
       "      <td>NaN</td>\n",
       "      <td>0.0</td>\n",
       "      <td>both</td>\n",
       "    </tr>\n",
       "    <tr>\n",
       "      <th>4</th>\n",
       "      <td>95.0</td>\n",
       "      <td>2017</td>\n",
       "      <td>Alabama</td>\n",
       "      <td>&lt; 1 Year</td>\n",
       "      <td>Male</td>\n",
       "      <td>American Indian/Alaska Native (Non-Hispanic)</td>\n",
       "      <td>2017-Alabama-&lt;1Year-Male-AmericanIndian/Alaska...</td>\n",
       "      <td>NaN</td>\n",
       "      <td>0.0</td>\n",
       "      <td>both</td>\n",
       "    </tr>\n",
       "  </tbody>\n",
       "</table>\n",
       "</div>"
      ],
      "text/plain": [
       "   population  year    state age_group gender  \\\n",
       "0        96.0  2013  Alabama  < 1 Year   Male   \n",
       "1       123.0  2014  Alabama  < 1 Year   Male   \n",
       "2        78.0  2015  Alabama  < 1 Year   Male   \n",
       "3        85.0  2016  Alabama  < 1 Year   Male   \n",
       "4        95.0  2017  Alabama  < 1 Year   Male   \n",
       "\n",
       "                                      ethnicity  \\\n",
       "0  American Indian/Alaska Native (Non-Hispanic)   \n",
       "1  American Indian/Alaska Native (Non-Hispanic)   \n",
       "2  American Indian/Alaska Native (Non-Hispanic)   \n",
       "3  American Indian/Alaska Native (Non-Hispanic)   \n",
       "4  American Indian/Alaska Native (Non-Hispanic)   \n",
       "\n",
       "                                                 key  living_donors  \\\n",
       "0  2013-Alabama-<1Year-Male-AmericanIndian/Alaska...            NaN   \n",
       "1  2014-Alabama-<1Year-Male-AmericanIndian/Alaska...            NaN   \n",
       "2  2015-Alabama-<1Year-Male-AmericanIndian/Alaska...            NaN   \n",
       "3  2016-Alabama-<1Year-Male-AmericanIndian/Alaska...            NaN   \n",
       "4  2017-Alabama-<1Year-Male-AmericanIndian/Alaska...            NaN   \n",
       "\n",
       "   number_donors     _merge  \n",
       "0            0.0       both  \n",
       "1            NaN  left_only  \n",
       "2            NaN  left_only  \n",
       "3            0.0       both  \n",
       "4            0.0       both  "
      ]
     },
     "execution_count": 42,
     "metadata": {},
     "output_type": "execute_result"
    }
   ],
   "source": [
    "dfm.head()"
   ]
  },
  {
   "cell_type": "code",
   "execution_count": 43,
   "id": "cd5524bb",
   "metadata": {},
   "outputs": [
    {
     "data": {
      "text/plain": [
       "both          49476\n",
       "left_only      6524\n",
       "right_only        0\n",
       "Name: _merge, dtype: int64"
      ]
     },
     "execution_count": 43,
     "metadata": {},
     "output_type": "execute_result"
    }
   ],
   "source": [
    "dfm['_merge'].value_counts()"
   ]
  },
  {
   "cell_type": "markdown",
   "id": "74724f8f",
   "metadata": {},
   "source": [
    "All numbers appear correct."
   ]
  },
  {
   "cell_type": "markdown",
   "id": "74c0a438",
   "metadata": {},
   "source": [
    "#### Renaming number_donors to deceased_donors"
   ]
  },
  {
   "cell_type": "code",
   "execution_count": 44,
   "id": "84381dd3",
   "metadata": {},
   "outputs": [],
   "source": [
    "dfm.rename(columns ={'number_donors': 'deceased_donors'}, inplace = True)"
   ]
  },
  {
   "cell_type": "code",
   "execution_count": 45,
   "id": "c69df548",
   "metadata": {},
   "outputs": [
    {
     "data": {
      "text/html": [
       "<div>\n",
       "<style scoped>\n",
       "    .dataframe tbody tr th:only-of-type {\n",
       "        vertical-align: middle;\n",
       "    }\n",
       "\n",
       "    .dataframe tbody tr th {\n",
       "        vertical-align: top;\n",
       "    }\n",
       "\n",
       "    .dataframe thead th {\n",
       "        text-align: right;\n",
       "    }\n",
       "</style>\n",
       "<table border=\"1\" class=\"dataframe\">\n",
       "  <thead>\n",
       "    <tr style=\"text-align: right;\">\n",
       "      <th></th>\n",
       "      <th>population</th>\n",
       "      <th>year</th>\n",
       "      <th>state</th>\n",
       "      <th>age_group</th>\n",
       "      <th>gender</th>\n",
       "      <th>ethnicity</th>\n",
       "      <th>key</th>\n",
       "      <th>living_donors</th>\n",
       "      <th>deceased_donors</th>\n",
       "      <th>_merge</th>\n",
       "    </tr>\n",
       "  </thead>\n",
       "  <tbody>\n",
       "    <tr>\n",
       "      <th>0</th>\n",
       "      <td>96.0</td>\n",
       "      <td>2013</td>\n",
       "      <td>Alabama</td>\n",
       "      <td>&lt; 1 Year</td>\n",
       "      <td>Male</td>\n",
       "      <td>American Indian/Alaska Native (Non-Hispanic)</td>\n",
       "      <td>2013-Alabama-&lt;1Year-Male-AmericanIndian/Alaska...</td>\n",
       "      <td>NaN</td>\n",
       "      <td>0.0</td>\n",
       "      <td>both</td>\n",
       "    </tr>\n",
       "    <tr>\n",
       "      <th>1</th>\n",
       "      <td>123.0</td>\n",
       "      <td>2014</td>\n",
       "      <td>Alabama</td>\n",
       "      <td>&lt; 1 Year</td>\n",
       "      <td>Male</td>\n",
       "      <td>American Indian/Alaska Native (Non-Hispanic)</td>\n",
       "      <td>2014-Alabama-&lt;1Year-Male-AmericanIndian/Alaska...</td>\n",
       "      <td>NaN</td>\n",
       "      <td>NaN</td>\n",
       "      <td>left_only</td>\n",
       "    </tr>\n",
       "    <tr>\n",
       "      <th>2</th>\n",
       "      <td>78.0</td>\n",
       "      <td>2015</td>\n",
       "      <td>Alabama</td>\n",
       "      <td>&lt; 1 Year</td>\n",
       "      <td>Male</td>\n",
       "      <td>American Indian/Alaska Native (Non-Hispanic)</td>\n",
       "      <td>2015-Alabama-&lt;1Year-Male-AmericanIndian/Alaska...</td>\n",
       "      <td>NaN</td>\n",
       "      <td>NaN</td>\n",
       "      <td>left_only</td>\n",
       "    </tr>\n",
       "    <tr>\n",
       "      <th>3</th>\n",
       "      <td>85.0</td>\n",
       "      <td>2016</td>\n",
       "      <td>Alabama</td>\n",
       "      <td>&lt; 1 Year</td>\n",
       "      <td>Male</td>\n",
       "      <td>American Indian/Alaska Native (Non-Hispanic)</td>\n",
       "      <td>2016-Alabama-&lt;1Year-Male-AmericanIndian/Alaska...</td>\n",
       "      <td>NaN</td>\n",
       "      <td>0.0</td>\n",
       "      <td>both</td>\n",
       "    </tr>\n",
       "    <tr>\n",
       "      <th>4</th>\n",
       "      <td>95.0</td>\n",
       "      <td>2017</td>\n",
       "      <td>Alabama</td>\n",
       "      <td>&lt; 1 Year</td>\n",
       "      <td>Male</td>\n",
       "      <td>American Indian/Alaska Native (Non-Hispanic)</td>\n",
       "      <td>2017-Alabama-&lt;1Year-Male-AmericanIndian/Alaska...</td>\n",
       "      <td>NaN</td>\n",
       "      <td>0.0</td>\n",
       "      <td>both</td>\n",
       "    </tr>\n",
       "  </tbody>\n",
       "</table>\n",
       "</div>"
      ],
      "text/plain": [
       "   population  year    state age_group gender  \\\n",
       "0        96.0  2013  Alabama  < 1 Year   Male   \n",
       "1       123.0  2014  Alabama  < 1 Year   Male   \n",
       "2        78.0  2015  Alabama  < 1 Year   Male   \n",
       "3        85.0  2016  Alabama  < 1 Year   Male   \n",
       "4        95.0  2017  Alabama  < 1 Year   Male   \n",
       "\n",
       "                                      ethnicity  \\\n",
       "0  American Indian/Alaska Native (Non-Hispanic)   \n",
       "1  American Indian/Alaska Native (Non-Hispanic)   \n",
       "2  American Indian/Alaska Native (Non-Hispanic)   \n",
       "3  American Indian/Alaska Native (Non-Hispanic)   \n",
       "4  American Indian/Alaska Native (Non-Hispanic)   \n",
       "\n",
       "                                                 key  living_donors  \\\n",
       "0  2013-Alabama-<1Year-Male-AmericanIndian/Alaska...            NaN   \n",
       "1  2014-Alabama-<1Year-Male-AmericanIndian/Alaska...            NaN   \n",
       "2  2015-Alabama-<1Year-Male-AmericanIndian/Alaska...            NaN   \n",
       "3  2016-Alabama-<1Year-Male-AmericanIndian/Alaska...            NaN   \n",
       "4  2017-Alabama-<1Year-Male-AmericanIndian/Alaska...            NaN   \n",
       "\n",
       "   deceased_donors     _merge  \n",
       "0              0.0       both  \n",
       "1              NaN  left_only  \n",
       "2              NaN  left_only  \n",
       "3              0.0       both  \n",
       "4              0.0       both  "
      ]
     },
     "execution_count": 45,
     "metadata": {},
     "output_type": "execute_result"
    }
   ],
   "source": [
    "# Confirming correct column was renamed\n",
    "dfm.head()"
   ]
  },
  {
   "cell_type": "markdown",
   "id": "b74ec7ba",
   "metadata": {},
   "source": [
    "#### Remove merge flag"
   ]
  },
  {
   "cell_type": "code",
   "execution_count": 46,
   "id": "69418a2f",
   "metadata": {},
   "outputs": [],
   "source": [
    "dfm = dfm.drop(columns='_merge')"
   ]
  },
  {
   "cell_type": "code",
   "execution_count": 47,
   "id": "f2639dce",
   "metadata": {},
   "outputs": [
    {
     "data": {
      "text/plain": [
       "(56000, 9)"
      ]
     },
     "execution_count": 47,
     "metadata": {},
     "output_type": "execute_result"
    }
   ],
   "source": [
    "dfm.shape"
   ]
  },
  {
   "cell_type": "code",
   "execution_count": 48,
   "id": "6cae3631",
   "metadata": {},
   "outputs": [
    {
     "data": {
      "text/html": [
       "<div>\n",
       "<style scoped>\n",
       "    .dataframe tbody tr th:only-of-type {\n",
       "        vertical-align: middle;\n",
       "    }\n",
       "\n",
       "    .dataframe tbody tr th {\n",
       "        vertical-align: top;\n",
       "    }\n",
       "\n",
       "    .dataframe thead th {\n",
       "        text-align: right;\n",
       "    }\n",
       "</style>\n",
       "<table border=\"1\" class=\"dataframe\">\n",
       "  <thead>\n",
       "    <tr style=\"text-align: right;\">\n",
       "      <th></th>\n",
       "      <th>population</th>\n",
       "      <th>year</th>\n",
       "      <th>state</th>\n",
       "      <th>age_group</th>\n",
       "      <th>gender</th>\n",
       "      <th>ethnicity</th>\n",
       "      <th>key</th>\n",
       "      <th>living_donors</th>\n",
       "      <th>deceased_donors</th>\n",
       "    </tr>\n",
       "  </thead>\n",
       "  <tbody>\n",
       "    <tr>\n",
       "      <th>0</th>\n",
       "      <td>96.0</td>\n",
       "      <td>2013</td>\n",
       "      <td>Alabama</td>\n",
       "      <td>&lt; 1 Year</td>\n",
       "      <td>Male</td>\n",
       "      <td>American Indian/Alaska Native (Non-Hispanic)</td>\n",
       "      <td>2013-Alabama-&lt;1Year-Male-AmericanIndian/Alaska...</td>\n",
       "      <td>NaN</td>\n",
       "      <td>0.0</td>\n",
       "    </tr>\n",
       "    <tr>\n",
       "      <th>1</th>\n",
       "      <td>123.0</td>\n",
       "      <td>2014</td>\n",
       "      <td>Alabama</td>\n",
       "      <td>&lt; 1 Year</td>\n",
       "      <td>Male</td>\n",
       "      <td>American Indian/Alaska Native (Non-Hispanic)</td>\n",
       "      <td>2014-Alabama-&lt;1Year-Male-AmericanIndian/Alaska...</td>\n",
       "      <td>NaN</td>\n",
       "      <td>NaN</td>\n",
       "    </tr>\n",
       "    <tr>\n",
       "      <th>2</th>\n",
       "      <td>78.0</td>\n",
       "      <td>2015</td>\n",
       "      <td>Alabama</td>\n",
       "      <td>&lt; 1 Year</td>\n",
       "      <td>Male</td>\n",
       "      <td>American Indian/Alaska Native (Non-Hispanic)</td>\n",
       "      <td>2015-Alabama-&lt;1Year-Male-AmericanIndian/Alaska...</td>\n",
       "      <td>NaN</td>\n",
       "      <td>NaN</td>\n",
       "    </tr>\n",
       "    <tr>\n",
       "      <th>3</th>\n",
       "      <td>85.0</td>\n",
       "      <td>2016</td>\n",
       "      <td>Alabama</td>\n",
       "      <td>&lt; 1 Year</td>\n",
       "      <td>Male</td>\n",
       "      <td>American Indian/Alaska Native (Non-Hispanic)</td>\n",
       "      <td>2016-Alabama-&lt;1Year-Male-AmericanIndian/Alaska...</td>\n",
       "      <td>NaN</td>\n",
       "      <td>0.0</td>\n",
       "    </tr>\n",
       "    <tr>\n",
       "      <th>4</th>\n",
       "      <td>95.0</td>\n",
       "      <td>2017</td>\n",
       "      <td>Alabama</td>\n",
       "      <td>&lt; 1 Year</td>\n",
       "      <td>Male</td>\n",
       "      <td>American Indian/Alaska Native (Non-Hispanic)</td>\n",
       "      <td>2017-Alabama-&lt;1Year-Male-AmericanIndian/Alaska...</td>\n",
       "      <td>NaN</td>\n",
       "      <td>0.0</td>\n",
       "    </tr>\n",
       "  </tbody>\n",
       "</table>\n",
       "</div>"
      ],
      "text/plain": [
       "   population  year    state age_group gender  \\\n",
       "0        96.0  2013  Alabama  < 1 Year   Male   \n",
       "1       123.0  2014  Alabama  < 1 Year   Male   \n",
       "2        78.0  2015  Alabama  < 1 Year   Male   \n",
       "3        85.0  2016  Alabama  < 1 Year   Male   \n",
       "4        95.0  2017  Alabama  < 1 Year   Male   \n",
       "\n",
       "                                      ethnicity  \\\n",
       "0  American Indian/Alaska Native (Non-Hispanic)   \n",
       "1  American Indian/Alaska Native (Non-Hispanic)   \n",
       "2  American Indian/Alaska Native (Non-Hispanic)   \n",
       "3  American Indian/Alaska Native (Non-Hispanic)   \n",
       "4  American Indian/Alaska Native (Non-Hispanic)   \n",
       "\n",
       "                                                 key  living_donors  \\\n",
       "0  2013-Alabama-<1Year-Male-AmericanIndian/Alaska...            NaN   \n",
       "1  2014-Alabama-<1Year-Male-AmericanIndian/Alaska...            NaN   \n",
       "2  2015-Alabama-<1Year-Male-AmericanIndian/Alaska...            NaN   \n",
       "3  2016-Alabama-<1Year-Male-AmericanIndian/Alaska...            NaN   \n",
       "4  2017-Alabama-<1Year-Male-AmericanIndian/Alaska...            NaN   \n",
       "\n",
       "   deceased_donors  \n",
       "0              0.0  \n",
       "1              NaN  \n",
       "2              NaN  \n",
       "3              0.0  \n",
       "4              0.0  "
      ]
     },
     "execution_count": 48,
     "metadata": {},
     "output_type": "execute_result"
    }
   ],
   "source": [
    "dfm.head()"
   ]
  },
  {
   "cell_type": "code",
   "execution_count": 49,
   "id": "d1122404",
   "metadata": {},
   "outputs": [
    {
     "name": "stdout",
     "output_type": "stream",
     "text": [
      "<class 'pandas.core.frame.DataFrame'>\n",
      "Int64Index: 56000 entries, 0 to 55999\n",
      "Data columns (total 9 columns):\n",
      " #   Column           Non-Null Count  Dtype   \n",
      "---  ------           --------------  -----   \n",
      " 0   population       56000 non-null  float64 \n",
      " 1   year             56000 non-null  int16   \n",
      " 2   state            56000 non-null  category\n",
      " 3   age_group        56000 non-null  category\n",
      " 4   gender           56000 non-null  category\n",
      " 5   ethnicity        56000 non-null  category\n",
      " 6   key              56000 non-null  object  \n",
      " 7   living_donors    26684 non-null  float64 \n",
      " 8   deceased_donors  49476 non-null  float64 \n",
      "dtypes: category(4), float64(3), int16(1), object(1)\n",
      "memory usage: 2.5+ MB\n"
     ]
    }
   ],
   "source": [
    "dfm.info()"
   ]
  },
  {
   "cell_type": "markdown",
   "id": "035bda83",
   "metadata": {},
   "source": [
    "### 0.7 Replace NaNs with zero"
   ]
  },
  {
   "cell_type": "markdown",
   "id": "95bf6431",
   "metadata": {},
   "source": [
    "In years where there were no donors for a particular demographic (state-gender-age_group-ethnicity), then the state did not report any data.  These instances are currently represented by a null (NaN) and this will change them to zeroes for clarity."
   ]
  },
  {
   "cell_type": "code",
   "execution_count": 50,
   "id": "0da94414",
   "metadata": {},
   "outputs": [],
   "source": [
    "dfm['living_donors'] = dfm['living_donors'].replace(np.nan, 0)"
   ]
  },
  {
   "cell_type": "code",
   "execution_count": 51,
   "id": "b398ebca",
   "metadata": {},
   "outputs": [],
   "source": [
    "dfm['deceased_donors'] = dfm['deceased_donors'].replace(np.nan, 0)"
   ]
  },
  {
   "cell_type": "code",
   "execution_count": 52,
   "id": "dedfd7d1",
   "metadata": {},
   "outputs": [
    {
     "data": {
      "text/html": [
       "<div>\n",
       "<style scoped>\n",
       "    .dataframe tbody tr th:only-of-type {\n",
       "        vertical-align: middle;\n",
       "    }\n",
       "\n",
       "    .dataframe tbody tr th {\n",
       "        vertical-align: top;\n",
       "    }\n",
       "\n",
       "    .dataframe thead th {\n",
       "        text-align: right;\n",
       "    }\n",
       "</style>\n",
       "<table border=\"1\" class=\"dataframe\">\n",
       "  <thead>\n",
       "    <tr style=\"text-align: right;\">\n",
       "      <th></th>\n",
       "      <th>population</th>\n",
       "      <th>year</th>\n",
       "      <th>state</th>\n",
       "      <th>age_group</th>\n",
       "      <th>gender</th>\n",
       "      <th>ethnicity</th>\n",
       "      <th>key</th>\n",
       "      <th>living_donors</th>\n",
       "      <th>deceased_donors</th>\n",
       "    </tr>\n",
       "  </thead>\n",
       "  <tbody>\n",
       "    <tr>\n",
       "      <th>0</th>\n",
       "      <td>96.0</td>\n",
       "      <td>2013</td>\n",
       "      <td>Alabama</td>\n",
       "      <td>&lt; 1 Year</td>\n",
       "      <td>Male</td>\n",
       "      <td>American Indian/Alaska Native (Non-Hispanic)</td>\n",
       "      <td>2013-Alabama-&lt;1Year-Male-AmericanIndian/Alaska...</td>\n",
       "      <td>0.0</td>\n",
       "      <td>0.0</td>\n",
       "    </tr>\n",
       "    <tr>\n",
       "      <th>1</th>\n",
       "      <td>123.0</td>\n",
       "      <td>2014</td>\n",
       "      <td>Alabama</td>\n",
       "      <td>&lt; 1 Year</td>\n",
       "      <td>Male</td>\n",
       "      <td>American Indian/Alaska Native (Non-Hispanic)</td>\n",
       "      <td>2014-Alabama-&lt;1Year-Male-AmericanIndian/Alaska...</td>\n",
       "      <td>0.0</td>\n",
       "      <td>0.0</td>\n",
       "    </tr>\n",
       "    <tr>\n",
       "      <th>2</th>\n",
       "      <td>78.0</td>\n",
       "      <td>2015</td>\n",
       "      <td>Alabama</td>\n",
       "      <td>&lt; 1 Year</td>\n",
       "      <td>Male</td>\n",
       "      <td>American Indian/Alaska Native (Non-Hispanic)</td>\n",
       "      <td>2015-Alabama-&lt;1Year-Male-AmericanIndian/Alaska...</td>\n",
       "      <td>0.0</td>\n",
       "      <td>0.0</td>\n",
       "    </tr>\n",
       "    <tr>\n",
       "      <th>3</th>\n",
       "      <td>85.0</td>\n",
       "      <td>2016</td>\n",
       "      <td>Alabama</td>\n",
       "      <td>&lt; 1 Year</td>\n",
       "      <td>Male</td>\n",
       "      <td>American Indian/Alaska Native (Non-Hispanic)</td>\n",
       "      <td>2016-Alabama-&lt;1Year-Male-AmericanIndian/Alaska...</td>\n",
       "      <td>0.0</td>\n",
       "      <td>0.0</td>\n",
       "    </tr>\n",
       "    <tr>\n",
       "      <th>4</th>\n",
       "      <td>95.0</td>\n",
       "      <td>2017</td>\n",
       "      <td>Alabama</td>\n",
       "      <td>&lt; 1 Year</td>\n",
       "      <td>Male</td>\n",
       "      <td>American Indian/Alaska Native (Non-Hispanic)</td>\n",
       "      <td>2017-Alabama-&lt;1Year-Male-AmericanIndian/Alaska...</td>\n",
       "      <td>0.0</td>\n",
       "      <td>0.0</td>\n",
       "    </tr>\n",
       "  </tbody>\n",
       "</table>\n",
       "</div>"
      ],
      "text/plain": [
       "   population  year    state age_group gender  \\\n",
       "0        96.0  2013  Alabama  < 1 Year   Male   \n",
       "1       123.0  2014  Alabama  < 1 Year   Male   \n",
       "2        78.0  2015  Alabama  < 1 Year   Male   \n",
       "3        85.0  2016  Alabama  < 1 Year   Male   \n",
       "4        95.0  2017  Alabama  < 1 Year   Male   \n",
       "\n",
       "                                      ethnicity  \\\n",
       "0  American Indian/Alaska Native (Non-Hispanic)   \n",
       "1  American Indian/Alaska Native (Non-Hispanic)   \n",
       "2  American Indian/Alaska Native (Non-Hispanic)   \n",
       "3  American Indian/Alaska Native (Non-Hispanic)   \n",
       "4  American Indian/Alaska Native (Non-Hispanic)   \n",
       "\n",
       "                                                 key  living_donors  \\\n",
       "0  2013-Alabama-<1Year-Male-AmericanIndian/Alaska...            0.0   \n",
       "1  2014-Alabama-<1Year-Male-AmericanIndian/Alaska...            0.0   \n",
       "2  2015-Alabama-<1Year-Male-AmericanIndian/Alaska...            0.0   \n",
       "3  2016-Alabama-<1Year-Male-AmericanIndian/Alaska...            0.0   \n",
       "4  2017-Alabama-<1Year-Male-AmericanIndian/Alaska...            0.0   \n",
       "\n",
       "   deceased_donors  \n",
       "0              0.0  \n",
       "1              0.0  \n",
       "2              0.0  \n",
       "3              0.0  \n",
       "4              0.0  "
      ]
     },
     "execution_count": 52,
     "metadata": {},
     "output_type": "execute_result"
    }
   ],
   "source": [
    "dfm.head()"
   ]
  },
  {
   "cell_type": "code",
   "execution_count": 53,
   "id": "c3efbf1c",
   "metadata": {},
   "outputs": [
    {
     "data": {
      "text/plain": [
       "population         0\n",
       "year               0\n",
       "state              0\n",
       "age_group          0\n",
       "gender             0\n",
       "ethnicity          0\n",
       "key                0\n",
       "living_donors      0\n",
       "deceased_donors    0\n",
       "dtype: int64"
      ]
     },
     "execution_count": 53,
     "metadata": {},
     "output_type": "execute_result"
    }
   ],
   "source": [
    "dfm.isnull().sum()"
   ]
  },
  {
   "cell_type": "markdown",
   "id": "8c6405e5",
   "metadata": {},
   "source": [
    "All null values have been changed to zeros."
   ]
  },
  {
   "cell_type": "markdown",
   "id": "1a84cf47",
   "metadata": {},
   "source": [
    "### 0.7 Derive total_donors columns"
   ]
  },
  {
   "cell_type": "code",
   "execution_count": 54,
   "id": "2a1d2715",
   "metadata": {},
   "outputs": [],
   "source": [
    "# Adding a colum for total_donors for each demographic slice\n",
    "dfm['total_donors'] = dfm['living_donors'] + dfm['deceased_donors']"
   ]
  },
  {
   "cell_type": "code",
   "execution_count": 55,
   "id": "692c0d35",
   "metadata": {},
   "outputs": [
    {
     "data": {
      "text/plain": [
       "(56000, 10)"
      ]
     },
     "execution_count": 55,
     "metadata": {},
     "output_type": "execute_result"
    }
   ],
   "source": [
    "# Confirming the look of the new column\n",
    "dfm.shape"
   ]
  },
  {
   "cell_type": "code",
   "execution_count": 56,
   "id": "a4459331",
   "metadata": {},
   "outputs": [
    {
     "data": {
      "text/html": [
       "<div>\n",
       "<style scoped>\n",
       "    .dataframe tbody tr th:only-of-type {\n",
       "        vertical-align: middle;\n",
       "    }\n",
       "\n",
       "    .dataframe tbody tr th {\n",
       "        vertical-align: top;\n",
       "    }\n",
       "\n",
       "    .dataframe thead th {\n",
       "        text-align: right;\n",
       "    }\n",
       "</style>\n",
       "<table border=\"1\" class=\"dataframe\">\n",
       "  <thead>\n",
       "    <tr style=\"text-align: right;\">\n",
       "      <th></th>\n",
       "      <th>population</th>\n",
       "      <th>year</th>\n",
       "      <th>state</th>\n",
       "      <th>age_group</th>\n",
       "      <th>gender</th>\n",
       "      <th>ethnicity</th>\n",
       "      <th>key</th>\n",
       "      <th>living_donors</th>\n",
       "      <th>deceased_donors</th>\n",
       "      <th>total_donors</th>\n",
       "    </tr>\n",
       "  </thead>\n",
       "  <tbody>\n",
       "    <tr>\n",
       "      <th>0</th>\n",
       "      <td>96.0</td>\n",
       "      <td>2013</td>\n",
       "      <td>Alabama</td>\n",
       "      <td>&lt; 1 Year</td>\n",
       "      <td>Male</td>\n",
       "      <td>American Indian/Alaska Native (Non-Hispanic)</td>\n",
       "      <td>2013-Alabama-&lt;1Year-Male-AmericanIndian/Alaska...</td>\n",
       "      <td>0.0</td>\n",
       "      <td>0.0</td>\n",
       "      <td>0.0</td>\n",
       "    </tr>\n",
       "    <tr>\n",
       "      <th>1</th>\n",
       "      <td>123.0</td>\n",
       "      <td>2014</td>\n",
       "      <td>Alabama</td>\n",
       "      <td>&lt; 1 Year</td>\n",
       "      <td>Male</td>\n",
       "      <td>American Indian/Alaska Native (Non-Hispanic)</td>\n",
       "      <td>2014-Alabama-&lt;1Year-Male-AmericanIndian/Alaska...</td>\n",
       "      <td>0.0</td>\n",
       "      <td>0.0</td>\n",
       "      <td>0.0</td>\n",
       "    </tr>\n",
       "    <tr>\n",
       "      <th>2</th>\n",
       "      <td>78.0</td>\n",
       "      <td>2015</td>\n",
       "      <td>Alabama</td>\n",
       "      <td>&lt; 1 Year</td>\n",
       "      <td>Male</td>\n",
       "      <td>American Indian/Alaska Native (Non-Hispanic)</td>\n",
       "      <td>2015-Alabama-&lt;1Year-Male-AmericanIndian/Alaska...</td>\n",
       "      <td>0.0</td>\n",
       "      <td>0.0</td>\n",
       "      <td>0.0</td>\n",
       "    </tr>\n",
       "    <tr>\n",
       "      <th>3</th>\n",
       "      <td>85.0</td>\n",
       "      <td>2016</td>\n",
       "      <td>Alabama</td>\n",
       "      <td>&lt; 1 Year</td>\n",
       "      <td>Male</td>\n",
       "      <td>American Indian/Alaska Native (Non-Hispanic)</td>\n",
       "      <td>2016-Alabama-&lt;1Year-Male-AmericanIndian/Alaska...</td>\n",
       "      <td>0.0</td>\n",
       "      <td>0.0</td>\n",
       "      <td>0.0</td>\n",
       "    </tr>\n",
       "    <tr>\n",
       "      <th>4</th>\n",
       "      <td>95.0</td>\n",
       "      <td>2017</td>\n",
       "      <td>Alabama</td>\n",
       "      <td>&lt; 1 Year</td>\n",
       "      <td>Male</td>\n",
       "      <td>American Indian/Alaska Native (Non-Hispanic)</td>\n",
       "      <td>2017-Alabama-&lt;1Year-Male-AmericanIndian/Alaska...</td>\n",
       "      <td>0.0</td>\n",
       "      <td>0.0</td>\n",
       "      <td>0.0</td>\n",
       "    </tr>\n",
       "  </tbody>\n",
       "</table>\n",
       "</div>"
      ],
      "text/plain": [
       "   population  year    state age_group gender  \\\n",
       "0        96.0  2013  Alabama  < 1 Year   Male   \n",
       "1       123.0  2014  Alabama  < 1 Year   Male   \n",
       "2        78.0  2015  Alabama  < 1 Year   Male   \n",
       "3        85.0  2016  Alabama  < 1 Year   Male   \n",
       "4        95.0  2017  Alabama  < 1 Year   Male   \n",
       "\n",
       "                                      ethnicity  \\\n",
       "0  American Indian/Alaska Native (Non-Hispanic)   \n",
       "1  American Indian/Alaska Native (Non-Hispanic)   \n",
       "2  American Indian/Alaska Native (Non-Hispanic)   \n",
       "3  American Indian/Alaska Native (Non-Hispanic)   \n",
       "4  American Indian/Alaska Native (Non-Hispanic)   \n",
       "\n",
       "                                                 key  living_donors  \\\n",
       "0  2013-Alabama-<1Year-Male-AmericanIndian/Alaska...            0.0   \n",
       "1  2014-Alabama-<1Year-Male-AmericanIndian/Alaska...            0.0   \n",
       "2  2015-Alabama-<1Year-Male-AmericanIndian/Alaska...            0.0   \n",
       "3  2016-Alabama-<1Year-Male-AmericanIndian/Alaska...            0.0   \n",
       "4  2017-Alabama-<1Year-Male-AmericanIndian/Alaska...            0.0   \n",
       "\n",
       "   deceased_donors  total_donors  \n",
       "0              0.0           0.0  \n",
       "1              0.0           0.0  \n",
       "2              0.0           0.0  \n",
       "3              0.0           0.0  \n",
       "4              0.0           0.0  "
      ]
     },
     "execution_count": 56,
     "metadata": {},
     "output_type": "execute_result"
    }
   ],
   "source": [
    "dfm.head()"
   ]
  },
  {
   "cell_type": "code",
   "execution_count": 57,
   "id": "4018aa7b",
   "metadata": {},
   "outputs": [],
   "source": [
    "# Confirming it contains the correct data."
   ]
  },
  {
   "cell_type": "code",
   "execution_count": 58,
   "id": "ac95c21d",
   "metadata": {},
   "outputs": [
    {
     "data": {
      "text/plain": [
       "169541.0"
      ]
     },
     "execution_count": 58,
     "metadata": {},
     "output_type": "execute_result"
    }
   ],
   "source": [
    "dfm['living_donors'].sum() + dfm['deceased_donors'].sum()"
   ]
  },
  {
   "cell_type": "code",
   "execution_count": 59,
   "id": "2b927c7d",
   "metadata": {},
   "outputs": [
    {
     "data": {
      "text/plain": [
       "169541.0"
      ]
     },
     "execution_count": 59,
     "metadata": {},
     "output_type": "execute_result"
    }
   ],
   "source": [
    "dfm['total_donors'].sum()"
   ]
  },
  {
   "cell_type": "markdown",
   "id": "7d9b1c03",
   "metadata": {},
   "source": [
    "### 0.8 Export Merged Dataframe: donors-census.pkl"
   ]
  },
  {
   "cell_type": "code",
   "execution_count": 63,
   "id": "186d00ee",
   "metadata": {},
   "outputs": [
    {
     "data": {
      "text/plain": [
       "(56000, 10)"
      ]
     },
     "execution_count": 63,
     "metadata": {},
     "output_type": "execute_result"
    }
   ],
   "source": [
    "# Confirming final shape and datetypes\n",
    "dfm.shape"
   ]
  },
  {
   "cell_type": "code",
   "execution_count": 64,
   "id": "8b04dab1",
   "metadata": {},
   "outputs": [
    {
     "name": "stdout",
     "output_type": "stream",
     "text": [
      "<class 'pandas.core.frame.DataFrame'>\n",
      "Int64Index: 56000 entries, 0 to 55999\n",
      "Data columns (total 10 columns):\n",
      " #   Column           Non-Null Count  Dtype   \n",
      "---  ------           --------------  -----   \n",
      " 0   population       56000 non-null  float64 \n",
      " 1   year             56000 non-null  int16   \n",
      " 2   state            56000 non-null  category\n",
      " 3   age_group        56000 non-null  category\n",
      " 4   gender           56000 non-null  category\n",
      " 5   ethnicity        56000 non-null  category\n",
      " 6   key              56000 non-null  object  \n",
      " 7   living_donors    56000 non-null  float64 \n",
      " 8   deceased_donors  56000 non-null  float64 \n",
      " 9   total_donors     56000 non-null  float64 \n",
      "dtypes: category(4), float64(4), int16(1), object(1)\n",
      "memory usage: 2.9+ MB\n"
     ]
    }
   ],
   "source": [
    "dfm.info()"
   ]
  },
  {
   "cell_type": "code",
   "execution_count": 65,
   "id": "b4aa7408",
   "metadata": {},
   "outputs": [],
   "source": [
    "# Export df as a pickle file for future analysis in Python\n",
    "dfm.to_pickle(os.path.join(path, '02 Data','Prepared Data', 'donors-census.pkl'))"
   ]
  },
  {
   "cell_type": "code",
   "execution_count": 66,
   "id": "4fee9af4",
   "metadata": {},
   "outputs": [],
   "source": [
    "# Export a copy of the df as .csv that can be opened in Excel\n",
    "dfm.to_csv(os.path.join(path, '02 Data','Prepared Data', 'donors-census.csv'), index = False)"
   ]
  },
  {
   "cell_type": "code",
   "execution_count": null,
   "id": "8204d931",
   "metadata": {},
   "outputs": [],
   "source": []
  }
 ],
 "metadata": {
  "kernelspec": {
   "display_name": "Python 3 (ipykernel)",
   "language": "python",
   "name": "python3"
  },
  "language_info": {
   "codemirror_mode": {
    "name": "ipython",
    "version": 3
   },
   "file_extension": ".py",
   "mimetype": "text/x-python",
   "name": "python",
   "nbconvert_exporter": "python",
   "pygments_lexer": "ipython3",
   "version": "3.9.13"
  }
 },
 "nbformat": 4,
 "nbformat_minor": 5
}
