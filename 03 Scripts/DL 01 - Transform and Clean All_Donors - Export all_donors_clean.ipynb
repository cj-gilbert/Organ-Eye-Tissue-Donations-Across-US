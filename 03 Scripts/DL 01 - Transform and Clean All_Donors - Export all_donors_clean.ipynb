{
 "cells": [
  {
   "cell_type": "markdown",
   "id": "9c586790",
   "metadata": {},
   "source": [
    "# Table of Contents"
   ]
  },
  {
   "cell_type": "markdown",
   "id": "9e479334",
   "metadata": {},
   "source": [
    "0.1 Import Libraries\n",
    "\n",
    "0.2 Import Data: All_Donors.csv\n",
    "\n",
    "0.3 Explore Original Dataframe\n",
    "\n",
    "0.4 Drop Unneeded Columns\n",
    "\n",
    "0.5 Transform Dataframe / Wrangle Table Structure\n",
    "\n",
    "0.6 Adjust Datatypes\n",
    "\n",
    "0.7 Clean / Check / Wrangle Data\n",
    "    \n",
    "    0.7.1 Overall df\n",
    "    0.7.2 number_donors\n",
    "    0.7.3 donor_type\n",
    "    0.7.4 year\n",
    "    0.7.5 state\n",
    "    0.7.6 age_group\n",
    "    0.7.7 gender\n",
    "    0.7.8 ethnicity\n",
    "\n",
    "0.8 Export the Clean Dataframe: all_donors_clean.pkl\n",
    "\n"
   ]
  },
  {
   "cell_type": "markdown",
   "id": "f6a35677",
   "metadata": {},
   "source": [
    "### 0.1 Import Libraries"
   ]
  },
  {
   "cell_type": "code",
   "execution_count": 1,
   "id": "06568fdf",
   "metadata": {},
   "outputs": [],
   "source": [
    "# Import libraries\n",
    "import pandas as pd\n",
    "import numpy as np\n",
    "import os\n",
    "import matplotlib.pyplot as plt\n",
    "import seaborn as sns\n",
    "import scipy"
   ]
  },
  {
   "cell_type": "markdown",
   "id": "1827ebd0",
   "metadata": {},
   "source": [
    "### 0.2 Import Data: All_Donors.csv"
   ]
  },
  {
   "cell_type": "code",
   "execution_count": 2,
   "id": "1b1d5cfc",
   "metadata": {},
   "outputs": [],
   "source": [
    "# Identify the file pathway to data files\n",
    "path = r'C:\\Users\\CJ\\Documents\\_CJ-Stuff\\Career Foundry\\Data Immersion\\Ach 6 - Adv Analytics and Dashboard\\Donate Life Project'"
   ]
  },
  {
   "cell_type": "code",
   "execution_count": 3,
   "id": "39320ce5",
   "metadata": {},
   "outputs": [],
   "source": [
    "# Import data\n",
    "df = pd.read_csv(os.path.join(path, '02 Data', 'Original Data', 'All_Donors.csv'))"
   ]
  },
  {
   "cell_type": "markdown",
   "id": "9fb8dbcb",
   "metadata": {},
   "source": [
    "### 0.3 Explore Original Dataframe"
   ]
  },
  {
   "cell_type": "code",
   "execution_count": 4,
   "id": "3fee77fe",
   "metadata": {},
   "outputs": [
    {
     "data": {
      "text/plain": [
       "(5440, 20)"
      ]
     },
     "execution_count": 4,
     "metadata": {},
     "output_type": "execute_result"
    }
   ],
   "source": [
    "df.shape"
   ]
  },
  {
   "cell_type": "markdown",
   "id": "a184c0eb",
   "metadata": {},
   "source": [
    "The number of rows and columns matches what was exported from Excel."
   ]
  },
  {
   "cell_type": "code",
   "execution_count": 5,
   "id": "49a23b91",
   "metadata": {},
   "outputs": [
    {
     "data": {
      "text/html": [
       "<div>\n",
       "<style scoped>\n",
       "    .dataframe tbody tr th:only-of-type {\n",
       "        vertical-align: middle;\n",
       "    }\n",
       "\n",
       "    .dataframe tbody tr th {\n",
       "        vertical-align: top;\n",
       "    }\n",
       "\n",
       "    .dataframe thead th {\n",
       "        text-align: right;\n",
       "    }\n",
       "</style>\n",
       "<table border=\"1\" class=\"dataframe\">\n",
       "  <thead>\n",
       "    <tr style=\"text-align: right;\">\n",
       "      <th></th>\n",
       "      <th>donor_type</th>\n",
       "      <th>year</th>\n",
       "      <th>state</th>\n",
       "      <th>age_group</th>\n",
       "      <th>Male, White (Non-Hispanic)</th>\n",
       "      <th>Male, Black (Non-Hispanic)</th>\n",
       "      <th>Male, Hispanic/Latino</th>\n",
       "      <th>Male, Unknown</th>\n",
       "      <th>Male, Asian (Non-Hispanic)</th>\n",
       "      <th>Male, American Indian/Alaska Native (Non-Hispanic)</th>\n",
       "      <th>Male, Pacific Islander (Non-Hispanic)</th>\n",
       "      <th>Male, Multiracial (Non-Hispanic)</th>\n",
       "      <th>Female, White (Non-Hispanic)</th>\n",
       "      <th>Female, Black (Non-Hispanic)</th>\n",
       "      <th>Female, Hispanic/Latino</th>\n",
       "      <th>Female, Unknown</th>\n",
       "      <th>Female, Asian (Non-Hispanic)</th>\n",
       "      <th>Female, American Indian/Alaska Native (Non-Hispanic)</th>\n",
       "      <th>Female, Pacific Islander (Non-Hispanic)</th>\n",
       "      <th>Female, Multiracial (Non-Hispanic)</th>\n",
       "    </tr>\n",
       "  </thead>\n",
       "  <tbody>\n",
       "    <tr>\n",
       "      <th>0</th>\n",
       "      <td>Living</td>\n",
       "      <td>2022</td>\n",
       "      <td>Alabama</td>\n",
       "      <td>18-34 Years</td>\n",
       "      <td>8</td>\n",
       "      <td>1</td>\n",
       "      <td>0</td>\n",
       "      <td>0</td>\n",
       "      <td>0</td>\n",
       "      <td>0</td>\n",
       "      <td>0</td>\n",
       "      <td>0</td>\n",
       "      <td>7</td>\n",
       "      <td>1</td>\n",
       "      <td>0</td>\n",
       "      <td>0</td>\n",
       "      <td>0</td>\n",
       "      <td>0</td>\n",
       "      <td>0</td>\n",
       "      <td>0</td>\n",
       "    </tr>\n",
       "    <tr>\n",
       "      <th>1</th>\n",
       "      <td>Living</td>\n",
       "      <td>2022</td>\n",
       "      <td>Alabama</td>\n",
       "      <td>35-49 Years</td>\n",
       "      <td>5</td>\n",
       "      <td>0</td>\n",
       "      <td>0</td>\n",
       "      <td>0</td>\n",
       "      <td>0</td>\n",
       "      <td>0</td>\n",
       "      <td>0</td>\n",
       "      <td>0</td>\n",
       "      <td>13</td>\n",
       "      <td>6</td>\n",
       "      <td>0</td>\n",
       "      <td>0</td>\n",
       "      <td>0</td>\n",
       "      <td>0</td>\n",
       "      <td>0</td>\n",
       "      <td>0</td>\n",
       "    </tr>\n",
       "    <tr>\n",
       "      <th>2</th>\n",
       "      <td>Living</td>\n",
       "      <td>2022</td>\n",
       "      <td>Alabama</td>\n",
       "      <td>50-64 Years</td>\n",
       "      <td>4</td>\n",
       "      <td>0</td>\n",
       "      <td>0</td>\n",
       "      <td>0</td>\n",
       "      <td>0</td>\n",
       "      <td>0</td>\n",
       "      <td>0</td>\n",
       "      <td>0</td>\n",
       "      <td>13</td>\n",
       "      <td>1</td>\n",
       "      <td>0</td>\n",
       "      <td>0</td>\n",
       "      <td>0</td>\n",
       "      <td>0</td>\n",
       "      <td>0</td>\n",
       "      <td>0</td>\n",
       "    </tr>\n",
       "    <tr>\n",
       "      <th>3</th>\n",
       "      <td>Living</td>\n",
       "      <td>2022</td>\n",
       "      <td>Alabama</td>\n",
       "      <td>65 +</td>\n",
       "      <td>0</td>\n",
       "      <td>0</td>\n",
       "      <td>0</td>\n",
       "      <td>0</td>\n",
       "      <td>0</td>\n",
       "      <td>0</td>\n",
       "      <td>0</td>\n",
       "      <td>0</td>\n",
       "      <td>0</td>\n",
       "      <td>0</td>\n",
       "      <td>0</td>\n",
       "      <td>0</td>\n",
       "      <td>1</td>\n",
       "      <td>0</td>\n",
       "      <td>0</td>\n",
       "      <td>0</td>\n",
       "    </tr>\n",
       "    <tr>\n",
       "      <th>4</th>\n",
       "      <td>Living</td>\n",
       "      <td>2022</td>\n",
       "      <td>Alaska</td>\n",
       "      <td>18-34 Years</td>\n",
       "      <td>1</td>\n",
       "      <td>0</td>\n",
       "      <td>0</td>\n",
       "      <td>0</td>\n",
       "      <td>0</td>\n",
       "      <td>0</td>\n",
       "      <td>0</td>\n",
       "      <td>0</td>\n",
       "      <td>0</td>\n",
       "      <td>0</td>\n",
       "      <td>0</td>\n",
       "      <td>0</td>\n",
       "      <td>0</td>\n",
       "      <td>0</td>\n",
       "      <td>0</td>\n",
       "      <td>0</td>\n",
       "    </tr>\n",
       "  </tbody>\n",
       "</table>\n",
       "</div>"
      ],
      "text/plain": [
       "  donor_type  year    state    age_group  Male, White (Non-Hispanic)  \\\n",
       "0     Living  2022  Alabama  18-34 Years                           8   \n",
       "1     Living  2022  Alabama  35-49 Years                           5   \n",
       "2     Living  2022  Alabama  50-64 Years                           4   \n",
       "3     Living  2022  Alabama         65 +                           0   \n",
       "4     Living  2022   Alaska  18-34 Years                           1   \n",
       "\n",
       "   Male, Black (Non-Hispanic)  Male, Hispanic/Latino  Male, Unknown  \\\n",
       "0                           1                      0              0   \n",
       "1                           0                      0              0   \n",
       "2                           0                      0              0   \n",
       "3                           0                      0              0   \n",
       "4                           0                      0              0   \n",
       "\n",
       "   Male, Asian (Non-Hispanic)  \\\n",
       "0                           0   \n",
       "1                           0   \n",
       "2                           0   \n",
       "3                           0   \n",
       "4                           0   \n",
       "\n",
       "   Male, American Indian/Alaska Native (Non-Hispanic)  \\\n",
       "0                                                  0    \n",
       "1                                                  0    \n",
       "2                                                  0    \n",
       "3                                                  0    \n",
       "4                                                  0    \n",
       "\n",
       "   Male, Pacific Islander (Non-Hispanic)  Male, Multiracial (Non-Hispanic)  \\\n",
       "0                                      0                                 0   \n",
       "1                                      0                                 0   \n",
       "2                                      0                                 0   \n",
       "3                                      0                                 0   \n",
       "4                                      0                                 0   \n",
       "\n",
       "   Female, White (Non-Hispanic)  Female, Black (Non-Hispanic)  \\\n",
       "0                             7                             1   \n",
       "1                            13                             6   \n",
       "2                            13                             1   \n",
       "3                             0                             0   \n",
       "4                             0                             0   \n",
       "\n",
       "   Female, Hispanic/Latino  Female, Unknown  Female, Asian (Non-Hispanic)  \\\n",
       "0                        0                0                             0   \n",
       "1                        0                0                             0   \n",
       "2                        0                0                             0   \n",
       "3                        0                0                             1   \n",
       "4                        0                0                             0   \n",
       "\n",
       "   Female, American Indian/Alaska Native (Non-Hispanic)  \\\n",
       "0                                                  0      \n",
       "1                                                  0      \n",
       "2                                                  0      \n",
       "3                                                  0      \n",
       "4                                                  0      \n",
       "\n",
       "   Female, Pacific Islander (Non-Hispanic)  Female, Multiracial (Non-Hispanic)  \n",
       "0                                        0                                   0  \n",
       "1                                        0                                   0  \n",
       "2                                        0                                   0  \n",
       "3                                        0                                   0  \n",
       "4                                        0                                   0  "
      ]
     },
     "execution_count": 5,
     "metadata": {},
     "output_type": "execute_result"
    }
   ],
   "source": [
    "df.head()"
   ]
  },
  {
   "cell_type": "code",
   "execution_count": 6,
   "id": "ccf86f29",
   "metadata": {},
   "outputs": [
    {
     "data": {
      "text/html": [
       "<div>\n",
       "<style scoped>\n",
       "    .dataframe tbody tr th:only-of-type {\n",
       "        vertical-align: middle;\n",
       "    }\n",
       "\n",
       "    .dataframe tbody tr th {\n",
       "        vertical-align: top;\n",
       "    }\n",
       "\n",
       "    .dataframe thead th {\n",
       "        text-align: right;\n",
       "    }\n",
       "</style>\n",
       "<table border=\"1\" class=\"dataframe\">\n",
       "  <thead>\n",
       "    <tr style=\"text-align: right;\">\n",
       "      <th></th>\n",
       "      <th>donor_type</th>\n",
       "      <th>year</th>\n",
       "      <th>state</th>\n",
       "      <th>age_group</th>\n",
       "      <th>Male, White (Non-Hispanic)</th>\n",
       "      <th>Male, Black (Non-Hispanic)</th>\n",
       "      <th>Male, Hispanic/Latino</th>\n",
       "      <th>Male, Unknown</th>\n",
       "      <th>Male, Asian (Non-Hispanic)</th>\n",
       "      <th>Male, American Indian/Alaska Native (Non-Hispanic)</th>\n",
       "      <th>Male, Pacific Islander (Non-Hispanic)</th>\n",
       "      <th>Male, Multiracial (Non-Hispanic)</th>\n",
       "      <th>Female, White (Non-Hispanic)</th>\n",
       "      <th>Female, Black (Non-Hispanic)</th>\n",
       "      <th>Female, Hispanic/Latino</th>\n",
       "      <th>Female, Unknown</th>\n",
       "      <th>Female, Asian (Non-Hispanic)</th>\n",
       "      <th>Female, American Indian/Alaska Native (Non-Hispanic)</th>\n",
       "      <th>Female, Pacific Islander (Non-Hispanic)</th>\n",
       "      <th>Female, Multiracial (Non-Hispanic)</th>\n",
       "    </tr>\n",
       "  </thead>\n",
       "  <tbody>\n",
       "    <tr>\n",
       "      <th>5435</th>\n",
       "      <td>Deceased</td>\n",
       "      <td>2013</td>\n",
       "      <td>Wisconsin</td>\n",
       "      <td>65 +</td>\n",
       "      <td>7</td>\n",
       "      <td>0</td>\n",
       "      <td>0</td>\n",
       "      <td>0</td>\n",
       "      <td>0</td>\n",
       "      <td>0</td>\n",
       "      <td>0</td>\n",
       "      <td>0</td>\n",
       "      <td>7</td>\n",
       "      <td>0</td>\n",
       "      <td>0</td>\n",
       "      <td>0</td>\n",
       "      <td>1</td>\n",
       "      <td>0</td>\n",
       "      <td>0</td>\n",
       "      <td>0</td>\n",
       "    </tr>\n",
       "    <tr>\n",
       "      <th>5436</th>\n",
       "      <td>Deceased</td>\n",
       "      <td>2013</td>\n",
       "      <td>Wyoming</td>\n",
       "      <td>&lt; 1 Year</td>\n",
       "      <td>1</td>\n",
       "      <td>0</td>\n",
       "      <td>0</td>\n",
       "      <td>0</td>\n",
       "      <td>0</td>\n",
       "      <td>0</td>\n",
       "      <td>0</td>\n",
       "      <td>0</td>\n",
       "      <td>0</td>\n",
       "      <td>0</td>\n",
       "      <td>0</td>\n",
       "      <td>0</td>\n",
       "      <td>0</td>\n",
       "      <td>0</td>\n",
       "      <td>0</td>\n",
       "      <td>0</td>\n",
       "    </tr>\n",
       "    <tr>\n",
       "      <th>5437</th>\n",
       "      <td>Deceased</td>\n",
       "      <td>2013</td>\n",
       "      <td>Wyoming</td>\n",
       "      <td>18-34 Years</td>\n",
       "      <td>2</td>\n",
       "      <td>0</td>\n",
       "      <td>0</td>\n",
       "      <td>0</td>\n",
       "      <td>0</td>\n",
       "      <td>0</td>\n",
       "      <td>0</td>\n",
       "      <td>0</td>\n",
       "      <td>1</td>\n",
       "      <td>0</td>\n",
       "      <td>0</td>\n",
       "      <td>0</td>\n",
       "      <td>0</td>\n",
       "      <td>0</td>\n",
       "      <td>0</td>\n",
       "      <td>0</td>\n",
       "    </tr>\n",
       "    <tr>\n",
       "      <th>5438</th>\n",
       "      <td>Deceased</td>\n",
       "      <td>2013</td>\n",
       "      <td>Wyoming</td>\n",
       "      <td>35-49 Years</td>\n",
       "      <td>0</td>\n",
       "      <td>0</td>\n",
       "      <td>1</td>\n",
       "      <td>0</td>\n",
       "      <td>0</td>\n",
       "      <td>0</td>\n",
       "      <td>0</td>\n",
       "      <td>0</td>\n",
       "      <td>1</td>\n",
       "      <td>0</td>\n",
       "      <td>0</td>\n",
       "      <td>0</td>\n",
       "      <td>0</td>\n",
       "      <td>0</td>\n",
       "      <td>0</td>\n",
       "      <td>0</td>\n",
       "    </tr>\n",
       "    <tr>\n",
       "      <th>5439</th>\n",
       "      <td>Deceased</td>\n",
       "      <td>2013</td>\n",
       "      <td>Wyoming</td>\n",
       "      <td>50-64 Years</td>\n",
       "      <td>2</td>\n",
       "      <td>0</td>\n",
       "      <td>0</td>\n",
       "      <td>0</td>\n",
       "      <td>0</td>\n",
       "      <td>0</td>\n",
       "      <td>0</td>\n",
       "      <td>0</td>\n",
       "      <td>0</td>\n",
       "      <td>0</td>\n",
       "      <td>0</td>\n",
       "      <td>0</td>\n",
       "      <td>0</td>\n",
       "      <td>1</td>\n",
       "      <td>0</td>\n",
       "      <td>0</td>\n",
       "    </tr>\n",
       "  </tbody>\n",
       "</table>\n",
       "</div>"
      ],
      "text/plain": [
       "     donor_type  year      state    age_group  Male, White (Non-Hispanic)  \\\n",
       "5435   Deceased  2013  Wisconsin         65 +                           7   \n",
       "5436   Deceased  2013    Wyoming     < 1 Year                           1   \n",
       "5437   Deceased  2013    Wyoming  18-34 Years                           2   \n",
       "5438   Deceased  2013    Wyoming  35-49 Years                           0   \n",
       "5439   Deceased  2013    Wyoming  50-64 Years                           2   \n",
       "\n",
       "      Male, Black (Non-Hispanic)  Male, Hispanic/Latino  Male, Unknown  \\\n",
       "5435                           0                      0              0   \n",
       "5436                           0                      0              0   \n",
       "5437                           0                      0              0   \n",
       "5438                           0                      1              0   \n",
       "5439                           0                      0              0   \n",
       "\n",
       "      Male, Asian (Non-Hispanic)  \\\n",
       "5435                           0   \n",
       "5436                           0   \n",
       "5437                           0   \n",
       "5438                           0   \n",
       "5439                           0   \n",
       "\n",
       "      Male, American Indian/Alaska Native (Non-Hispanic)  \\\n",
       "5435                                                  0    \n",
       "5436                                                  0    \n",
       "5437                                                  0    \n",
       "5438                                                  0    \n",
       "5439                                                  0    \n",
       "\n",
       "      Male, Pacific Islander (Non-Hispanic)  Male, Multiracial (Non-Hispanic)  \\\n",
       "5435                                      0                                 0   \n",
       "5436                                      0                                 0   \n",
       "5437                                      0                                 0   \n",
       "5438                                      0                                 0   \n",
       "5439                                      0                                 0   \n",
       "\n",
       "      Female, White (Non-Hispanic)  Female, Black (Non-Hispanic)  \\\n",
       "5435                             7                             0   \n",
       "5436                             0                             0   \n",
       "5437                             1                             0   \n",
       "5438                             1                             0   \n",
       "5439                             0                             0   \n",
       "\n",
       "      Female, Hispanic/Latino  Female, Unknown  Female, Asian (Non-Hispanic)  \\\n",
       "5435                        0                0                             1   \n",
       "5436                        0                0                             0   \n",
       "5437                        0                0                             0   \n",
       "5438                        0                0                             0   \n",
       "5439                        0                0                             0   \n",
       "\n",
       "      Female, American Indian/Alaska Native (Non-Hispanic)  \\\n",
       "5435                                                  0      \n",
       "5436                                                  0      \n",
       "5437                                                  0      \n",
       "5438                                                  0      \n",
       "5439                                                  1      \n",
       "\n",
       "      Female, Pacific Islander (Non-Hispanic)  \\\n",
       "5435                                        0   \n",
       "5436                                        0   \n",
       "5437                                        0   \n",
       "5438                                        0   \n",
       "5439                                        0   \n",
       "\n",
       "      Female, Multiracial (Non-Hispanic)  \n",
       "5435                                   0  \n",
       "5436                                   0  \n",
       "5437                                   0  \n",
       "5438                                   0  \n",
       "5439                                   0  "
      ]
     },
     "execution_count": 6,
     "metadata": {},
     "output_type": "execute_result"
    }
   ],
   "source": [
    "df.tail()"
   ]
  },
  {
   "cell_type": "code",
   "execution_count": 7,
   "id": "585a91a9",
   "metadata": {
    "scrolled": true
   },
   "outputs": [
    {
     "name": "stdout",
     "output_type": "stream",
     "text": [
      "<class 'pandas.core.frame.DataFrame'>\n",
      "RangeIndex: 5440 entries, 0 to 5439\n",
      "Data columns (total 20 columns):\n",
      " #   Column                                                Non-Null Count  Dtype \n",
      "---  ------                                                --------------  ----- \n",
      " 0   donor_type                                            5440 non-null   object\n",
      " 1   year                                                  5440 non-null   int64 \n",
      " 2   state                                                 5440 non-null   object\n",
      " 3   age_group                                             5440 non-null   object\n",
      " 4   Male, White (Non-Hispanic)                            5440 non-null   int64 \n",
      " 5   Male, Black (Non-Hispanic)                            5440 non-null   int64 \n",
      " 6   Male, Hispanic/Latino                                 5440 non-null   int64 \n",
      " 7   Male, Unknown                                         5440 non-null   int64 \n",
      " 8   Male, Asian (Non-Hispanic)                            5440 non-null   int64 \n",
      " 9   Male, American Indian/Alaska Native (Non-Hispanic)    5440 non-null   int64 \n",
      " 10  Male, Pacific Islander (Non-Hispanic)                 5440 non-null   int64 \n",
      " 11  Male, Multiracial (Non-Hispanic)                      5440 non-null   int64 \n",
      " 12  Female, White (Non-Hispanic)                          5440 non-null   int64 \n",
      " 13  Female, Black (Non-Hispanic)                          5440 non-null   int64 \n",
      " 14  Female, Hispanic/Latino                               5440 non-null   int64 \n",
      " 15  Female, Unknown                                       5440 non-null   int64 \n",
      " 16  Female, Asian (Non-Hispanic)                          5440 non-null   int64 \n",
      " 17  Female, American Indian/Alaska Native (Non-Hispanic)  5440 non-null   int64 \n",
      " 18  Female, Pacific Islander (Non-Hispanic)               5440 non-null   int64 \n",
      " 19  Female, Multiracial (Non-Hispanic)                    5440 non-null   int64 \n",
      "dtypes: int64(17), object(3)\n",
      "memory usage: 850.1+ KB\n"
     ]
    }
   ],
   "source": [
    "df.info()"
   ]
  },
  {
   "cell_type": "markdown",
   "id": "b588ee7a",
   "metadata": {},
   "source": [
    "All of the column names were extracted correctly.  The default datatypes can be simplified to make the dataframe more compact."
   ]
  },
  {
   "cell_type": "code",
   "execution_count": 8,
   "id": "a2ca2551",
   "metadata": {},
   "outputs": [
    {
     "data": {
      "text/html": [
       "<div>\n",
       "<style scoped>\n",
       "    .dataframe tbody tr th:only-of-type {\n",
       "        vertical-align: middle;\n",
       "    }\n",
       "\n",
       "    .dataframe tbody tr th {\n",
       "        vertical-align: top;\n",
       "    }\n",
       "\n",
       "    .dataframe thead th {\n",
       "        text-align: right;\n",
       "    }\n",
       "</style>\n",
       "<table border=\"1\" class=\"dataframe\">\n",
       "  <thead>\n",
       "    <tr style=\"text-align: right;\">\n",
       "      <th></th>\n",
       "      <th>year</th>\n",
       "      <th>Male, White (Non-Hispanic)</th>\n",
       "      <th>Male, Black (Non-Hispanic)</th>\n",
       "      <th>Male, Hispanic/Latino</th>\n",
       "      <th>Male, Unknown</th>\n",
       "      <th>Male, Asian (Non-Hispanic)</th>\n",
       "      <th>Male, American Indian/Alaska Native (Non-Hispanic)</th>\n",
       "      <th>Male, Pacific Islander (Non-Hispanic)</th>\n",
       "      <th>Male, Multiracial (Non-Hispanic)</th>\n",
       "      <th>Female, White (Non-Hispanic)</th>\n",
       "      <th>Female, Black (Non-Hispanic)</th>\n",
       "      <th>Female, Hispanic/Latino</th>\n",
       "      <th>Female, Unknown</th>\n",
       "      <th>Female, Asian (Non-Hispanic)</th>\n",
       "      <th>Female, American Indian/Alaska Native (Non-Hispanic)</th>\n",
       "      <th>Female, Pacific Islander (Non-Hispanic)</th>\n",
       "      <th>Female, Multiracial (Non-Hispanic)</th>\n",
       "    </tr>\n",
       "  </thead>\n",
       "  <tbody>\n",
       "    <tr>\n",
       "      <th>count</th>\n",
       "      <td>5440.000000</td>\n",
       "      <td>5440.000000</td>\n",
       "      <td>5440.000000</td>\n",
       "      <td>5440.000000</td>\n",
       "      <td>5440.0</td>\n",
       "      <td>5440.000000</td>\n",
       "      <td>5440.000000</td>\n",
       "      <td>5440.000000</td>\n",
       "      <td>5440.000000</td>\n",
       "      <td>5440.000000</td>\n",
       "      <td>5440.000000</td>\n",
       "      <td>5440.000000</td>\n",
       "      <td>5440.0</td>\n",
       "      <td>5440.000000</td>\n",
       "      <td>5440.000000</td>\n",
       "      <td>5440.000000</td>\n",
       "      <td>5440.000000</td>\n",
       "    </tr>\n",
       "    <tr>\n",
       "      <th>mean</th>\n",
       "      <td>2017.511765</td>\n",
       "      <td>10.888419</td>\n",
       "      <td>2.284007</td>\n",
       "      <td>2.435294</td>\n",
       "      <td>0.0</td>\n",
       "      <td>0.440074</td>\n",
       "      <td>0.082537</td>\n",
       "      <td>0.045037</td>\n",
       "      <td>0.079963</td>\n",
       "      <td>10.461581</td>\n",
       "      <td>1.824265</td>\n",
       "      <td>1.910110</td>\n",
       "      <td>0.0</td>\n",
       "      <td>0.496875</td>\n",
       "      <td>0.081985</td>\n",
       "      <td>0.036213</td>\n",
       "      <td>0.099265</td>\n",
       "    </tr>\n",
       "    <tr>\n",
       "      <th>std</th>\n",
       "      <td>2.868358</td>\n",
       "      <td>16.553241</td>\n",
       "      <td>4.601098</td>\n",
       "      <td>8.267245</td>\n",
       "      <td>0.0</td>\n",
       "      <td>1.507258</td>\n",
       "      <td>0.380616</td>\n",
       "      <td>0.317986</td>\n",
       "      <td>0.398152</td>\n",
       "      <td>14.532362</td>\n",
       "      <td>3.375501</td>\n",
       "      <td>6.179354</td>\n",
       "      <td>0.0</td>\n",
       "      <td>1.703740</td>\n",
       "      <td>0.348198</td>\n",
       "      <td>0.234803</td>\n",
       "      <td>0.441961</td>\n",
       "    </tr>\n",
       "    <tr>\n",
       "      <th>min</th>\n",
       "      <td>2013.000000</td>\n",
       "      <td>0.000000</td>\n",
       "      <td>0.000000</td>\n",
       "      <td>0.000000</td>\n",
       "      <td>0.0</td>\n",
       "      <td>0.000000</td>\n",
       "      <td>0.000000</td>\n",
       "      <td>0.000000</td>\n",
       "      <td>0.000000</td>\n",
       "      <td>0.000000</td>\n",
       "      <td>0.000000</td>\n",
       "      <td>0.000000</td>\n",
       "      <td>0.0</td>\n",
       "      <td>0.000000</td>\n",
       "      <td>0.000000</td>\n",
       "      <td>0.000000</td>\n",
       "      <td>0.000000</td>\n",
       "    </tr>\n",
       "    <tr>\n",
       "      <th>25%</th>\n",
       "      <td>2015.000000</td>\n",
       "      <td>1.000000</td>\n",
       "      <td>0.000000</td>\n",
       "      <td>0.000000</td>\n",
       "      <td>0.0</td>\n",
       "      <td>0.000000</td>\n",
       "      <td>0.000000</td>\n",
       "      <td>0.000000</td>\n",
       "      <td>0.000000</td>\n",
       "      <td>1.000000</td>\n",
       "      <td>0.000000</td>\n",
       "      <td>0.000000</td>\n",
       "      <td>0.0</td>\n",
       "      <td>0.000000</td>\n",
       "      <td>0.000000</td>\n",
       "      <td>0.000000</td>\n",
       "      <td>0.000000</td>\n",
       "    </tr>\n",
       "    <tr>\n",
       "      <th>50%</th>\n",
       "      <td>2018.000000</td>\n",
       "      <td>4.000000</td>\n",
       "      <td>0.000000</td>\n",
       "      <td>0.000000</td>\n",
       "      <td>0.0</td>\n",
       "      <td>0.000000</td>\n",
       "      <td>0.000000</td>\n",
       "      <td>0.000000</td>\n",
       "      <td>0.000000</td>\n",
       "      <td>4.000000</td>\n",
       "      <td>0.000000</td>\n",
       "      <td>0.000000</td>\n",
       "      <td>0.0</td>\n",
       "      <td>0.000000</td>\n",
       "      <td>0.000000</td>\n",
       "      <td>0.000000</td>\n",
       "      <td>0.000000</td>\n",
       "    </tr>\n",
       "    <tr>\n",
       "      <th>75%</th>\n",
       "      <td>2020.000000</td>\n",
       "      <td>13.000000</td>\n",
       "      <td>2.000000</td>\n",
       "      <td>1.000000</td>\n",
       "      <td>0.0</td>\n",
       "      <td>0.000000</td>\n",
       "      <td>0.000000</td>\n",
       "      <td>0.000000</td>\n",
       "      <td>0.000000</td>\n",
       "      <td>14.000000</td>\n",
       "      <td>2.000000</td>\n",
       "      <td>1.000000</td>\n",
       "      <td>0.0</td>\n",
       "      <td>0.000000</td>\n",
       "      <td>0.000000</td>\n",
       "      <td>0.000000</td>\n",
       "      <td>0.000000</td>\n",
       "    </tr>\n",
       "    <tr>\n",
       "      <th>max</th>\n",
       "      <td>2022.000000</td>\n",
       "      <td>139.000000</td>\n",
       "      <td>39.000000</td>\n",
       "      <td>123.000000</td>\n",
       "      <td>0.0</td>\n",
       "      <td>33.000000</td>\n",
       "      <td>8.000000</td>\n",
       "      <td>7.000000</td>\n",
       "      <td>6.000000</td>\n",
       "      <td>102.000000</td>\n",
       "      <td>25.000000</td>\n",
       "      <td>79.000000</td>\n",
       "      <td>0.0</td>\n",
       "      <td>30.000000</td>\n",
       "      <td>5.000000</td>\n",
       "      <td>6.000000</td>\n",
       "      <td>8.000000</td>\n",
       "    </tr>\n",
       "  </tbody>\n",
       "</table>\n",
       "</div>"
      ],
      "text/plain": [
       "              year  Male, White (Non-Hispanic)  Male, Black (Non-Hispanic)  \\\n",
       "count  5440.000000                 5440.000000                 5440.000000   \n",
       "mean   2017.511765                   10.888419                    2.284007   \n",
       "std       2.868358                   16.553241                    4.601098   \n",
       "min    2013.000000                    0.000000                    0.000000   \n",
       "25%    2015.000000                    1.000000                    0.000000   \n",
       "50%    2018.000000                    4.000000                    0.000000   \n",
       "75%    2020.000000                   13.000000                    2.000000   \n",
       "max    2022.000000                  139.000000                   39.000000   \n",
       "\n",
       "       Male, Hispanic/Latino  Male, Unknown  Male, Asian (Non-Hispanic)  \\\n",
       "count            5440.000000         5440.0                 5440.000000   \n",
       "mean                2.435294            0.0                    0.440074   \n",
       "std                 8.267245            0.0                    1.507258   \n",
       "min                 0.000000            0.0                    0.000000   \n",
       "25%                 0.000000            0.0                    0.000000   \n",
       "50%                 0.000000            0.0                    0.000000   \n",
       "75%                 1.000000            0.0                    0.000000   \n",
       "max               123.000000            0.0                   33.000000   \n",
       "\n",
       "       Male, American Indian/Alaska Native (Non-Hispanic)  \\\n",
       "count                                        5440.000000    \n",
       "mean                                            0.082537    \n",
       "std                                             0.380616    \n",
       "min                                             0.000000    \n",
       "25%                                             0.000000    \n",
       "50%                                             0.000000    \n",
       "75%                                             0.000000    \n",
       "max                                             8.000000    \n",
       "\n",
       "       Male, Pacific Islander (Non-Hispanic)  \\\n",
       "count                            5440.000000   \n",
       "mean                                0.045037   \n",
       "std                                 0.317986   \n",
       "min                                 0.000000   \n",
       "25%                                 0.000000   \n",
       "50%                                 0.000000   \n",
       "75%                                 0.000000   \n",
       "max                                 7.000000   \n",
       "\n",
       "       Male, Multiracial (Non-Hispanic)  Female, White (Non-Hispanic)  \\\n",
       "count                       5440.000000                   5440.000000   \n",
       "mean                           0.079963                     10.461581   \n",
       "std                            0.398152                     14.532362   \n",
       "min                            0.000000                      0.000000   \n",
       "25%                            0.000000                      1.000000   \n",
       "50%                            0.000000                      4.000000   \n",
       "75%                            0.000000                     14.000000   \n",
       "max                            6.000000                    102.000000   \n",
       "\n",
       "       Female, Black (Non-Hispanic)  Female, Hispanic/Latino  Female, Unknown  \\\n",
       "count                   5440.000000              5440.000000           5440.0   \n",
       "mean                       1.824265                 1.910110              0.0   \n",
       "std                        3.375501                 6.179354              0.0   \n",
       "min                        0.000000                 0.000000              0.0   \n",
       "25%                        0.000000                 0.000000              0.0   \n",
       "50%                        0.000000                 0.000000              0.0   \n",
       "75%                        2.000000                 1.000000              0.0   \n",
       "max                       25.000000                79.000000              0.0   \n",
       "\n",
       "       Female, Asian (Non-Hispanic)  \\\n",
       "count                   5440.000000   \n",
       "mean                       0.496875   \n",
       "std                        1.703740   \n",
       "min                        0.000000   \n",
       "25%                        0.000000   \n",
       "50%                        0.000000   \n",
       "75%                        0.000000   \n",
       "max                       30.000000   \n",
       "\n",
       "       Female, American Indian/Alaska Native (Non-Hispanic)  \\\n",
       "count                                        5440.000000      \n",
       "mean                                            0.081985      \n",
       "std                                             0.348198      \n",
       "min                                             0.000000      \n",
       "25%                                             0.000000      \n",
       "50%                                             0.000000      \n",
       "75%                                             0.000000      \n",
       "max                                             5.000000      \n",
       "\n",
       "       Female, Pacific Islander (Non-Hispanic)  \\\n",
       "count                              5440.000000   \n",
       "mean                                  0.036213   \n",
       "std                                   0.234803   \n",
       "min                                   0.000000   \n",
       "25%                                   0.000000   \n",
       "50%                                   0.000000   \n",
       "75%                                   0.000000   \n",
       "max                                   6.000000   \n",
       "\n",
       "       Female, Multiracial (Non-Hispanic)  \n",
       "count                         5440.000000  \n",
       "mean                             0.099265  \n",
       "std                              0.441961  \n",
       "min                              0.000000  \n",
       "25%                              0.000000  \n",
       "50%                              0.000000  \n",
       "75%                              0.000000  \n",
       "max                              8.000000  "
      ]
     },
     "execution_count": 8,
     "metadata": {},
     "output_type": "execute_result"
    }
   ],
   "source": [
    "df.describe()"
   ]
  },
  {
   "cell_type": "markdown",
   "id": "e80c2d56",
   "metadata": {},
   "source": [
    "The 'Male, Unknown' and 'Female, Unknown' columns can be dropped since they have no entries.\n",
    "\n",
    "All other basic statistics seem plausible/appropriate."
   ]
  },
  {
   "cell_type": "markdown",
   "id": "f0da441b",
   "metadata": {},
   "source": [
    "### 0.4 Drop Unneeded Columns"
   ]
  },
  {
   "cell_type": "code",
   "execution_count": 9,
   "id": "ef140f10",
   "metadata": {},
   "outputs": [],
   "source": [
    "# Drop 'Male, Unknown' and 'Female, Unknown' columns \n",
    "df = df.drop(columns = ['Male, Unknown', 'Female, Unknown'])"
   ]
  },
  {
   "cell_type": "code",
   "execution_count": 10,
   "id": "708cac1b",
   "metadata": {},
   "outputs": [
    {
     "name": "stdout",
     "output_type": "stream",
     "text": [
      "<class 'pandas.core.frame.DataFrame'>\n",
      "RangeIndex: 5440 entries, 0 to 5439\n",
      "Data columns (total 18 columns):\n",
      " #   Column                                                Non-Null Count  Dtype \n",
      "---  ------                                                --------------  ----- \n",
      " 0   donor_type                                            5440 non-null   object\n",
      " 1   year                                                  5440 non-null   int64 \n",
      " 2   state                                                 5440 non-null   object\n",
      " 3   age_group                                             5440 non-null   object\n",
      " 4   Male, White (Non-Hispanic)                            5440 non-null   int64 \n",
      " 5   Male, Black (Non-Hispanic)                            5440 non-null   int64 \n",
      " 6   Male, Hispanic/Latino                                 5440 non-null   int64 \n",
      " 7   Male, Asian (Non-Hispanic)                            5440 non-null   int64 \n",
      " 8   Male, American Indian/Alaska Native (Non-Hispanic)    5440 non-null   int64 \n",
      " 9   Male, Pacific Islander (Non-Hispanic)                 5440 non-null   int64 \n",
      " 10  Male, Multiracial (Non-Hispanic)                      5440 non-null   int64 \n",
      " 11  Female, White (Non-Hispanic)                          5440 non-null   int64 \n",
      " 12  Female, Black (Non-Hispanic)                          5440 non-null   int64 \n",
      " 13  Female, Hispanic/Latino                               5440 non-null   int64 \n",
      " 14  Female, Asian (Non-Hispanic)                          5440 non-null   int64 \n",
      " 15  Female, American Indian/Alaska Native (Non-Hispanic)  5440 non-null   int64 \n",
      " 16  Female, Pacific Islander (Non-Hispanic)               5440 non-null   int64 \n",
      " 17  Female, Multiracial (Non-Hispanic)                    5440 non-null   int64 \n",
      "dtypes: int64(15), object(3)\n",
      "memory usage: 765.1+ KB\n"
     ]
    }
   ],
   "source": [
    "# Confirming the correct columns were dropped\n",
    "df.info()"
   ]
  },
  {
   "cell_type": "markdown",
   "id": "1a0ef651",
   "metadata": {},
   "source": [
    "### 0.5 Transform Dataframe / Wrangle Table Structure"
   ]
  },
  {
   "cell_type": "code",
   "execution_count": 11,
   "id": "b22a73b1",
   "metadata": {},
   "outputs": [],
   "source": [
    "# Extract the list of column names and set it to a string datatype\n",
    "col_names_df = pd.DataFrame(columns=['col_names'])\n",
    "col_names_df['col_names'] = df.columns.values.astype('str')"
   ]
  },
  {
   "cell_type": "code",
   "execution_count": 12,
   "id": "9a9e390f",
   "metadata": {
    "scrolled": true
   },
   "outputs": [
    {
     "data": {
      "text/html": [
       "<div>\n",
       "<style scoped>\n",
       "    .dataframe tbody tr th:only-of-type {\n",
       "        vertical-align: middle;\n",
       "    }\n",
       "\n",
       "    .dataframe tbody tr th {\n",
       "        vertical-align: top;\n",
       "    }\n",
       "\n",
       "    .dataframe thead th {\n",
       "        text-align: right;\n",
       "    }\n",
       "</style>\n",
       "<table border=\"1\" class=\"dataframe\">\n",
       "  <thead>\n",
       "    <tr style=\"text-align: right;\">\n",
       "      <th></th>\n",
       "      <th>0</th>\n",
       "      <th>1</th>\n",
       "    </tr>\n",
       "  </thead>\n",
       "  <tbody>\n",
       "    <tr>\n",
       "      <th>13</th>\n",
       "      <td>Female</td>\n",
       "      <td>Hispanic/Latino</td>\n",
       "    </tr>\n",
       "    <tr>\n",
       "      <th>14</th>\n",
       "      <td>Female</td>\n",
       "      <td>Asian (Non-Hispanic)</td>\n",
       "    </tr>\n",
       "    <tr>\n",
       "      <th>15</th>\n",
       "      <td>Female</td>\n",
       "      <td>American Indian/Alaska Native (Non-Hispanic)</td>\n",
       "    </tr>\n",
       "    <tr>\n",
       "      <th>16</th>\n",
       "      <td>Female</td>\n",
       "      <td>Pacific Islander (Non-Hispanic)</td>\n",
       "    </tr>\n",
       "    <tr>\n",
       "      <th>17</th>\n",
       "      <td>Female</td>\n",
       "      <td>Multiracial (Non-Hispanic)</td>\n",
       "    </tr>\n",
       "  </tbody>\n",
       "</table>\n",
       "</div>"
      ],
      "text/plain": [
       "         0                                             1\n",
       "13  Female                               Hispanic/Latino\n",
       "14  Female                          Asian (Non-Hispanic)\n",
       "15  Female  American Indian/Alaska Native (Non-Hispanic)\n",
       "16  Female               Pacific Islander (Non-Hispanic)\n",
       "17  Female                    Multiracial (Non-Hispanic)"
      ]
     },
     "execution_count": 12,
     "metadata": {},
     "output_type": "execute_result"
    }
   ],
   "source": [
    "# Create an array with the gender and ethnicity split into separate columns\n",
    "# NOTE: Rows 0-3 will not have data that fits this pattern, but we're going to leave them in\n",
    "# so that the row indices here match column indices in df2\n",
    "gender_eth_split = col_names_df['col_names'].str.split(\", \", n=1, expand = True)\n",
    "gender_eth_split.tail()"
   ]
  },
  {
   "cell_type": "code",
   "execution_count": 13,
   "id": "b9defaf7",
   "metadata": {},
   "outputs": [],
   "source": [
    "# Create dataframe to hold the data in the new format\n",
    "dft = pd.DataFrame(columns=['number_donors',\n",
    "                            'donor_type', \n",
    "                            'year', \n",
    "                            'state', \n",
    "                            'age_group', \n",
    "                            'gender', \n",
    "                            'ethnicity'])"
   ]
  },
  {
   "cell_type": "code",
   "execution_count": 14,
   "id": "90bd5886",
   "metadata": {},
   "outputs": [],
   "source": [
    "# Iterating over the rows and columns with the quantitative data\n",
    "# So each data point will be its own row in the new dataframe\n",
    "# and gender and ethnicity will be categorical flags.\n",
    "\n",
    "for row in range(len(df)):\n",
    "    for column in range(4,18):\n",
    "\n",
    "        # new_row is the row index in the new dataframe dtw\n",
    "        new_row = row + ((column-4)*5440)\n",
    "    \n",
    "        dft.loc[new_row, 'donor_type'] = df.loc[row,'donor_type']\n",
    "        dft.loc[new_row, 'year'] = df.loc[row,'year']\n",
    "        dft.loc[new_row, 'state'] = df.loc[row,'state']\n",
    "        dft.loc[new_row, 'age_group'] = df.loc[row,'age_group']\n",
    "        dft.loc[new_row, 'number_donors'] = df.iloc[row, column]\n",
    "        dft.loc[new_row, 'gender'] = gender_eth_split.iloc[column, 0]\n",
    "        dft.loc[new_row, 'ethnicity'] = gender_eth_split.iloc[column, 1]\n"
   ]
  },
  {
   "cell_type": "code",
   "execution_count": 15,
   "id": "0d607d40",
   "metadata": {
    "scrolled": true
   },
   "outputs": [
    {
     "data": {
      "text/plain": [
       "(76160, 7)"
      ]
     },
     "execution_count": 15,
     "metadata": {},
     "output_type": "execute_result"
    }
   ],
   "source": [
    "dft.shape"
   ]
  },
  {
   "cell_type": "markdown",
   "id": "1066afa3",
   "metadata": {},
   "source": [
    "The shape has the expected number of rows and columns."
   ]
  },
  {
   "cell_type": "code",
   "execution_count": 16,
   "id": "3d24c8f3",
   "metadata": {},
   "outputs": [
    {
     "data": {
      "text/html": [
       "<div>\n",
       "<style scoped>\n",
       "    .dataframe tbody tr th:only-of-type {\n",
       "        vertical-align: middle;\n",
       "    }\n",
       "\n",
       "    .dataframe tbody tr th {\n",
       "        vertical-align: top;\n",
       "    }\n",
       "\n",
       "    .dataframe thead th {\n",
       "        text-align: right;\n",
       "    }\n",
       "</style>\n",
       "<table border=\"1\" class=\"dataframe\">\n",
       "  <thead>\n",
       "    <tr style=\"text-align: right;\">\n",
       "      <th></th>\n",
       "      <th>number_donors</th>\n",
       "      <th>donor_type</th>\n",
       "      <th>year</th>\n",
       "      <th>state</th>\n",
       "      <th>age_group</th>\n",
       "      <th>gender</th>\n",
       "      <th>ethnicity</th>\n",
       "    </tr>\n",
       "  </thead>\n",
       "  <tbody>\n",
       "    <tr>\n",
       "      <th>0</th>\n",
       "      <td>8</td>\n",
       "      <td>Living</td>\n",
       "      <td>2022</td>\n",
       "      <td>Alabama</td>\n",
       "      <td>18-34 Years</td>\n",
       "      <td>Male</td>\n",
       "      <td>White (Non-Hispanic)</td>\n",
       "    </tr>\n",
       "    <tr>\n",
       "      <th>5440</th>\n",
       "      <td>1</td>\n",
       "      <td>Living</td>\n",
       "      <td>2022</td>\n",
       "      <td>Alabama</td>\n",
       "      <td>18-34 Years</td>\n",
       "      <td>Male</td>\n",
       "      <td>Black (Non-Hispanic)</td>\n",
       "    </tr>\n",
       "    <tr>\n",
       "      <th>10880</th>\n",
       "      <td>0</td>\n",
       "      <td>Living</td>\n",
       "      <td>2022</td>\n",
       "      <td>Alabama</td>\n",
       "      <td>18-34 Years</td>\n",
       "      <td>Male</td>\n",
       "      <td>Hispanic/Latino</td>\n",
       "    </tr>\n",
       "    <tr>\n",
       "      <th>16320</th>\n",
       "      <td>0</td>\n",
       "      <td>Living</td>\n",
       "      <td>2022</td>\n",
       "      <td>Alabama</td>\n",
       "      <td>18-34 Years</td>\n",
       "      <td>Male</td>\n",
       "      <td>Asian (Non-Hispanic)</td>\n",
       "    </tr>\n",
       "    <tr>\n",
       "      <th>21760</th>\n",
       "      <td>0</td>\n",
       "      <td>Living</td>\n",
       "      <td>2022</td>\n",
       "      <td>Alabama</td>\n",
       "      <td>18-34 Years</td>\n",
       "      <td>Male</td>\n",
       "      <td>American Indian/Alaska Native (Non-Hispanic)</td>\n",
       "    </tr>\n",
       "    <tr>\n",
       "      <th>27200</th>\n",
       "      <td>0</td>\n",
       "      <td>Living</td>\n",
       "      <td>2022</td>\n",
       "      <td>Alabama</td>\n",
       "      <td>18-34 Years</td>\n",
       "      <td>Male</td>\n",
       "      <td>Pacific Islander (Non-Hispanic)</td>\n",
       "    </tr>\n",
       "    <tr>\n",
       "      <th>32640</th>\n",
       "      <td>0</td>\n",
       "      <td>Living</td>\n",
       "      <td>2022</td>\n",
       "      <td>Alabama</td>\n",
       "      <td>18-34 Years</td>\n",
       "      <td>Male</td>\n",
       "      <td>Multiracial (Non-Hispanic)</td>\n",
       "    </tr>\n",
       "    <tr>\n",
       "      <th>38080</th>\n",
       "      <td>7</td>\n",
       "      <td>Living</td>\n",
       "      <td>2022</td>\n",
       "      <td>Alabama</td>\n",
       "      <td>18-34 Years</td>\n",
       "      <td>Female</td>\n",
       "      <td>White (Non-Hispanic)</td>\n",
       "    </tr>\n",
       "    <tr>\n",
       "      <th>43520</th>\n",
       "      <td>1</td>\n",
       "      <td>Living</td>\n",
       "      <td>2022</td>\n",
       "      <td>Alabama</td>\n",
       "      <td>18-34 Years</td>\n",
       "      <td>Female</td>\n",
       "      <td>Black (Non-Hispanic)</td>\n",
       "    </tr>\n",
       "    <tr>\n",
       "      <th>48960</th>\n",
       "      <td>0</td>\n",
       "      <td>Living</td>\n",
       "      <td>2022</td>\n",
       "      <td>Alabama</td>\n",
       "      <td>18-34 Years</td>\n",
       "      <td>Female</td>\n",
       "      <td>Hispanic/Latino</td>\n",
       "    </tr>\n",
       "    <tr>\n",
       "      <th>54400</th>\n",
       "      <td>0</td>\n",
       "      <td>Living</td>\n",
       "      <td>2022</td>\n",
       "      <td>Alabama</td>\n",
       "      <td>18-34 Years</td>\n",
       "      <td>Female</td>\n",
       "      <td>Asian (Non-Hispanic)</td>\n",
       "    </tr>\n",
       "    <tr>\n",
       "      <th>59840</th>\n",
       "      <td>0</td>\n",
       "      <td>Living</td>\n",
       "      <td>2022</td>\n",
       "      <td>Alabama</td>\n",
       "      <td>18-34 Years</td>\n",
       "      <td>Female</td>\n",
       "      <td>American Indian/Alaska Native (Non-Hispanic)</td>\n",
       "    </tr>\n",
       "    <tr>\n",
       "      <th>65280</th>\n",
       "      <td>0</td>\n",
       "      <td>Living</td>\n",
       "      <td>2022</td>\n",
       "      <td>Alabama</td>\n",
       "      <td>18-34 Years</td>\n",
       "      <td>Female</td>\n",
       "      <td>Pacific Islander (Non-Hispanic)</td>\n",
       "    </tr>\n",
       "    <tr>\n",
       "      <th>70720</th>\n",
       "      <td>0</td>\n",
       "      <td>Living</td>\n",
       "      <td>2022</td>\n",
       "      <td>Alabama</td>\n",
       "      <td>18-34 Years</td>\n",
       "      <td>Female</td>\n",
       "      <td>Multiracial (Non-Hispanic)</td>\n",
       "    </tr>\n",
       "    <tr>\n",
       "      <th>1</th>\n",
       "      <td>5</td>\n",
       "      <td>Living</td>\n",
       "      <td>2022</td>\n",
       "      <td>Alabama</td>\n",
       "      <td>35-49 Years</td>\n",
       "      <td>Male</td>\n",
       "      <td>White (Non-Hispanic)</td>\n",
       "    </tr>\n",
       "    <tr>\n",
       "      <th>5441</th>\n",
       "      <td>0</td>\n",
       "      <td>Living</td>\n",
       "      <td>2022</td>\n",
       "      <td>Alabama</td>\n",
       "      <td>35-49 Years</td>\n",
       "      <td>Male</td>\n",
       "      <td>Black (Non-Hispanic)</td>\n",
       "    </tr>\n",
       "    <tr>\n",
       "      <th>10881</th>\n",
       "      <td>0</td>\n",
       "      <td>Living</td>\n",
       "      <td>2022</td>\n",
       "      <td>Alabama</td>\n",
       "      <td>35-49 Years</td>\n",
       "      <td>Male</td>\n",
       "      <td>Hispanic/Latino</td>\n",
       "    </tr>\n",
       "    <tr>\n",
       "      <th>16321</th>\n",
       "      <td>0</td>\n",
       "      <td>Living</td>\n",
       "      <td>2022</td>\n",
       "      <td>Alabama</td>\n",
       "      <td>35-49 Years</td>\n",
       "      <td>Male</td>\n",
       "      <td>Asian (Non-Hispanic)</td>\n",
       "    </tr>\n",
       "    <tr>\n",
       "      <th>21761</th>\n",
       "      <td>0</td>\n",
       "      <td>Living</td>\n",
       "      <td>2022</td>\n",
       "      <td>Alabama</td>\n",
       "      <td>35-49 Years</td>\n",
       "      <td>Male</td>\n",
       "      <td>American Indian/Alaska Native (Non-Hispanic)</td>\n",
       "    </tr>\n",
       "    <tr>\n",
       "      <th>27201</th>\n",
       "      <td>0</td>\n",
       "      <td>Living</td>\n",
       "      <td>2022</td>\n",
       "      <td>Alabama</td>\n",
       "      <td>35-49 Years</td>\n",
       "      <td>Male</td>\n",
       "      <td>Pacific Islander (Non-Hispanic)</td>\n",
       "    </tr>\n",
       "  </tbody>\n",
       "</table>\n",
       "</div>"
      ],
      "text/plain": [
       "      number_donors donor_type  year    state    age_group  gender  \\\n",
       "0                 8     Living  2022  Alabama  18-34 Years    Male   \n",
       "5440              1     Living  2022  Alabama  18-34 Years    Male   \n",
       "10880             0     Living  2022  Alabama  18-34 Years    Male   \n",
       "16320             0     Living  2022  Alabama  18-34 Years    Male   \n",
       "21760             0     Living  2022  Alabama  18-34 Years    Male   \n",
       "27200             0     Living  2022  Alabama  18-34 Years    Male   \n",
       "32640             0     Living  2022  Alabama  18-34 Years    Male   \n",
       "38080             7     Living  2022  Alabama  18-34 Years  Female   \n",
       "43520             1     Living  2022  Alabama  18-34 Years  Female   \n",
       "48960             0     Living  2022  Alabama  18-34 Years  Female   \n",
       "54400             0     Living  2022  Alabama  18-34 Years  Female   \n",
       "59840             0     Living  2022  Alabama  18-34 Years  Female   \n",
       "65280             0     Living  2022  Alabama  18-34 Years  Female   \n",
       "70720             0     Living  2022  Alabama  18-34 Years  Female   \n",
       "1                 5     Living  2022  Alabama  35-49 Years    Male   \n",
       "5441              0     Living  2022  Alabama  35-49 Years    Male   \n",
       "10881             0     Living  2022  Alabama  35-49 Years    Male   \n",
       "16321             0     Living  2022  Alabama  35-49 Years    Male   \n",
       "21761             0     Living  2022  Alabama  35-49 Years    Male   \n",
       "27201             0     Living  2022  Alabama  35-49 Years    Male   \n",
       "\n",
       "                                          ethnicity  \n",
       "0                              White (Non-Hispanic)  \n",
       "5440                           Black (Non-Hispanic)  \n",
       "10880                               Hispanic/Latino  \n",
       "16320                          Asian (Non-Hispanic)  \n",
       "21760  American Indian/Alaska Native (Non-Hispanic)  \n",
       "27200               Pacific Islander (Non-Hispanic)  \n",
       "32640                    Multiracial (Non-Hispanic)  \n",
       "38080                          White (Non-Hispanic)  \n",
       "43520                          Black (Non-Hispanic)  \n",
       "48960                               Hispanic/Latino  \n",
       "54400                          Asian (Non-Hispanic)  \n",
       "59840  American Indian/Alaska Native (Non-Hispanic)  \n",
       "65280               Pacific Islander (Non-Hispanic)  \n",
       "70720                    Multiracial (Non-Hispanic)  \n",
       "1                              White (Non-Hispanic)  \n",
       "5441                           Black (Non-Hispanic)  \n",
       "10881                               Hispanic/Latino  \n",
       "16321                          Asian (Non-Hispanic)  \n",
       "21761  American Indian/Alaska Native (Non-Hispanic)  \n",
       "27201               Pacific Islander (Non-Hispanic)  "
      ]
     },
     "execution_count": 16,
     "metadata": {},
     "output_type": "execute_result"
    }
   ],
   "source": [
    "dft.head(20)"
   ]
  },
  {
   "cell_type": "code",
   "execution_count": 17,
   "id": "6f4fb073",
   "metadata": {
    "scrolled": false
   },
   "outputs": [
    {
     "data": {
      "text/html": [
       "<div>\n",
       "<style scoped>\n",
       "    .dataframe tbody tr th:only-of-type {\n",
       "        vertical-align: middle;\n",
       "    }\n",
       "\n",
       "    .dataframe tbody tr th {\n",
       "        vertical-align: top;\n",
       "    }\n",
       "\n",
       "    .dataframe thead th {\n",
       "        text-align: right;\n",
       "    }\n",
       "</style>\n",
       "<table border=\"1\" class=\"dataframe\">\n",
       "  <thead>\n",
       "    <tr style=\"text-align: right;\">\n",
       "      <th></th>\n",
       "      <th>number_donors</th>\n",
       "      <th>donor_type</th>\n",
       "      <th>year</th>\n",
       "      <th>state</th>\n",
       "      <th>age_group</th>\n",
       "      <th>gender</th>\n",
       "      <th>ethnicity</th>\n",
       "    </tr>\n",
       "  </thead>\n",
       "  <tbody>\n",
       "    <tr>\n",
       "      <th>48958</th>\n",
       "      <td>0</td>\n",
       "      <td>Deceased</td>\n",
       "      <td>2013</td>\n",
       "      <td>Wyoming</td>\n",
       "      <td>35-49 Years</td>\n",
       "      <td>Female</td>\n",
       "      <td>Black (Non-Hispanic)</td>\n",
       "    </tr>\n",
       "    <tr>\n",
       "      <th>54398</th>\n",
       "      <td>0</td>\n",
       "      <td>Deceased</td>\n",
       "      <td>2013</td>\n",
       "      <td>Wyoming</td>\n",
       "      <td>35-49 Years</td>\n",
       "      <td>Female</td>\n",
       "      <td>Hispanic/Latino</td>\n",
       "    </tr>\n",
       "    <tr>\n",
       "      <th>59838</th>\n",
       "      <td>0</td>\n",
       "      <td>Deceased</td>\n",
       "      <td>2013</td>\n",
       "      <td>Wyoming</td>\n",
       "      <td>35-49 Years</td>\n",
       "      <td>Female</td>\n",
       "      <td>Asian (Non-Hispanic)</td>\n",
       "    </tr>\n",
       "    <tr>\n",
       "      <th>65278</th>\n",
       "      <td>0</td>\n",
       "      <td>Deceased</td>\n",
       "      <td>2013</td>\n",
       "      <td>Wyoming</td>\n",
       "      <td>35-49 Years</td>\n",
       "      <td>Female</td>\n",
       "      <td>American Indian/Alaska Native (Non-Hispanic)</td>\n",
       "    </tr>\n",
       "    <tr>\n",
       "      <th>70718</th>\n",
       "      <td>0</td>\n",
       "      <td>Deceased</td>\n",
       "      <td>2013</td>\n",
       "      <td>Wyoming</td>\n",
       "      <td>35-49 Years</td>\n",
       "      <td>Female</td>\n",
       "      <td>Pacific Islander (Non-Hispanic)</td>\n",
       "    </tr>\n",
       "    <tr>\n",
       "      <th>76158</th>\n",
       "      <td>0</td>\n",
       "      <td>Deceased</td>\n",
       "      <td>2013</td>\n",
       "      <td>Wyoming</td>\n",
       "      <td>35-49 Years</td>\n",
       "      <td>Female</td>\n",
       "      <td>Multiracial (Non-Hispanic)</td>\n",
       "    </tr>\n",
       "    <tr>\n",
       "      <th>5439</th>\n",
       "      <td>2</td>\n",
       "      <td>Deceased</td>\n",
       "      <td>2013</td>\n",
       "      <td>Wyoming</td>\n",
       "      <td>50-64 Years</td>\n",
       "      <td>Male</td>\n",
       "      <td>White (Non-Hispanic)</td>\n",
       "    </tr>\n",
       "    <tr>\n",
       "      <th>10879</th>\n",
       "      <td>0</td>\n",
       "      <td>Deceased</td>\n",
       "      <td>2013</td>\n",
       "      <td>Wyoming</td>\n",
       "      <td>50-64 Years</td>\n",
       "      <td>Male</td>\n",
       "      <td>Black (Non-Hispanic)</td>\n",
       "    </tr>\n",
       "    <tr>\n",
       "      <th>16319</th>\n",
       "      <td>0</td>\n",
       "      <td>Deceased</td>\n",
       "      <td>2013</td>\n",
       "      <td>Wyoming</td>\n",
       "      <td>50-64 Years</td>\n",
       "      <td>Male</td>\n",
       "      <td>Hispanic/Latino</td>\n",
       "    </tr>\n",
       "    <tr>\n",
       "      <th>21759</th>\n",
       "      <td>0</td>\n",
       "      <td>Deceased</td>\n",
       "      <td>2013</td>\n",
       "      <td>Wyoming</td>\n",
       "      <td>50-64 Years</td>\n",
       "      <td>Male</td>\n",
       "      <td>Asian (Non-Hispanic)</td>\n",
       "    </tr>\n",
       "    <tr>\n",
       "      <th>27199</th>\n",
       "      <td>0</td>\n",
       "      <td>Deceased</td>\n",
       "      <td>2013</td>\n",
       "      <td>Wyoming</td>\n",
       "      <td>50-64 Years</td>\n",
       "      <td>Male</td>\n",
       "      <td>American Indian/Alaska Native (Non-Hispanic)</td>\n",
       "    </tr>\n",
       "    <tr>\n",
       "      <th>32639</th>\n",
       "      <td>0</td>\n",
       "      <td>Deceased</td>\n",
       "      <td>2013</td>\n",
       "      <td>Wyoming</td>\n",
       "      <td>50-64 Years</td>\n",
       "      <td>Male</td>\n",
       "      <td>Pacific Islander (Non-Hispanic)</td>\n",
       "    </tr>\n",
       "    <tr>\n",
       "      <th>38079</th>\n",
       "      <td>0</td>\n",
       "      <td>Deceased</td>\n",
       "      <td>2013</td>\n",
       "      <td>Wyoming</td>\n",
       "      <td>50-64 Years</td>\n",
       "      <td>Male</td>\n",
       "      <td>Multiracial (Non-Hispanic)</td>\n",
       "    </tr>\n",
       "    <tr>\n",
       "      <th>43519</th>\n",
       "      <td>0</td>\n",
       "      <td>Deceased</td>\n",
       "      <td>2013</td>\n",
       "      <td>Wyoming</td>\n",
       "      <td>50-64 Years</td>\n",
       "      <td>Female</td>\n",
       "      <td>White (Non-Hispanic)</td>\n",
       "    </tr>\n",
       "    <tr>\n",
       "      <th>48959</th>\n",
       "      <td>0</td>\n",
       "      <td>Deceased</td>\n",
       "      <td>2013</td>\n",
       "      <td>Wyoming</td>\n",
       "      <td>50-64 Years</td>\n",
       "      <td>Female</td>\n",
       "      <td>Black (Non-Hispanic)</td>\n",
       "    </tr>\n",
       "    <tr>\n",
       "      <th>54399</th>\n",
       "      <td>0</td>\n",
       "      <td>Deceased</td>\n",
       "      <td>2013</td>\n",
       "      <td>Wyoming</td>\n",
       "      <td>50-64 Years</td>\n",
       "      <td>Female</td>\n",
       "      <td>Hispanic/Latino</td>\n",
       "    </tr>\n",
       "    <tr>\n",
       "      <th>59839</th>\n",
       "      <td>0</td>\n",
       "      <td>Deceased</td>\n",
       "      <td>2013</td>\n",
       "      <td>Wyoming</td>\n",
       "      <td>50-64 Years</td>\n",
       "      <td>Female</td>\n",
       "      <td>Asian (Non-Hispanic)</td>\n",
       "    </tr>\n",
       "    <tr>\n",
       "      <th>65279</th>\n",
       "      <td>1</td>\n",
       "      <td>Deceased</td>\n",
       "      <td>2013</td>\n",
       "      <td>Wyoming</td>\n",
       "      <td>50-64 Years</td>\n",
       "      <td>Female</td>\n",
       "      <td>American Indian/Alaska Native (Non-Hispanic)</td>\n",
       "    </tr>\n",
       "    <tr>\n",
       "      <th>70719</th>\n",
       "      <td>0</td>\n",
       "      <td>Deceased</td>\n",
       "      <td>2013</td>\n",
       "      <td>Wyoming</td>\n",
       "      <td>50-64 Years</td>\n",
       "      <td>Female</td>\n",
       "      <td>Pacific Islander (Non-Hispanic)</td>\n",
       "    </tr>\n",
       "    <tr>\n",
       "      <th>76159</th>\n",
       "      <td>0</td>\n",
       "      <td>Deceased</td>\n",
       "      <td>2013</td>\n",
       "      <td>Wyoming</td>\n",
       "      <td>50-64 Years</td>\n",
       "      <td>Female</td>\n",
       "      <td>Multiracial (Non-Hispanic)</td>\n",
       "    </tr>\n",
       "  </tbody>\n",
       "</table>\n",
       "</div>"
      ],
      "text/plain": [
       "      number_donors donor_type  year    state    age_group  gender  \\\n",
       "48958             0   Deceased  2013  Wyoming  35-49 Years  Female   \n",
       "54398             0   Deceased  2013  Wyoming  35-49 Years  Female   \n",
       "59838             0   Deceased  2013  Wyoming  35-49 Years  Female   \n",
       "65278             0   Deceased  2013  Wyoming  35-49 Years  Female   \n",
       "70718             0   Deceased  2013  Wyoming  35-49 Years  Female   \n",
       "76158             0   Deceased  2013  Wyoming  35-49 Years  Female   \n",
       "5439              2   Deceased  2013  Wyoming  50-64 Years    Male   \n",
       "10879             0   Deceased  2013  Wyoming  50-64 Years    Male   \n",
       "16319             0   Deceased  2013  Wyoming  50-64 Years    Male   \n",
       "21759             0   Deceased  2013  Wyoming  50-64 Years    Male   \n",
       "27199             0   Deceased  2013  Wyoming  50-64 Years    Male   \n",
       "32639             0   Deceased  2013  Wyoming  50-64 Years    Male   \n",
       "38079             0   Deceased  2013  Wyoming  50-64 Years    Male   \n",
       "43519             0   Deceased  2013  Wyoming  50-64 Years  Female   \n",
       "48959             0   Deceased  2013  Wyoming  50-64 Years  Female   \n",
       "54399             0   Deceased  2013  Wyoming  50-64 Years  Female   \n",
       "59839             0   Deceased  2013  Wyoming  50-64 Years  Female   \n",
       "65279             1   Deceased  2013  Wyoming  50-64 Years  Female   \n",
       "70719             0   Deceased  2013  Wyoming  50-64 Years  Female   \n",
       "76159             0   Deceased  2013  Wyoming  50-64 Years  Female   \n",
       "\n",
       "                                          ethnicity  \n",
       "48958                          Black (Non-Hispanic)  \n",
       "54398                               Hispanic/Latino  \n",
       "59838                          Asian (Non-Hispanic)  \n",
       "65278  American Indian/Alaska Native (Non-Hispanic)  \n",
       "70718               Pacific Islander (Non-Hispanic)  \n",
       "76158                    Multiracial (Non-Hispanic)  \n",
       "5439                           White (Non-Hispanic)  \n",
       "10879                          Black (Non-Hispanic)  \n",
       "16319                               Hispanic/Latino  \n",
       "21759                          Asian (Non-Hispanic)  \n",
       "27199  American Indian/Alaska Native (Non-Hispanic)  \n",
       "32639               Pacific Islander (Non-Hispanic)  \n",
       "38079                    Multiracial (Non-Hispanic)  \n",
       "43519                          White (Non-Hispanic)  \n",
       "48959                          Black (Non-Hispanic)  \n",
       "54399                               Hispanic/Latino  \n",
       "59839                          Asian (Non-Hispanic)  \n",
       "65279  American Indian/Alaska Native (Non-Hispanic)  \n",
       "70719               Pacific Islander (Non-Hispanic)  \n",
       "76159                    Multiracial (Non-Hispanic)  "
      ]
     },
     "execution_count": 17,
     "metadata": {},
     "output_type": "execute_result"
    }
   ],
   "source": [
    "dft.tail(20)"
   ]
  },
  {
   "cell_type": "markdown",
   "id": "1479e6c8",
   "metadata": {},
   "source": [
    "The head and tail match data visible in Excel."
   ]
  },
  {
   "cell_type": "markdown",
   "id": "4e071ce8",
   "metadata": {},
   "source": [
    "### 0.6 Adjust Datatypes"
   ]
  },
  {
   "cell_type": "code",
   "execution_count": 18,
   "id": "2c150f20",
   "metadata": {},
   "outputs": [
    {
     "name": "stdout",
     "output_type": "stream",
     "text": [
      "<class 'pandas.core.frame.DataFrame'>\n",
      "Int64Index: 76160 entries, 0 to 76159\n",
      "Data columns (total 7 columns):\n",
      " #   Column         Non-Null Count  Dtype \n",
      "---  ------         --------------  ----- \n",
      " 0   number_donors  76160 non-null  object\n",
      " 1   donor_type     76160 non-null  object\n",
      " 2   year           76160 non-null  object\n",
      " 3   state          76160 non-null  object\n",
      " 4   age_group      76160 non-null  object\n",
      " 5   gender         76160 non-null  object\n",
      " 6   ethnicity      76160 non-null  object\n",
      "dtypes: object(7)\n",
      "memory usage: 6.7+ MB\n"
     ]
    }
   ],
   "source": [
    "dft.info()"
   ]
  },
  {
   "cell_type": "code",
   "execution_count": 19,
   "id": "1796b69c",
   "metadata": {},
   "outputs": [],
   "source": [
    "# The max integer for any quantitative column is 2022, and int16 accomodates up to 32k\n",
    "dft['year'] = dft['year'].astype('int16')\n",
    "dft['number_donors'] = dft['number_donors'].astype('int16')"
   ]
  },
  {
   "cell_type": "code",
   "execution_count": 20,
   "id": "4b15eebe",
   "metadata": {},
   "outputs": [],
   "source": [
    "# The columns classified as 'objects' are really categorical variables.\n",
    "dft['donor_type'] = dft['donor_type'].astype('category')\n",
    "dft['state'] = dft['state'].astype('category')\n",
    "dft['age_group'] = dft['age_group'].astype('category')\n",
    "dft['gender'] = dft['gender'].astype('category')\n",
    "dft['ethnicity'] = dft['ethnicity'].astype('category')\n"
   ]
  },
  {
   "cell_type": "code",
   "execution_count": 21,
   "id": "bbd84146",
   "metadata": {},
   "outputs": [
    {
     "name": "stdout",
     "output_type": "stream",
     "text": [
      "<class 'pandas.core.frame.DataFrame'>\n",
      "Int64Index: 76160 entries, 0 to 76159\n",
      "Data columns (total 7 columns):\n",
      " #   Column         Non-Null Count  Dtype   \n",
      "---  ------         --------------  -----   \n",
      " 0   number_donors  76160 non-null  int16   \n",
      " 1   donor_type     76160 non-null  category\n",
      " 2   year           76160 non-null  int16   \n",
      " 3   state          76160 non-null  category\n",
      " 4   age_group      76160 non-null  category\n",
      " 5   gender         76160 non-null  category\n",
      " 6   ethnicity      76160 non-null  category\n",
      "dtypes: category(5), int16(2)\n",
      "memory usage: 3.3 MB\n"
     ]
    }
   ],
   "source": [
    "# Confirming changes took\n",
    "dft.info()"
   ]
  },
  {
   "cell_type": "code",
   "execution_count": 22,
   "id": "b01ab0b8",
   "metadata": {},
   "outputs": [],
   "source": [
    "# Reclaiming space\n",
    "del df"
   ]
  },
  {
   "cell_type": "markdown",
   "id": "1d48f5a4",
   "metadata": {},
   "source": [
    "### 0.7 Clean / Check Data"
   ]
  },
  {
   "cell_type": "markdown",
   "id": "7f5ac5c1",
   "metadata": {},
   "source": [
    "#### 0.7.1 Overall df checks"
   ]
  },
  {
   "cell_type": "code",
   "execution_count": 23,
   "id": "9c2edb69",
   "metadata": {
    "scrolled": true
   },
   "outputs": [
    {
     "data": {
      "text/plain": [
       "number_donors    0\n",
       "donor_type       0\n",
       "year             0\n",
       "state            0\n",
       "age_group        0\n",
       "gender           0\n",
       "ethnicity        0\n",
       "dtype: int64"
      ]
     },
     "execution_count": 23,
     "metadata": {},
     "output_type": "execute_result"
    }
   ],
   "source": [
    "# Checking for nulls across the df\n",
    "dft.isnull().sum()"
   ]
  },
  {
   "cell_type": "markdown",
   "id": "98a64027",
   "metadata": {},
   "source": [
    "No nulls found"
   ]
  },
  {
   "cell_type": "code",
   "execution_count": 24,
   "id": "67ac5cde",
   "metadata": {},
   "outputs": [],
   "source": [
    "# Check for mixed data types\n",
    "for col in dft.columns.tolist():\n",
    "  weird = (dft[[col]].applymap(type) != dft[[col]].iloc[0].apply(type)).any(axis = 1)\n",
    "  if len (dft[weird]) > 0:\n",
    "    print (col)"
   ]
  },
  {
   "cell_type": "markdown",
   "id": "75539abd",
   "metadata": {},
   "source": [
    "No mixed data types found"
   ]
  },
  {
   "cell_type": "code",
   "execution_count": 25,
   "id": "7f168e32",
   "metadata": {},
   "outputs": [],
   "source": [
    "# Checking for whole-row duplicates\n",
    "dups = dft[dft.duplicated()]"
   ]
  },
  {
   "cell_type": "code",
   "execution_count": 26,
   "id": "ed7663ad",
   "metadata": {},
   "outputs": [
    {
     "data": {
      "text/plain": [
       "(0, 7)"
      ]
     },
     "execution_count": 26,
     "metadata": {},
     "output_type": "execute_result"
    }
   ],
   "source": [
    "dups.shape"
   ]
  },
  {
   "cell_type": "markdown",
   "id": "c8b75178",
   "metadata": {},
   "source": [
    "No duplicates found"
   ]
  },
  {
   "cell_type": "markdown",
   "id": "6e10af9c",
   "metadata": {},
   "source": [
    "#### 0.7.2 - number_donors cleaning/checks/wrangling"
   ]
  },
  {
   "cell_type": "code",
   "execution_count": 27,
   "id": "ac3d3b64",
   "metadata": {
    "scrolled": true
   },
   "outputs": [
    {
     "data": {
      "text/plain": [
       "count    76160.000000\n",
       "mean         2.226116\n",
       "std          7.593993\n",
       "min          0.000000\n",
       "25%          0.000000\n",
       "50%          0.000000\n",
       "75%          1.000000\n",
       "max        139.000000\n",
       "Name: number_donors, dtype: float64"
      ]
     },
     "execution_count": 27,
     "metadata": {},
     "output_type": "execute_result"
    }
   ],
   "source": [
    "#Exploring the data for this column\n",
    "dft['number_donors'].describe()"
   ]
  },
  {
   "cell_type": "markdown",
   "id": "b77dc887",
   "metadata": {},
   "source": [
    "These numbers are appropriate given the preliminary exploration of the .csv in Excel."
   ]
  },
  {
   "cell_type": "code",
   "execution_count": 45,
   "id": "6f969e1b",
   "metadata": {},
   "outputs": [
    {
     "data": {
      "text/plain": [
       "count    22676.000000\n",
       "mean         7.476671\n",
       "std         12.427179\n",
       "min          1.000000\n",
       "25%          1.000000\n",
       "50%          3.000000\n",
       "75%          8.000000\n",
       "max        139.000000\n",
       "Name: number_donors, dtype: float64"
      ]
     },
     "execution_count": 45,
     "metadata": {},
     "output_type": "execute_result"
    }
   ],
   "source": [
    "# Exploring the data for the non-zero entries\n",
    "dft[dft['number_donors']>0].number_donors.describe()"
   ]
  },
  {
   "cell_type": "code",
   "execution_count": 46,
   "id": "ab6d5536",
   "metadata": {},
   "outputs": [
    {
     "data": {
      "text/plain": [
       "169541"
      ]
     },
     "execution_count": 46,
     "metadata": {},
     "output_type": "execute_result"
    }
   ],
   "source": [
    "# Total number of donors\n",
    "dft['number_donors'].sum()"
   ]
  },
  {
   "cell_type": "markdown",
   "id": "e493a8aa",
   "metadata": {},
   "source": [
    "#### 0.7.3 - donor_type cleaning/checks/wrangling"
   ]
  },
  {
   "cell_type": "code",
   "execution_count": 28,
   "id": "8ae9bb5a",
   "metadata": {},
   "outputs": [
    {
     "data": {
      "text/plain": [
       "count        76160\n",
       "unique           2\n",
       "top       Deceased\n",
       "freq         49476\n",
       "Name: donor_type, dtype: object"
      ]
     },
     "execution_count": 28,
     "metadata": {},
     "output_type": "execute_result"
    }
   ],
   "source": [
    "#Exploring the data for this column\n",
    "dft['donor_type'].describe()"
   ]
  },
  {
   "cell_type": "code",
   "execution_count": 29,
   "id": "cb3d2b85",
   "metadata": {},
   "outputs": [
    {
     "data": {
      "text/plain": [
       "Deceased    49476\n",
       "Living      26684\n",
       "Name: donor_type, dtype: int64"
      ]
     },
     "execution_count": 29,
     "metadata": {},
     "output_type": "execute_result"
    }
   ],
   "source": [
    "dft['donor_type'].value_counts()"
   ]
  },
  {
   "cell_type": "markdown",
   "id": "03342b5e",
   "metadata": {},
   "source": [
    "These counts match what we would expect based on examination of the .csv in Excel"
   ]
  },
  {
   "cell_type": "code",
   "execution_count": 59,
   "id": "0163145f",
   "metadata": {},
   "outputs": [
    {
     "data": {
      "text/plain": [
       "donor_type\n",
       "Deceased    108443.0\n",
       "Living       61098.0\n",
       "Name: number_donors, dtype: float64"
      ]
     },
     "execution_count": 59,
     "metadata": {},
     "output_type": "execute_result"
    }
   ],
   "source": [
    "#Exploring the number of donors in each category\n",
    "dft.groupby('donor_type').number_donors.sum()"
   ]
  },
  {
   "cell_type": "markdown",
   "id": "b01164c0",
   "metadata": {},
   "source": [
    "#### 0.7.4 year cleaning/checks/wrangling"
   ]
  },
  {
   "cell_type": "code",
   "execution_count": 30,
   "id": "a828045f",
   "metadata": {},
   "outputs": [
    {
     "data": {
      "text/plain": [
       "count    76160.000000\n",
       "mean      2017.511765\n",
       "std          2.868113\n",
       "min       2013.000000\n",
       "25%       2015.000000\n",
       "50%       2018.000000\n",
       "75%       2020.000000\n",
       "max       2022.000000\n",
       "Name: year, dtype: float64"
      ]
     },
     "execution_count": 30,
     "metadata": {},
     "output_type": "execute_result"
    }
   ],
   "source": [
    "#Exploring the data for this column\n",
    "dft['year'].describe()"
   ]
  },
  {
   "cell_type": "code",
   "execution_count": 31,
   "id": "22684742",
   "metadata": {
    "scrolled": true
   },
   "outputs": [
    {
     "data": {
      "text/plain": [
       "2013    7532\n",
       "2014    7518\n",
       "2015    7658\n",
       "2016    7630\n",
       "2017    7588\n",
       "2018    7630\n",
       "2019    7770\n",
       "2020    7532\n",
       "2021    7672\n",
       "2022    7630\n",
       "Name: year, dtype: int64"
      ]
     },
     "execution_count": 31,
     "metadata": {},
     "output_type": "execute_result"
    }
   ],
   "source": [
    "dft['year'].value_counts().sort_index()"
   ]
  },
  {
   "cell_type": "markdown",
   "id": "c3d9d650",
   "metadata": {},
   "source": [
    "There is variation in the counts between different years because in some years, some age groups were not reported by some states.  This means that no donors occured in those age groups in that state in that particular year. (This was confirmed via email with the owner of the data)"
   ]
  },
  {
   "cell_type": "code",
   "execution_count": 56,
   "id": "f1396e45",
   "metadata": {},
   "outputs": [
    {
     "data": {
      "text/plain": [
       "year\n",
       "2013    13933\n",
       "2014    14045\n",
       "2015    14688\n",
       "2016    15598\n",
       "2017    16130\n",
       "2018    17193\n",
       "2019    18895\n",
       "2020    18012\n",
       "2021    20066\n",
       "2022    20981\n",
       "Name: number_donors, dtype: int16"
      ]
     },
     "execution_count": 56,
     "metadata": {},
     "output_type": "execute_result"
    }
   ],
   "source": [
    "# Exploring the number of donors in each year\n",
    "dft.groupby('year').number_donors.sum()"
   ]
  },
  {
   "cell_type": "markdown",
   "id": "0041b1ef",
   "metadata": {},
   "source": [
    "#### 0.7.5 state cleaning/checks/wrangling"
   ]
  },
  {
   "cell_type": "code",
   "execution_count": 32,
   "id": "a49476f6",
   "metadata": {
    "scrolled": true
   },
   "outputs": [
    {
     "data": {
      "text/plain": [
       "count            76160\n",
       "unique              50\n",
       "top       Pennsylvania\n",
       "freq              1722\n",
       "Name: state, dtype: object"
      ]
     },
     "execution_count": 32,
     "metadata": {},
     "output_type": "execute_result"
    }
   ],
   "source": [
    "#Exploring the data for this column\n",
    "dft['state'].describe()"
   ]
  },
  {
   "cell_type": "code",
   "execution_count": 33,
   "id": "bfceae13",
   "metadata": {},
   "outputs": [
    {
     "data": {
      "text/plain": [
       "Pennsylvania      1722\n",
       "Illinois          1694\n",
       "Virginia          1694\n",
       "New York          1694\n",
       "Georgia           1694\n",
       "Texas             1680\n",
       "Arizona           1680\n",
       "California        1680\n",
       "New Jersey        1680\n",
       "Florida           1680\n",
       "North Carolina    1680\n",
       "Indiana           1666\n",
       "Tennessee         1666\n",
       "Michigan          1666\n",
       "Ohio              1666\n",
       "Wisconsin         1652\n",
       "Oklahoma          1652\n",
       "Louisiana         1652\n",
       "Missouri          1652\n",
       "Minnesota         1652\n",
       "Maryland          1638\n",
       "Iowa              1624\n",
       "Alabama           1610\n",
       "Washington        1610\n",
       "South Carolina    1596\n",
       "Nevada            1596\n",
       "Utah              1596\n",
       "Mississippi       1582\n",
       "Kentucky          1568\n",
       "Kansas            1554\n",
       "Massachusetts     1540\n",
       "Oregon            1526\n",
       "Colorado          1512\n",
       "Idaho             1484\n",
       "Arkansas          1470\n",
       "Nebraska          1456\n",
       "West Virginia     1456\n",
       "Connecticut       1442\n",
       "New Mexico        1428\n",
       "Montana           1330\n",
       "Delaware          1330\n",
       "South Dakota      1316\n",
       "Maine             1302\n",
       "Hawaii            1246\n",
       "New Hampshire     1218\n",
       "Alaska            1176\n",
       "Wyoming           1148\n",
       "North Dakota      1120\n",
       "Rhode Island      1092\n",
       "Vermont           1092\n",
       "Name: state, dtype: int64"
      ]
     },
     "execution_count": 33,
     "metadata": {},
     "output_type": "execute_result"
    }
   ],
   "source": [
    "dft['state'].value_counts()"
   ]
  },
  {
   "cell_type": "code",
   "execution_count": 34,
   "id": "7db74298",
   "metadata": {
    "scrolled": true
   },
   "outputs": [
    {
     "data": {
      "text/plain": [
       "Alabama           1610\n",
       "Alaska            1176\n",
       "Arizona           1680\n",
       "Arkansas          1470\n",
       "California        1680\n",
       "Colorado          1512\n",
       "Connecticut       1442\n",
       "Delaware          1330\n",
       "Florida           1680\n",
       "Georgia           1694\n",
       "Hawaii            1246\n",
       "Idaho             1484\n",
       "Illinois          1694\n",
       "Indiana           1666\n",
       "Iowa              1624\n",
       "Kansas            1554\n",
       "Kentucky          1568\n",
       "Louisiana         1652\n",
       "Maine             1302\n",
       "Maryland          1638\n",
       "Massachusetts     1540\n",
       "Michigan          1666\n",
       "Minnesota         1652\n",
       "Mississippi       1582\n",
       "Missouri          1652\n",
       "Montana           1330\n",
       "Nebraska          1456\n",
       "Nevada            1596\n",
       "New Hampshire     1218\n",
       "New Jersey        1680\n",
       "New Mexico        1428\n",
       "New York          1694\n",
       "North Carolina    1680\n",
       "North Dakota      1120\n",
       "Ohio              1666\n",
       "Oklahoma          1652\n",
       "Oregon            1526\n",
       "Pennsylvania      1722\n",
       "Rhode Island      1092\n",
       "South Carolina    1596\n",
       "South Dakota      1316\n",
       "Tennessee         1666\n",
       "Texas             1680\n",
       "Utah              1596\n",
       "Vermont           1092\n",
       "Virginia          1694\n",
       "Washington        1610\n",
       "West Virginia     1456\n",
       "Wisconsin         1652\n",
       "Wyoming           1148\n",
       "Name: state, dtype: int64"
      ]
     },
     "execution_count": 34,
     "metadata": {},
     "output_type": "execute_result"
    }
   ],
   "source": [
    "dft['state'].value_counts().sort_index()"
   ]
  },
  {
   "cell_type": "markdown",
   "id": "28be537f",
   "metadata": {},
   "source": [
    "There is variation in the counts between different states because in some years, some age groups were not reported by some states.  This means that no donors occured in those age groups in that state in that particular year."
   ]
  },
  {
   "cell_type": "code",
   "execution_count": 60,
   "id": "8c052a83",
   "metadata": {},
   "outputs": [
    {
     "data": {
      "text/plain": [
       "state\n",
       "Alabama            2705\n",
       "Alaska              403\n",
       "Arizona            3778\n",
       "Arkansas           1188\n",
       "California        16833\n",
       "Colorado           2966\n",
       "Connecticut        1801\n",
       "Delaware            792\n",
       "Florida            9983\n",
       "Georgia            5067\n",
       "Hawaii              598\n",
       "Idaho               825\n",
       "Illinois           7568\n",
       "Indiana            3622\n",
       "Iowa               1595\n",
       "Kansas             1748\n",
       "Kentucky           2261\n",
       "Louisiana          2703\n",
       "Maine               791\n",
       "Maryland           3750\n",
       "Massachusetts      3292\n",
       "Michigan           5496\n",
       "Minnesota          2961\n",
       "Mississippi        1421\n",
       "Missouri           3897\n",
       "Montana             514\n",
       "Nebraska           1041\n",
       "Nevada             1910\n",
       "New Hampshire       733\n",
       "New Jersey         4964\n",
       "New Mexico         1019\n",
       "New York           9313\n",
       "North Carolina     4949\n",
       "North Dakota        367\n",
       "Ohio               6916\n",
       "Oklahoma           2366\n",
       "Oregon             1618\n",
       "Pennsylvania       9233\n",
       "Rhode Island        441\n",
       "South Carolina     2442\n",
       "South Dakota        426\n",
       "Tennessee          4058\n",
       "Texas             14729\n",
       "Utah               1700\n",
       "Vermont             289\n",
       "Virginia           4380\n",
       "Washington         3063\n",
       "West Virginia      1032\n",
       "Wisconsin          3712\n",
       "Wyoming             282\n",
       "Name: number_donors, dtype: int16"
      ]
     },
     "execution_count": 60,
     "metadata": {},
     "output_type": "execute_result"
    }
   ],
   "source": [
    "#Exploring the number of donors in each state\n",
    "dft.groupby('state').number_donors.sum()"
   ]
  },
  {
   "cell_type": "code",
   "execution_count": null,
   "id": "3a40e43c",
   "metadata": {},
   "outputs": [],
   "source": []
  },
  {
   "cell_type": "markdown",
   "id": "cc4477b4",
   "metadata": {},
   "source": [
    "#### 0.7.6 age_group cleaning/checks/wrangling"
   ]
  },
  {
   "cell_type": "code",
   "execution_count": 35,
   "id": "07cdedb0",
   "metadata": {},
   "outputs": [
    {
     "data": {
      "text/plain": [
       "count           76160\n",
       "unique              8\n",
       "top       35-49 Years\n",
       "freq            13972\n",
       "Name: age_group, dtype: object"
      ]
     },
     "execution_count": 35,
     "metadata": {},
     "output_type": "execute_result"
    }
   ],
   "source": [
    "#Exploring the data for this column\n",
    "dft['age_group'].describe()"
   ]
  },
  {
   "cell_type": "code",
   "execution_count": 36,
   "id": "6d42a6ea",
   "metadata": {
    "scrolled": true
   },
   "outputs": [
    {
     "data": {
      "text/plain": [
       "35-49 Years    13972\n",
       "50-64 Years    13972\n",
       "18-34 Years    13930\n",
       "65 +           12026\n",
       "11-17 Years     6524\n",
       "1-5 Years       5698\n",
       "< 1 Year        5054\n",
       "6-10 Years      4984\n",
       "Name: age_group, dtype: int64"
      ]
     },
     "execution_count": 36,
     "metadata": {},
     "output_type": "execute_result"
    }
   ],
   "source": [
    "dft['age_group'].value_counts()"
   ]
  },
  {
   "cell_type": "markdown",
   "id": "a6171050",
   "metadata": {},
   "source": [
    "There is variation across age groups because in some years, some age groups were not reported by some states.  This means that no donors occured in those age groups in that state in that particular year."
   ]
  },
  {
   "cell_type": "code",
   "execution_count": 57,
   "id": "1c0470f8",
   "metadata": {},
   "outputs": [
    {
     "data": {
      "text/plain": [
       "age_group\n",
       "1-5 Years       2123.0\n",
       "11-17 Years     4392.0\n",
       "18-34 Years    47914.0\n",
       "35-49 Years    54271.0\n",
       "50-64 Years    48391.0\n",
       "6-10 Years      1144.0\n",
       "65 +           10022.0\n",
       "< 1 Year        1284.0\n",
       "Name: number_donors, dtype: float64"
      ]
     },
     "execution_count": 57,
     "metadata": {},
     "output_type": "execute_result"
    }
   ],
   "source": [
    "dft.groupby('age_group').number_donors.sum()"
   ]
  },
  {
   "cell_type": "code",
   "execution_count": null,
   "id": "4617e17c",
   "metadata": {},
   "outputs": [],
   "source": []
  },
  {
   "cell_type": "markdown",
   "id": "dde175d2",
   "metadata": {},
   "source": [
    "#### 0.7.7 gender cleaning/checks/wrangling"
   ]
  },
  {
   "cell_type": "code",
   "execution_count": 37,
   "id": "48b3fe93",
   "metadata": {},
   "outputs": [
    {
     "data": {
      "text/plain": [
       "count      76160\n",
       "unique         2\n",
       "top       Female\n",
       "freq       38080\n",
       "Name: gender, dtype: object"
      ]
     },
     "execution_count": 37,
     "metadata": {},
     "output_type": "execute_result"
    }
   ],
   "source": [
    "#Exploring the data for this column\n",
    "dft['gender'].describe()"
   ]
  },
  {
   "cell_type": "code",
   "execution_count": 38,
   "id": "307c662f",
   "metadata": {
    "scrolled": true
   },
   "outputs": [
    {
     "data": {
      "text/plain": [
       "Female    38080\n",
       "Male      38080\n",
       "Name: gender, dtype: int64"
      ]
     },
     "execution_count": 38,
     "metadata": {},
     "output_type": "execute_result"
    }
   ],
   "source": [
    "dft['gender'].value_counts()"
   ]
  },
  {
   "cell_type": "markdown",
   "id": "bc484226",
   "metadata": {},
   "source": [
    "Counts are as expected"
   ]
  },
  {
   "cell_type": "code",
   "execution_count": 52,
   "id": "28c0b3ba",
   "metadata": {},
   "outputs": [
    {
     "data": {
      "text/plain": [
       "88429"
      ]
     },
     "execution_count": 52,
     "metadata": {},
     "output_type": "execute_result"
    }
   ],
   "source": [
    "dft[dft['gender']=='Male'].number_donors.sum()"
   ]
  },
  {
   "cell_type": "code",
   "execution_count": 53,
   "id": "7e34570c",
   "metadata": {},
   "outputs": [
    {
     "data": {
      "text/plain": [
       "81112"
      ]
     },
     "execution_count": 53,
     "metadata": {},
     "output_type": "execute_result"
    }
   ],
   "source": [
    "dft[dft['gender']=='Female'].number_donors.sum()"
   ]
  },
  {
   "cell_type": "markdown",
   "id": "f7b3844d",
   "metadata": {},
   "source": [
    "#### 0.7.8 ethnicity cleaning/checks/wrangling"
   ]
  },
  {
   "cell_type": "code",
   "execution_count": 39,
   "id": "a28b12d5",
   "metadata": {},
   "outputs": [
    {
     "data": {
      "text/plain": [
       "count                                            76160\n",
       "unique                                               7\n",
       "top       American Indian/Alaska Native (Non-Hispanic)\n",
       "freq                                             10880\n",
       "Name: ethnicity, dtype: object"
      ]
     },
     "execution_count": 39,
     "metadata": {},
     "output_type": "execute_result"
    }
   ],
   "source": [
    "#Exploring the data for this column\n",
    "dft['ethnicity'].describe()"
   ]
  },
  {
   "cell_type": "code",
   "execution_count": 40,
   "id": "9c585bdb",
   "metadata": {},
   "outputs": [
    {
     "data": {
      "text/plain": [
       "American Indian/Alaska Native (Non-Hispanic)    10880\n",
       "Asian (Non-Hispanic)                            10880\n",
       "Black (Non-Hispanic)                            10880\n",
       "Hispanic/Latino                                 10880\n",
       "Multiracial (Non-Hispanic)                      10880\n",
       "Pacific Islander (Non-Hispanic)                 10880\n",
       "White (Non-Hispanic)                            10880\n",
       "Name: ethnicity, dtype: int64"
      ]
     },
     "execution_count": 40,
     "metadata": {},
     "output_type": "execute_result"
    }
   ],
   "source": [
    "dft['ethnicity'].value_counts()"
   ]
  },
  {
   "cell_type": "markdown",
   "id": "34c2c42b",
   "metadata": {},
   "source": [
    "Counts are as expected"
   ]
  },
  {
   "cell_type": "code",
   "execution_count": 58,
   "id": "90298207",
   "metadata": {},
   "outputs": [
    {
     "data": {
      "text/plain": [
       "ethnicity\n",
       "American Indian/Alaska Native (Non-Hispanic)       895.0\n",
       "Asian (Non-Hispanic)                              5097.0\n",
       "Black (Non-Hispanic)                             22349.0\n",
       "Hispanic/Latino                                  23639.0\n",
       "Multiracial (Non-Hispanic)                         975.0\n",
       "Pacific Islander (Non-Hispanic)                    442.0\n",
       "White (Non-Hispanic)                            116144.0\n",
       "Name: number_donors, dtype: float64"
      ]
     },
     "execution_count": 58,
     "metadata": {},
     "output_type": "execute_result"
    }
   ],
   "source": [
    "dft.groupby('ethnicity').number_donors.sum()"
   ]
  },
  {
   "cell_type": "markdown",
   "id": "7d9b1c03",
   "metadata": {},
   "source": [
    "### 0.8 Export the Clean Dataframe: all_donors_clean.pkl"
   ]
  },
  {
   "cell_type": "code",
   "execution_count": 41,
   "id": "186d00ee",
   "metadata": {},
   "outputs": [
    {
     "data": {
      "text/plain": [
       "(76160, 7)"
      ]
     },
     "execution_count": 41,
     "metadata": {},
     "output_type": "execute_result"
    }
   ],
   "source": [
    "# Confirming final shape and datetypes\n",
    "dft.shape"
   ]
  },
  {
   "cell_type": "code",
   "execution_count": 42,
   "id": "8b04dab1",
   "metadata": {},
   "outputs": [
    {
     "name": "stdout",
     "output_type": "stream",
     "text": [
      "<class 'pandas.core.frame.DataFrame'>\n",
      "Int64Index: 76160 entries, 0 to 76159\n",
      "Data columns (total 7 columns):\n",
      " #   Column         Non-Null Count  Dtype   \n",
      "---  ------         --------------  -----   \n",
      " 0   number_donors  76160 non-null  int16   \n",
      " 1   donor_type     76160 non-null  category\n",
      " 2   year           76160 non-null  int16   \n",
      " 3   state          76160 non-null  category\n",
      " 4   age_group      76160 non-null  category\n",
      " 5   gender         76160 non-null  category\n",
      " 6   ethnicity      76160 non-null  category\n",
      "dtypes: category(5), int16(2)\n",
      "memory usage: 3.3 MB\n"
     ]
    }
   ],
   "source": [
    "dft.info()"
   ]
  },
  {
   "cell_type": "code",
   "execution_count": 43,
   "id": "b4aa7408",
   "metadata": {},
   "outputs": [],
   "source": [
    "# Export df as a pickle file for future analysis in Python\n",
    "dft.to_pickle(os.path.join(path, '02 Data','Prepared Data', 'all_donors_clean.pkl'))"
   ]
  },
  {
   "cell_type": "code",
   "execution_count": 44,
   "id": "4fee9af4",
   "metadata": {},
   "outputs": [],
   "source": [
    "# Export a copy of the df as .csv that can be opened in Excel\n",
    "dft.to_csv(os.path.join(path, '02 Data','Prepared Data', 'all_donors_clean.csv'), index = False)"
   ]
  },
  {
   "cell_type": "code",
   "execution_count": null,
   "id": "8204d931",
   "metadata": {},
   "outputs": [],
   "source": []
  }
 ],
 "metadata": {
  "kernelspec": {
   "display_name": "Python 3 (ipykernel)",
   "language": "python",
   "name": "python3"
  },
  "language_info": {
   "codemirror_mode": {
    "name": "ipython",
    "version": 3
   },
   "file_extension": ".py",
   "mimetype": "text/x-python",
   "name": "python",
   "nbconvert_exporter": "python",
   "pygments_lexer": "ipython3",
   "version": "3.9.13"
  }
 },
 "nbformat": 4,
 "nbformat_minor": 5
}
