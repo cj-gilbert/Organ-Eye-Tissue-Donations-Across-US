{
 "cells": [
  {
   "cell_type": "markdown",
   "id": "9c586790",
   "metadata": {},
   "source": [
    "# Table of Contents"
   ]
  },
  {
   "cell_type": "markdown",
   "id": "9e479334",
   "metadata": {},
   "source": [
    "0.1 Import Libraries\n",
    "\n",
    "0.2 Import Data: CENSUS_2013-2022.csv\n",
    "\n",
    "0.3 Explore Original Dataframe\n",
    "\n",
    "0.4 Drop NaN rows\n",
    "\n",
    "0.5 Transform Dataframe / Wrangle Table Structure\n",
    "\n",
    "0.6 Adjust Datatypes\n",
    "\n",
    "0.7 Clean / Check / Wrangle Data\n",
    "    \n",
    "    0.7.1 Overall df\n",
    "    0.7.2 population\n",
    "    0.7.3 year\n",
    "    0.7.4 state\n",
    "    0.7.5 age_group\n",
    "    0.7.6 gender\n",
    "    0.7.7 ethnicity\n",
    "\n",
    "0.8 Export the Clean Dataframe: census_2013-22_clean.pkl\n",
    "\n"
   ]
  },
  {
   "cell_type": "markdown",
   "id": "f6a35677",
   "metadata": {},
   "source": [
    "### 0.1 Import Libraries"
   ]
  },
  {
   "cell_type": "code",
   "execution_count": 7,
   "id": "06568fdf",
   "metadata": {},
   "outputs": [],
   "source": [
    "# Import libraries\n",
    "import pandas as pd\n",
    "import numpy as np\n",
    "import os\n",
    "import matplotlib.pyplot as plt\n",
    "import seaborn as sns\n",
    "import scipy"
   ]
  },
  {
   "cell_type": "markdown",
   "id": "1827ebd0",
   "metadata": {},
   "source": [
    "### 0.2 Import Data: CENSUS_2013-2022.csv"
   ]
  },
  {
   "cell_type": "code",
   "execution_count": 8,
   "id": "1b1d5cfc",
   "metadata": {},
   "outputs": [],
   "source": [
    "# Identify the file pathway to data files\n",
    "path = r'C:\\Users\\CJ\\Documents\\_CJ-Stuff\\Career Foundry\\Data Immersion\\Ach 6 - Adv Analytics and Dashboard\\Donate Life Project'"
   ]
  },
  {
   "cell_type": "code",
   "execution_count": 9,
   "id": "39320ce5",
   "metadata": {
    "scrolled": true
   },
   "outputs": [
    {
     "name": "stderr",
     "output_type": "stream",
     "text": [
      "C:\\Users\\CJ\\AppData\\Local\\Temp\\ipykernel_5992\\938100978.py:2: DtypeWarning: Columns (0,1,2,3) have mixed types. Specify dtype option on import or set low_memory=False.\n",
      "  df = pd.read_csv(os.path.join(path, '02 Data', 'Original Data', 'CENSUS_2013-2022.csv'))\n"
     ]
    }
   ],
   "source": [
    "# Import data\n",
    "df = pd.read_csv(os.path.join(path, '02 Data', 'Original Data', 'CENSUS_2013-2022.csv'))"
   ]
  },
  {
   "cell_type": "markdown",
   "id": "9fb8dbcb",
   "metadata": {},
   "source": [
    "### 0.3 Explore Original Dataframe"
   ]
  },
  {
   "cell_type": "code",
   "execution_count": 10,
   "id": "3fee77fe",
   "metadata": {},
   "outputs": [
    {
     "data": {
      "text/plain": [
       "(118453, 14)"
      ]
     },
     "execution_count": 10,
     "metadata": {},
     "output_type": "execute_result"
    }
   ],
   "source": [
    "df.shape"
   ]
  },
  {
   "cell_type": "markdown",
   "id": "a184c0eb",
   "metadata": {},
   "source": [
    "The number of columns matches what was exported from Excel, but the number of rows is signficiantly larger."
   ]
  },
  {
   "cell_type": "code",
   "execution_count": 11,
   "id": "49a23b91",
   "metadata": {
    "scrolled": true
   },
   "outputs": [
    {
     "data": {
      "text/html": [
       "<div>\n",
       "<style scoped>\n",
       "    .dataframe tbody tr th:only-of-type {\n",
       "        vertical-align: middle;\n",
       "    }\n",
       "\n",
       "    .dataframe tbody tr th {\n",
       "        vertical-align: top;\n",
       "    }\n",
       "\n",
       "    .dataframe thead th {\n",
       "        text-align: right;\n",
       "    }\n",
       "</style>\n",
       "<table border=\"1\" class=\"dataframe\">\n",
       "  <thead>\n",
       "    <tr style=\"text-align: right;\">\n",
       "      <th></th>\n",
       "      <th>state</th>\n",
       "      <th>gender</th>\n",
       "      <th>ethnicity</th>\n",
       "      <th>age_group</th>\n",
       "      <th>2013</th>\n",
       "      <th>2014</th>\n",
       "      <th>2015</th>\n",
       "      <th>2016</th>\n",
       "      <th>2017</th>\n",
       "      <th>2018</th>\n",
       "      <th>2019</th>\n",
       "      <th>2020</th>\n",
       "      <th>2021</th>\n",
       "      <th>2022</th>\n",
       "    </tr>\n",
       "  </thead>\n",
       "  <tbody>\n",
       "    <tr>\n",
       "      <th>0</th>\n",
       "      <td>Alabama</td>\n",
       "      <td>Male</td>\n",
       "      <td>American Indian/Alaska Native (Non-Hispanic)</td>\n",
       "      <td>&lt; 1 Year</td>\n",
       "      <td>96.0</td>\n",
       "      <td>123.0</td>\n",
       "      <td>78.0</td>\n",
       "      <td>85.0</td>\n",
       "      <td>95.0</td>\n",
       "      <td>131.0</td>\n",
       "      <td>165.0</td>\n",
       "      <td>114.0</td>\n",
       "      <td>55.0</td>\n",
       "      <td>60.0</td>\n",
       "    </tr>\n",
       "    <tr>\n",
       "      <th>1</th>\n",
       "      <td>Alabama</td>\n",
       "      <td>Male</td>\n",
       "      <td>American Indian/Alaska Native (Non-Hispanic)</td>\n",
       "      <td>1-5 Years</td>\n",
       "      <td>632.0</td>\n",
       "      <td>591.0</td>\n",
       "      <td>587.0</td>\n",
       "      <td>549.0</td>\n",
       "      <td>534.0</td>\n",
       "      <td>548.0</td>\n",
       "      <td>592.0</td>\n",
       "      <td>439.0</td>\n",
       "      <td>473.0</td>\n",
       "      <td>469.0</td>\n",
       "    </tr>\n",
       "    <tr>\n",
       "      <th>2</th>\n",
       "      <td>Alabama</td>\n",
       "      <td>Male</td>\n",
       "      <td>American Indian/Alaska Native (Non-Hispanic)</td>\n",
       "      <td>6-10 Years</td>\n",
       "      <td>790.0</td>\n",
       "      <td>756.0</td>\n",
       "      <td>737.0</td>\n",
       "      <td>735.0</td>\n",
       "      <td>692.0</td>\n",
       "      <td>653.0</td>\n",
       "      <td>619.0</td>\n",
       "      <td>515.0</td>\n",
       "      <td>483.0</td>\n",
       "      <td>474.0</td>\n",
       "    </tr>\n",
       "    <tr>\n",
       "      <th>3</th>\n",
       "      <td>Alabama</td>\n",
       "      <td>Male</td>\n",
       "      <td>American Indian/Alaska Native (Non-Hispanic)</td>\n",
       "      <td>11-17 Years</td>\n",
       "      <td>1348.0</td>\n",
       "      <td>1326.0</td>\n",
       "      <td>1293.0</td>\n",
       "      <td>1230.0</td>\n",
       "      <td>1181.0</td>\n",
       "      <td>1117.0</td>\n",
       "      <td>1078.0</td>\n",
       "      <td>1085.0</td>\n",
       "      <td>1037.0</td>\n",
       "      <td>989.0</td>\n",
       "    </tr>\n",
       "    <tr>\n",
       "      <th>4</th>\n",
       "      <td>Alabama</td>\n",
       "      <td>Male</td>\n",
       "      <td>American Indian/Alaska Native (Non-Hispanic)</td>\n",
       "      <td>18-34 Years</td>\n",
       "      <td>3076.0</td>\n",
       "      <td>3100.0</td>\n",
       "      <td>3148.0</td>\n",
       "      <td>3139.0</td>\n",
       "      <td>3123.0</td>\n",
       "      <td>3132.0</td>\n",
       "      <td>3141.0</td>\n",
       "      <td>3229.0</td>\n",
       "      <td>3246.0</td>\n",
       "      <td>3248.0</td>\n",
       "    </tr>\n",
       "  </tbody>\n",
       "</table>\n",
       "</div>"
      ],
      "text/plain": [
       "     state gender                                     ethnicity    age_group  \\\n",
       "0  Alabama   Male  American Indian/Alaska Native (Non-Hispanic)     < 1 Year   \n",
       "1  Alabama   Male  American Indian/Alaska Native (Non-Hispanic)    1-5 Years   \n",
       "2  Alabama   Male  American Indian/Alaska Native (Non-Hispanic)   6-10 Years   \n",
       "3  Alabama   Male  American Indian/Alaska Native (Non-Hispanic)  11-17 Years   \n",
       "4  Alabama   Male  American Indian/Alaska Native (Non-Hispanic)  18-34 Years   \n",
       "\n",
       "     2013    2014    2015    2016    2017    2018    2019    2020    2021  \\\n",
       "0    96.0   123.0    78.0    85.0    95.0   131.0   165.0   114.0    55.0   \n",
       "1   632.0   591.0   587.0   549.0   534.0   548.0   592.0   439.0   473.0   \n",
       "2   790.0   756.0   737.0   735.0   692.0   653.0   619.0   515.0   483.0   \n",
       "3  1348.0  1326.0  1293.0  1230.0  1181.0  1117.0  1078.0  1085.0  1037.0   \n",
       "4  3076.0  3100.0  3148.0  3139.0  3123.0  3132.0  3141.0  3229.0  3246.0   \n",
       "\n",
       "     2022  \n",
       "0    60.0  \n",
       "1   469.0  \n",
       "2   474.0  \n",
       "3   989.0  \n",
       "4  3248.0  "
      ]
     },
     "execution_count": 11,
     "metadata": {},
     "output_type": "execute_result"
    }
   ],
   "source": [
    "df.head()"
   ]
  },
  {
   "cell_type": "code",
   "execution_count": 12,
   "id": "ccf86f29",
   "metadata": {},
   "outputs": [
    {
     "data": {
      "text/html": [
       "<div>\n",
       "<style scoped>\n",
       "    .dataframe tbody tr th:only-of-type {\n",
       "        vertical-align: middle;\n",
       "    }\n",
       "\n",
       "    .dataframe tbody tr th {\n",
       "        vertical-align: top;\n",
       "    }\n",
       "\n",
       "    .dataframe thead th {\n",
       "        text-align: right;\n",
       "    }\n",
       "</style>\n",
       "<table border=\"1\" class=\"dataframe\">\n",
       "  <thead>\n",
       "    <tr style=\"text-align: right;\">\n",
       "      <th></th>\n",
       "      <th>state</th>\n",
       "      <th>gender</th>\n",
       "      <th>ethnicity</th>\n",
       "      <th>age_group</th>\n",
       "      <th>2013</th>\n",
       "      <th>2014</th>\n",
       "      <th>2015</th>\n",
       "      <th>2016</th>\n",
       "      <th>2017</th>\n",
       "      <th>2018</th>\n",
       "      <th>2019</th>\n",
       "      <th>2020</th>\n",
       "      <th>2021</th>\n",
       "      <th>2022</th>\n",
       "    </tr>\n",
       "  </thead>\n",
       "  <tbody>\n",
       "    <tr>\n",
       "      <th>118448</th>\n",
       "      <td>NaN</td>\n",
       "      <td>NaN</td>\n",
       "      <td>NaN</td>\n",
       "      <td>NaN</td>\n",
       "      <td>NaN</td>\n",
       "      <td>NaN</td>\n",
       "      <td>NaN</td>\n",
       "      <td>NaN</td>\n",
       "      <td>NaN</td>\n",
       "      <td>NaN</td>\n",
       "      <td>NaN</td>\n",
       "      <td>NaN</td>\n",
       "      <td>NaN</td>\n",
       "      <td>NaN</td>\n",
       "    </tr>\n",
       "    <tr>\n",
       "      <th>118449</th>\n",
       "      <td>NaN</td>\n",
       "      <td>NaN</td>\n",
       "      <td>NaN</td>\n",
       "      <td>NaN</td>\n",
       "      <td>NaN</td>\n",
       "      <td>NaN</td>\n",
       "      <td>NaN</td>\n",
       "      <td>NaN</td>\n",
       "      <td>NaN</td>\n",
       "      <td>NaN</td>\n",
       "      <td>NaN</td>\n",
       "      <td>NaN</td>\n",
       "      <td>NaN</td>\n",
       "      <td>NaN</td>\n",
       "    </tr>\n",
       "    <tr>\n",
       "      <th>118450</th>\n",
       "      <td>NaN</td>\n",
       "      <td>NaN</td>\n",
       "      <td>NaN</td>\n",
       "      <td>NaN</td>\n",
       "      <td>NaN</td>\n",
       "      <td>NaN</td>\n",
       "      <td>NaN</td>\n",
       "      <td>NaN</td>\n",
       "      <td>NaN</td>\n",
       "      <td>NaN</td>\n",
       "      <td>NaN</td>\n",
       "      <td>NaN</td>\n",
       "      <td>NaN</td>\n",
       "      <td>NaN</td>\n",
       "    </tr>\n",
       "    <tr>\n",
       "      <th>118451</th>\n",
       "      <td>NaN</td>\n",
       "      <td>NaN</td>\n",
       "      <td>NaN</td>\n",
       "      <td>NaN</td>\n",
       "      <td>NaN</td>\n",
       "      <td>NaN</td>\n",
       "      <td>NaN</td>\n",
       "      <td>NaN</td>\n",
       "      <td>NaN</td>\n",
       "      <td>NaN</td>\n",
       "      <td>NaN</td>\n",
       "      <td>NaN</td>\n",
       "      <td>NaN</td>\n",
       "      <td>NaN</td>\n",
       "    </tr>\n",
       "    <tr>\n",
       "      <th>118452</th>\n",
       "      <td>NaN</td>\n",
       "      <td>NaN</td>\n",
       "      <td>NaN</td>\n",
       "      <td>NaN</td>\n",
       "      <td>NaN</td>\n",
       "      <td>NaN</td>\n",
       "      <td>NaN</td>\n",
       "      <td>NaN</td>\n",
       "      <td>NaN</td>\n",
       "      <td>NaN</td>\n",
       "      <td>NaN</td>\n",
       "      <td>NaN</td>\n",
       "      <td>NaN</td>\n",
       "      <td>NaN</td>\n",
       "    </tr>\n",
       "  </tbody>\n",
       "</table>\n",
       "</div>"
      ],
      "text/plain": [
       "       state gender ethnicity age_group  2013  2014  2015  2016  2017  2018  \\\n",
       "118448   NaN    NaN       NaN       NaN   NaN   NaN   NaN   NaN   NaN   NaN   \n",
       "118449   NaN    NaN       NaN       NaN   NaN   NaN   NaN   NaN   NaN   NaN   \n",
       "118450   NaN    NaN       NaN       NaN   NaN   NaN   NaN   NaN   NaN   NaN   \n",
       "118451   NaN    NaN       NaN       NaN   NaN   NaN   NaN   NaN   NaN   NaN   \n",
       "118452   NaN    NaN       NaN       NaN   NaN   NaN   NaN   NaN   NaN   NaN   \n",
       "\n",
       "        2019  2020  2021  2022  \n",
       "118448   NaN   NaN   NaN   NaN  \n",
       "118449   NaN   NaN   NaN   NaN  \n",
       "118450   NaN   NaN   NaN   NaN  \n",
       "118451   NaN   NaN   NaN   NaN  \n",
       "118452   NaN   NaN   NaN   NaN  "
      ]
     },
     "execution_count": 12,
     "metadata": {},
     "output_type": "execute_result"
    }
   ],
   "source": [
    "df.tail()"
   ]
  },
  {
   "cell_type": "markdown",
   "id": "baa1a917",
   "metadata": {},
   "source": [
    "It appears that some blank rows were exported along with the good data -- this will be removed during cleaning."
   ]
  },
  {
   "cell_type": "code",
   "execution_count": 13,
   "id": "585a91a9",
   "metadata": {
    "scrolled": true
   },
   "outputs": [
    {
     "name": "stdout",
     "output_type": "stream",
     "text": [
      "<class 'pandas.core.frame.DataFrame'>\n",
      "RangeIndex: 118453 entries, 0 to 118452\n",
      "Data columns (total 14 columns):\n",
      " #   Column     Non-Null Count  Dtype  \n",
      "---  ------     --------------  -----  \n",
      " 0   state      5600 non-null   object \n",
      " 1   gender     5600 non-null   object \n",
      " 2   ethnicity  5600 non-null   object \n",
      " 3   age_group  5600 non-null   object \n",
      " 4   2013       5600 non-null   float64\n",
      " 5   2014       5600 non-null   float64\n",
      " 6   2015       5600 non-null   float64\n",
      " 7   2016       5600 non-null   float64\n",
      " 8   2017       5600 non-null   float64\n",
      " 9   2018       5600 non-null   float64\n",
      " 10  2019       5600 non-null   float64\n",
      " 11  2020       5600 non-null   float64\n",
      " 12  2021       5600 non-null   float64\n",
      " 13  2022       5600 non-null   float64\n",
      "dtypes: float64(10), object(4)\n",
      "memory usage: 12.7+ MB\n"
     ]
    }
   ],
   "source": [
    "df.info()"
   ]
  },
  {
   "cell_type": "markdown",
   "id": "b588ee7a",
   "metadata": {},
   "source": [
    "All of the column names were extracted correctly.  The default datatypes can be simplified to make the dataframe more compact."
   ]
  },
  {
   "cell_type": "code",
   "execution_count": 14,
   "id": "a2ca2551",
   "metadata": {},
   "outputs": [
    {
     "data": {
      "text/html": [
       "<div>\n",
       "<style scoped>\n",
       "    .dataframe tbody tr th:only-of-type {\n",
       "        vertical-align: middle;\n",
       "    }\n",
       "\n",
       "    .dataframe tbody tr th {\n",
       "        vertical-align: top;\n",
       "    }\n",
       "\n",
       "    .dataframe thead th {\n",
       "        text-align: right;\n",
       "    }\n",
       "</style>\n",
       "<table border=\"1\" class=\"dataframe\">\n",
       "  <thead>\n",
       "    <tr style=\"text-align: right;\">\n",
       "      <th></th>\n",
       "      <th>2013</th>\n",
       "      <th>2014</th>\n",
       "      <th>2015</th>\n",
       "      <th>2016</th>\n",
       "      <th>2017</th>\n",
       "      <th>2018</th>\n",
       "      <th>2019</th>\n",
       "      <th>2020</th>\n",
       "      <th>2021</th>\n",
       "      <th>2022</th>\n",
       "    </tr>\n",
       "  </thead>\n",
       "  <tbody>\n",
       "    <tr>\n",
       "      <th>count</th>\n",
       "      <td>5.600000e+03</td>\n",
       "      <td>5.600000e+03</td>\n",
       "      <td>5.600000e+03</td>\n",
       "      <td>5.600000e+03</td>\n",
       "      <td>5.600000e+03</td>\n",
       "      <td>5.600000e+03</td>\n",
       "      <td>5.600000e+03</td>\n",
       "      <td>5.600000e+03</td>\n",
       "      <td>5.600000e+03</td>\n",
       "      <td>5.600000e+03</td>\n",
       "    </tr>\n",
       "    <tr>\n",
       "      <th>mean</th>\n",
       "      <td>5.631127e+04</td>\n",
       "      <td>5.672119e+04</td>\n",
       "      <td>5.713567e+04</td>\n",
       "      <td>5.754562e+04</td>\n",
       "      <td>5.790904e+04</td>\n",
       "      <td>5.821178e+04</td>\n",
       "      <td>5.848817e+04</td>\n",
       "      <td>5.907869e+04</td>\n",
       "      <td>5.917192e+04</td>\n",
       "      <td>5.939567e+04</td>\n",
       "    </tr>\n",
       "    <tr>\n",
       "      <th>std</th>\n",
       "      <td>1.605872e+05</td>\n",
       "      <td>1.613870e+05</td>\n",
       "      <td>1.621177e+05</td>\n",
       "      <td>1.627780e+05</td>\n",
       "      <td>1.633030e+05</td>\n",
       "      <td>1.637018e+05</td>\n",
       "      <td>1.640513e+05</td>\n",
       "      <td>1.648497e+05</td>\n",
       "      <td>1.646074e+05</td>\n",
       "      <td>1.648115e+05</td>\n",
       "    </tr>\n",
       "    <tr>\n",
       "      <th>min</th>\n",
       "      <td>1.000000e+00</td>\n",
       "      <td>1.000000e+00</td>\n",
       "      <td>1.000000e+00</td>\n",
       "      <td>1.000000e+00</td>\n",
       "      <td>1.000000e+00</td>\n",
       "      <td>0.000000e+00</td>\n",
       "      <td>0.000000e+00</td>\n",
       "      <td>0.000000e+00</td>\n",
       "      <td>0.000000e+00</td>\n",
       "      <td>0.000000e+00</td>\n",
       "    </tr>\n",
       "    <tr>\n",
       "      <th>25%</th>\n",
       "      <td>8.350000e+02</td>\n",
       "      <td>8.557500e+02</td>\n",
       "      <td>8.817500e+02</td>\n",
       "      <td>9.170000e+02</td>\n",
       "      <td>9.202500e+02</td>\n",
       "      <td>9.365000e+02</td>\n",
       "      <td>9.522500e+02</td>\n",
       "      <td>9.990000e+02</td>\n",
       "      <td>1.016000e+03</td>\n",
       "      <td>1.022250e+03</td>\n",
       "    </tr>\n",
       "    <tr>\n",
       "      <th>50%</th>\n",
       "      <td>4.916500e+03</td>\n",
       "      <td>5.043500e+03</td>\n",
       "      <td>5.135500e+03</td>\n",
       "      <td>5.276000e+03</td>\n",
       "      <td>5.335000e+03</td>\n",
       "      <td>5.434000e+03</td>\n",
       "      <td>5.559000e+03</td>\n",
       "      <td>5.748500e+03</td>\n",
       "      <td>5.859000e+03</td>\n",
       "      <td>6.001000e+03</td>\n",
       "    </tr>\n",
       "    <tr>\n",
       "      <th>75%</th>\n",
       "      <td>2.865525e+04</td>\n",
       "      <td>2.960875e+04</td>\n",
       "      <td>3.030000e+04</td>\n",
       "      <td>3.099725e+04</td>\n",
       "      <td>3.189025e+04</td>\n",
       "      <td>3.247650e+04</td>\n",
       "      <td>3.327475e+04</td>\n",
       "      <td>3.407550e+04</td>\n",
       "      <td>3.476125e+04</td>\n",
       "      <td>3.556050e+04</td>\n",
       "    </tr>\n",
       "    <tr>\n",
       "      <th>max</th>\n",
       "      <td>2.170275e+06</td>\n",
       "      <td>2.192418e+06</td>\n",
       "      <td>2.203638e+06</td>\n",
       "      <td>2.215606e+06</td>\n",
       "      <td>2.223786e+06</td>\n",
       "      <td>2.229177e+06</td>\n",
       "      <td>2.231879e+06</td>\n",
       "      <td>2.247291e+06</td>\n",
       "      <td>2.231601e+06</td>\n",
       "      <td>2.232662e+06</td>\n",
       "    </tr>\n",
       "  </tbody>\n",
       "</table>\n",
       "</div>"
      ],
      "text/plain": [
       "               2013          2014          2015          2016          2017  \\\n",
       "count  5.600000e+03  5.600000e+03  5.600000e+03  5.600000e+03  5.600000e+03   \n",
       "mean   5.631127e+04  5.672119e+04  5.713567e+04  5.754562e+04  5.790904e+04   \n",
       "std    1.605872e+05  1.613870e+05  1.621177e+05  1.627780e+05  1.633030e+05   \n",
       "min    1.000000e+00  1.000000e+00  1.000000e+00  1.000000e+00  1.000000e+00   \n",
       "25%    8.350000e+02  8.557500e+02  8.817500e+02  9.170000e+02  9.202500e+02   \n",
       "50%    4.916500e+03  5.043500e+03  5.135500e+03  5.276000e+03  5.335000e+03   \n",
       "75%    2.865525e+04  2.960875e+04  3.030000e+04  3.099725e+04  3.189025e+04   \n",
       "max    2.170275e+06  2.192418e+06  2.203638e+06  2.215606e+06  2.223786e+06   \n",
       "\n",
       "               2018          2019          2020          2021          2022  \n",
       "count  5.600000e+03  5.600000e+03  5.600000e+03  5.600000e+03  5.600000e+03  \n",
       "mean   5.821178e+04  5.848817e+04  5.907869e+04  5.917192e+04  5.939567e+04  \n",
       "std    1.637018e+05  1.640513e+05  1.648497e+05  1.646074e+05  1.648115e+05  \n",
       "min    0.000000e+00  0.000000e+00  0.000000e+00  0.000000e+00  0.000000e+00  \n",
       "25%    9.365000e+02  9.522500e+02  9.990000e+02  1.016000e+03  1.022250e+03  \n",
       "50%    5.434000e+03  5.559000e+03  5.748500e+03  5.859000e+03  6.001000e+03  \n",
       "75%    3.247650e+04  3.327475e+04  3.407550e+04  3.476125e+04  3.556050e+04  \n",
       "max    2.229177e+06  2.231879e+06  2.247291e+06  2.231601e+06  2.232662e+06  "
      ]
     },
     "execution_count": 14,
     "metadata": {},
     "output_type": "execute_result"
    }
   ],
   "source": [
    "df.describe()"
   ]
  },
  {
   "cell_type": "markdown",
   "id": "e80c2d56",
   "metadata": {},
   "source": [
    "All other basic statistics seem plausible/appropriate."
   ]
  },
  {
   "cell_type": "markdown",
   "id": "f0da441b",
   "metadata": {},
   "source": [
    "### 0.4 Drop NaN Rows"
   ]
  },
  {
   "cell_type": "code",
   "execution_count": 16,
   "id": "f45a2054",
   "metadata": {},
   "outputs": [],
   "source": [
    "# Create a new dataframe with only the non-null rows\n",
    "df2 = df[df['state'].isnull() == False]"
   ]
  },
  {
   "cell_type": "code",
   "execution_count": 17,
   "id": "0794217b",
   "metadata": {},
   "outputs": [
    {
     "data": {
      "text/plain": [
       "(5600, 14)"
      ]
     },
     "execution_count": 17,
     "metadata": {},
     "output_type": "execute_result"
    }
   ],
   "source": [
    "df2.shape"
   ]
  },
  {
   "cell_type": "markdown",
   "id": "4cfa8fb8",
   "metadata": {},
   "source": [
    "This shape matches what we exported from Excel."
   ]
  },
  {
   "cell_type": "code",
   "execution_count": 18,
   "id": "d93f7639",
   "metadata": {},
   "outputs": [
    {
     "data": {
      "text/html": [
       "<div>\n",
       "<style scoped>\n",
       "    .dataframe tbody tr th:only-of-type {\n",
       "        vertical-align: middle;\n",
       "    }\n",
       "\n",
       "    .dataframe tbody tr th {\n",
       "        vertical-align: top;\n",
       "    }\n",
       "\n",
       "    .dataframe thead th {\n",
       "        text-align: right;\n",
       "    }\n",
       "</style>\n",
       "<table border=\"1\" class=\"dataframe\">\n",
       "  <thead>\n",
       "    <tr style=\"text-align: right;\">\n",
       "      <th></th>\n",
       "      <th>state</th>\n",
       "      <th>gender</th>\n",
       "      <th>ethnicity</th>\n",
       "      <th>age_group</th>\n",
       "      <th>2013</th>\n",
       "      <th>2014</th>\n",
       "      <th>2015</th>\n",
       "      <th>2016</th>\n",
       "      <th>2017</th>\n",
       "      <th>2018</th>\n",
       "      <th>2019</th>\n",
       "      <th>2020</th>\n",
       "      <th>2021</th>\n",
       "      <th>2022</th>\n",
       "    </tr>\n",
       "  </thead>\n",
       "  <tbody>\n",
       "    <tr>\n",
       "      <th>0</th>\n",
       "      <td>Alabama</td>\n",
       "      <td>Male</td>\n",
       "      <td>American Indian/Alaska Native (Non-Hispanic)</td>\n",
       "      <td>&lt; 1 Year</td>\n",
       "      <td>96.0</td>\n",
       "      <td>123.0</td>\n",
       "      <td>78.0</td>\n",
       "      <td>85.0</td>\n",
       "      <td>95.0</td>\n",
       "      <td>131.0</td>\n",
       "      <td>165.0</td>\n",
       "      <td>114.0</td>\n",
       "      <td>55.0</td>\n",
       "      <td>60.0</td>\n",
       "    </tr>\n",
       "    <tr>\n",
       "      <th>1</th>\n",
       "      <td>Alabama</td>\n",
       "      <td>Male</td>\n",
       "      <td>American Indian/Alaska Native (Non-Hispanic)</td>\n",
       "      <td>1-5 Years</td>\n",
       "      <td>632.0</td>\n",
       "      <td>591.0</td>\n",
       "      <td>587.0</td>\n",
       "      <td>549.0</td>\n",
       "      <td>534.0</td>\n",
       "      <td>548.0</td>\n",
       "      <td>592.0</td>\n",
       "      <td>439.0</td>\n",
       "      <td>473.0</td>\n",
       "      <td>469.0</td>\n",
       "    </tr>\n",
       "    <tr>\n",
       "      <th>2</th>\n",
       "      <td>Alabama</td>\n",
       "      <td>Male</td>\n",
       "      <td>American Indian/Alaska Native (Non-Hispanic)</td>\n",
       "      <td>6-10 Years</td>\n",
       "      <td>790.0</td>\n",
       "      <td>756.0</td>\n",
       "      <td>737.0</td>\n",
       "      <td>735.0</td>\n",
       "      <td>692.0</td>\n",
       "      <td>653.0</td>\n",
       "      <td>619.0</td>\n",
       "      <td>515.0</td>\n",
       "      <td>483.0</td>\n",
       "      <td>474.0</td>\n",
       "    </tr>\n",
       "    <tr>\n",
       "      <th>3</th>\n",
       "      <td>Alabama</td>\n",
       "      <td>Male</td>\n",
       "      <td>American Indian/Alaska Native (Non-Hispanic)</td>\n",
       "      <td>11-17 Years</td>\n",
       "      <td>1348.0</td>\n",
       "      <td>1326.0</td>\n",
       "      <td>1293.0</td>\n",
       "      <td>1230.0</td>\n",
       "      <td>1181.0</td>\n",
       "      <td>1117.0</td>\n",
       "      <td>1078.0</td>\n",
       "      <td>1085.0</td>\n",
       "      <td>1037.0</td>\n",
       "      <td>989.0</td>\n",
       "    </tr>\n",
       "    <tr>\n",
       "      <th>4</th>\n",
       "      <td>Alabama</td>\n",
       "      <td>Male</td>\n",
       "      <td>American Indian/Alaska Native (Non-Hispanic)</td>\n",
       "      <td>18-34 Years</td>\n",
       "      <td>3076.0</td>\n",
       "      <td>3100.0</td>\n",
       "      <td>3148.0</td>\n",
       "      <td>3139.0</td>\n",
       "      <td>3123.0</td>\n",
       "      <td>3132.0</td>\n",
       "      <td>3141.0</td>\n",
       "      <td>3229.0</td>\n",
       "      <td>3246.0</td>\n",
       "      <td>3248.0</td>\n",
       "    </tr>\n",
       "  </tbody>\n",
       "</table>\n",
       "</div>"
      ],
      "text/plain": [
       "     state gender                                     ethnicity    age_group  \\\n",
       "0  Alabama   Male  American Indian/Alaska Native (Non-Hispanic)     < 1 Year   \n",
       "1  Alabama   Male  American Indian/Alaska Native (Non-Hispanic)    1-5 Years   \n",
       "2  Alabama   Male  American Indian/Alaska Native (Non-Hispanic)   6-10 Years   \n",
       "3  Alabama   Male  American Indian/Alaska Native (Non-Hispanic)  11-17 Years   \n",
       "4  Alabama   Male  American Indian/Alaska Native (Non-Hispanic)  18-34 Years   \n",
       "\n",
       "     2013    2014    2015    2016    2017    2018    2019    2020    2021  \\\n",
       "0    96.0   123.0    78.0    85.0    95.0   131.0   165.0   114.0    55.0   \n",
       "1   632.0   591.0   587.0   549.0   534.0   548.0   592.0   439.0   473.0   \n",
       "2   790.0   756.0   737.0   735.0   692.0   653.0   619.0   515.0   483.0   \n",
       "3  1348.0  1326.0  1293.0  1230.0  1181.0  1117.0  1078.0  1085.0  1037.0   \n",
       "4  3076.0  3100.0  3148.0  3139.0  3123.0  3132.0  3141.0  3229.0  3246.0   \n",
       "\n",
       "     2022  \n",
       "0    60.0  \n",
       "1   469.0  \n",
       "2   474.0  \n",
       "3   989.0  \n",
       "4  3248.0  "
      ]
     },
     "execution_count": 18,
     "metadata": {},
     "output_type": "execute_result"
    }
   ],
   "source": [
    "df2.head()"
   ]
  },
  {
   "cell_type": "code",
   "execution_count": 19,
   "id": "1cffba17",
   "metadata": {},
   "outputs": [
    {
     "data": {
      "text/html": [
       "<div>\n",
       "<style scoped>\n",
       "    .dataframe tbody tr th:only-of-type {\n",
       "        vertical-align: middle;\n",
       "    }\n",
       "\n",
       "    .dataframe tbody tr th {\n",
       "        vertical-align: top;\n",
       "    }\n",
       "\n",
       "    .dataframe thead th {\n",
       "        text-align: right;\n",
       "    }\n",
       "</style>\n",
       "<table border=\"1\" class=\"dataframe\">\n",
       "  <thead>\n",
       "    <tr style=\"text-align: right;\">\n",
       "      <th></th>\n",
       "      <th>state</th>\n",
       "      <th>gender</th>\n",
       "      <th>ethnicity</th>\n",
       "      <th>age_group</th>\n",
       "      <th>2013</th>\n",
       "      <th>2014</th>\n",
       "      <th>2015</th>\n",
       "      <th>2016</th>\n",
       "      <th>2017</th>\n",
       "      <th>2018</th>\n",
       "      <th>2019</th>\n",
       "      <th>2020</th>\n",
       "      <th>2021</th>\n",
       "      <th>2022</th>\n",
       "    </tr>\n",
       "  </thead>\n",
       "  <tbody>\n",
       "    <tr>\n",
       "      <th>5595</th>\n",
       "      <td>Wyoming</td>\n",
       "      <td>Female</td>\n",
       "      <td>White (Non-Hispanic)</td>\n",
       "      <td>11-17 Years</td>\n",
       "      <td>19814.0</td>\n",
       "      <td>19910.0</td>\n",
       "      <td>19925.0</td>\n",
       "      <td>20010.0</td>\n",
       "      <td>19985.0</td>\n",
       "      <td>20091.0</td>\n",
       "      <td>20379.0</td>\n",
       "      <td>20938.0</td>\n",
       "      <td>21205.0</td>\n",
       "      <td>21139.0</td>\n",
       "    </tr>\n",
       "    <tr>\n",
       "      <th>5596</th>\n",
       "      <td>Wyoming</td>\n",
       "      <td>Female</td>\n",
       "      <td>White (Non-Hispanic)</td>\n",
       "      <td>18-34 Years</td>\n",
       "      <td>54381.0</td>\n",
       "      <td>53927.0</td>\n",
       "      <td>53661.0</td>\n",
       "      <td>52680.0</td>\n",
       "      <td>51079.0</td>\n",
       "      <td>50003.0</td>\n",
       "      <td>49289.0</td>\n",
       "      <td>48565.0</td>\n",
       "      <td>48459.0</td>\n",
       "      <td>47957.0</td>\n",
       "    </tr>\n",
       "    <tr>\n",
       "      <th>5597</th>\n",
       "      <td>Wyoming</td>\n",
       "      <td>Female</td>\n",
       "      <td>White (Non-Hispanic)</td>\n",
       "      <td>35-49 Years</td>\n",
       "      <td>42211.0</td>\n",
       "      <td>41881.0</td>\n",
       "      <td>42056.0</td>\n",
       "      <td>42203.0</td>\n",
       "      <td>42315.0</td>\n",
       "      <td>42741.0</td>\n",
       "      <td>43241.0</td>\n",
       "      <td>43030.0</td>\n",
       "      <td>43464.0</td>\n",
       "      <td>44006.0</td>\n",
       "    </tr>\n",
       "    <tr>\n",
       "      <th>5598</th>\n",
       "      <td>Wyoming</td>\n",
       "      <td>Female</td>\n",
       "      <td>White (Non-Hispanic)</td>\n",
       "      <td>50-64 Years</td>\n",
       "      <td>54281.0</td>\n",
       "      <td>53730.0</td>\n",
       "      <td>53097.0</td>\n",
       "      <td>52070.0</td>\n",
       "      <td>50871.0</td>\n",
       "      <td>49761.0</td>\n",
       "      <td>48926.0</td>\n",
       "      <td>47143.0</td>\n",
       "      <td>46316.0</td>\n",
       "      <td>45391.0</td>\n",
       "    </tr>\n",
       "    <tr>\n",
       "      <th>5599</th>\n",
       "      <td>Wyoming</td>\n",
       "      <td>Female</td>\n",
       "      <td>White (Non-Hispanic)</td>\n",
       "      <td>65+</td>\n",
       "      <td>38712.0</td>\n",
       "      <td>40068.0</td>\n",
       "      <td>41446.0</td>\n",
       "      <td>42781.0</td>\n",
       "      <td>44241.0</td>\n",
       "      <td>45781.0</td>\n",
       "      <td>47316.0</td>\n",
       "      <td>47690.0</td>\n",
       "      <td>49349.0</td>\n",
       "      <td>50885.0</td>\n",
       "    </tr>\n",
       "  </tbody>\n",
       "</table>\n",
       "</div>"
      ],
      "text/plain": [
       "        state  gender             ethnicity    age_group     2013     2014  \\\n",
       "5595  Wyoming  Female  White (Non-Hispanic)  11-17 Years  19814.0  19910.0   \n",
       "5596  Wyoming  Female  White (Non-Hispanic)  18-34 Years  54381.0  53927.0   \n",
       "5597  Wyoming  Female  White (Non-Hispanic)  35-49 Years  42211.0  41881.0   \n",
       "5598  Wyoming  Female  White (Non-Hispanic)  50-64 Years  54281.0  53730.0   \n",
       "5599  Wyoming  Female  White (Non-Hispanic)          65+  38712.0  40068.0   \n",
       "\n",
       "         2015     2016     2017     2018     2019     2020     2021     2022  \n",
       "5595  19925.0  20010.0  19985.0  20091.0  20379.0  20938.0  21205.0  21139.0  \n",
       "5596  53661.0  52680.0  51079.0  50003.0  49289.0  48565.0  48459.0  47957.0  \n",
       "5597  42056.0  42203.0  42315.0  42741.0  43241.0  43030.0  43464.0  44006.0  \n",
       "5598  53097.0  52070.0  50871.0  49761.0  48926.0  47143.0  46316.0  45391.0  \n",
       "5599  41446.0  42781.0  44241.0  45781.0  47316.0  47690.0  49349.0  50885.0  "
      ]
     },
     "execution_count": 19,
     "metadata": {},
     "output_type": "execute_result"
    }
   ],
   "source": [
    "df2.tail()"
   ]
  },
  {
   "cell_type": "markdown",
   "id": "17c1c27a",
   "metadata": {},
   "source": [
    "Confirmed match with what was exported from Excel"
   ]
  },
  {
   "cell_type": "markdown",
   "id": "1a0ef651",
   "metadata": {},
   "source": [
    "### 0.5 Transform Dataframe / Wrangle Table Structure"
   ]
  },
  {
   "cell_type": "code",
   "execution_count": 26,
   "id": "b22a73b1",
   "metadata": {},
   "outputs": [],
   "source": [
    "# Extract the list of column names and set it to an string datatype\n",
    "col_names_df = pd.DataFrame(columns=['col_names'])\n",
    "col_names_df['col_names'] = df2.columns.values.astype('str')"
   ]
  },
  {
   "cell_type": "code",
   "execution_count": 27,
   "id": "5a06cd94",
   "metadata": {},
   "outputs": [
    {
     "data": {
      "text/html": [
       "<div>\n",
       "<style scoped>\n",
       "    .dataframe tbody tr th:only-of-type {\n",
       "        vertical-align: middle;\n",
       "    }\n",
       "\n",
       "    .dataframe tbody tr th {\n",
       "        vertical-align: top;\n",
       "    }\n",
       "\n",
       "    .dataframe thead th {\n",
       "        text-align: right;\n",
       "    }\n",
       "</style>\n",
       "<table border=\"1\" class=\"dataframe\">\n",
       "  <thead>\n",
       "    <tr style=\"text-align: right;\">\n",
       "      <th></th>\n",
       "      <th>col_names</th>\n",
       "    </tr>\n",
       "  </thead>\n",
       "  <tbody>\n",
       "    <tr>\n",
       "      <th>0</th>\n",
       "      <td>state</td>\n",
       "    </tr>\n",
       "    <tr>\n",
       "      <th>1</th>\n",
       "      <td>gender</td>\n",
       "    </tr>\n",
       "    <tr>\n",
       "      <th>2</th>\n",
       "      <td>ethnicity</td>\n",
       "    </tr>\n",
       "    <tr>\n",
       "      <th>3</th>\n",
       "      <td>age_group</td>\n",
       "    </tr>\n",
       "    <tr>\n",
       "      <th>4</th>\n",
       "      <td>2013</td>\n",
       "    </tr>\n",
       "    <tr>\n",
       "      <th>5</th>\n",
       "      <td>2014</td>\n",
       "    </tr>\n",
       "    <tr>\n",
       "      <th>6</th>\n",
       "      <td>2015</td>\n",
       "    </tr>\n",
       "    <tr>\n",
       "      <th>7</th>\n",
       "      <td>2016</td>\n",
       "    </tr>\n",
       "    <tr>\n",
       "      <th>8</th>\n",
       "      <td>2017</td>\n",
       "    </tr>\n",
       "    <tr>\n",
       "      <th>9</th>\n",
       "      <td>2018</td>\n",
       "    </tr>\n",
       "    <tr>\n",
       "      <th>10</th>\n",
       "      <td>2019</td>\n",
       "    </tr>\n",
       "    <tr>\n",
       "      <th>11</th>\n",
       "      <td>2020</td>\n",
       "    </tr>\n",
       "    <tr>\n",
       "      <th>12</th>\n",
       "      <td>2021</td>\n",
       "    </tr>\n",
       "    <tr>\n",
       "      <th>13</th>\n",
       "      <td>2022</td>\n",
       "    </tr>\n",
       "  </tbody>\n",
       "</table>\n",
       "</div>"
      ],
      "text/plain": [
       "    col_names\n",
       "0       state\n",
       "1      gender\n",
       "2   ethnicity\n",
       "3   age_group\n",
       "4        2013\n",
       "5        2014\n",
       "6        2015\n",
       "7        2016\n",
       "8        2017\n",
       "9        2018\n",
       "10       2019\n",
       "11       2020\n",
       "12       2021\n",
       "13       2022"
      ]
     },
     "execution_count": 27,
     "metadata": {},
     "output_type": "execute_result"
    }
   ],
   "source": [
    "col_names_df"
   ]
  },
  {
   "cell_type": "code",
   "execution_count": 28,
   "id": "b9defaf7",
   "metadata": {},
   "outputs": [],
   "source": [
    "# Create dataframe to hold the data in the new format\n",
    "dft = pd.DataFrame(columns=['population',\n",
    "                            'year', \n",
    "                            'state', \n",
    "                            'age_group', \n",
    "                            'gender', \n",
    "                            'ethnicity'])"
   ]
  },
  {
   "cell_type": "code",
   "execution_count": 29,
   "id": "90bd5886",
   "metadata": {},
   "outputs": [],
   "source": [
    "# Iterating over the rows and columns with the quantitative data\n",
    "# So each data point will be its own row in the new dataframe\n",
    "# Also extracting the year from the column name in the original df\n",
    "# to become categorical data in the new df\n",
    "\n",
    "for row in range(len(df2)):\n",
    "    for column in range(4,14):\n",
    "\n",
    "        # new_row is the row index in the new dataframe dtw\n",
    "        new_row = row + ((column-4)*5600)\n",
    "\n",
    "        dft.loc[new_row, 'population'] = df2.iloc[row, column]\n",
    "        dft.loc[new_row, 'year'] = col_names_df.loc[column,'col_names']\n",
    "        dft.loc[new_row, 'state'] = df2.loc[row,'state']\n",
    "        dft.loc[new_row, 'age_group'] = df2.loc[row,'age_group']\n",
    "        dft.loc[new_row, 'gender'] = df2.loc[row,'gender']\n",
    "        dft.loc[new_row, 'ethnicity'] = df2.loc[row,'ethnicity']\n"
   ]
  },
  {
   "cell_type": "code",
   "execution_count": 30,
   "id": "0d607d40",
   "metadata": {
    "scrolled": true
   },
   "outputs": [
    {
     "data": {
      "text/plain": [
       "(56000, 6)"
      ]
     },
     "execution_count": 30,
     "metadata": {},
     "output_type": "execute_result"
    }
   ],
   "source": [
    "dft.shape"
   ]
  },
  {
   "cell_type": "markdown",
   "id": "1066afa3",
   "metadata": {},
   "source": [
    "The shape has the expected number of rows and columns."
   ]
  },
  {
   "cell_type": "code",
   "execution_count": 31,
   "id": "3d24c8f3",
   "metadata": {},
   "outputs": [
    {
     "data": {
      "text/html": [
       "<div>\n",
       "<style scoped>\n",
       "    .dataframe tbody tr th:only-of-type {\n",
       "        vertical-align: middle;\n",
       "    }\n",
       "\n",
       "    .dataframe tbody tr th {\n",
       "        vertical-align: top;\n",
       "    }\n",
       "\n",
       "    .dataframe thead th {\n",
       "        text-align: right;\n",
       "    }\n",
       "</style>\n",
       "<table border=\"1\" class=\"dataframe\">\n",
       "  <thead>\n",
       "    <tr style=\"text-align: right;\">\n",
       "      <th></th>\n",
       "      <th>population</th>\n",
       "      <th>year</th>\n",
       "      <th>state</th>\n",
       "      <th>age_group</th>\n",
       "      <th>gender</th>\n",
       "      <th>ethnicity</th>\n",
       "    </tr>\n",
       "  </thead>\n",
       "  <tbody>\n",
       "    <tr>\n",
       "      <th>0</th>\n",
       "      <td>96.0</td>\n",
       "      <td>2013</td>\n",
       "      <td>Alabama</td>\n",
       "      <td>&lt; 1 Year</td>\n",
       "      <td>Male</td>\n",
       "      <td>American Indian/Alaska Native (Non-Hispanic)</td>\n",
       "    </tr>\n",
       "    <tr>\n",
       "      <th>5600</th>\n",
       "      <td>123.0</td>\n",
       "      <td>2014</td>\n",
       "      <td>Alabama</td>\n",
       "      <td>&lt; 1 Year</td>\n",
       "      <td>Male</td>\n",
       "      <td>American Indian/Alaska Native (Non-Hispanic)</td>\n",
       "    </tr>\n",
       "    <tr>\n",
       "      <th>11200</th>\n",
       "      <td>78.0</td>\n",
       "      <td>2015</td>\n",
       "      <td>Alabama</td>\n",
       "      <td>&lt; 1 Year</td>\n",
       "      <td>Male</td>\n",
       "      <td>American Indian/Alaska Native (Non-Hispanic)</td>\n",
       "    </tr>\n",
       "    <tr>\n",
       "      <th>16800</th>\n",
       "      <td>85.0</td>\n",
       "      <td>2016</td>\n",
       "      <td>Alabama</td>\n",
       "      <td>&lt; 1 Year</td>\n",
       "      <td>Male</td>\n",
       "      <td>American Indian/Alaska Native (Non-Hispanic)</td>\n",
       "    </tr>\n",
       "    <tr>\n",
       "      <th>22400</th>\n",
       "      <td>95.0</td>\n",
       "      <td>2017</td>\n",
       "      <td>Alabama</td>\n",
       "      <td>&lt; 1 Year</td>\n",
       "      <td>Male</td>\n",
       "      <td>American Indian/Alaska Native (Non-Hispanic)</td>\n",
       "    </tr>\n",
       "    <tr>\n",
       "      <th>28000</th>\n",
       "      <td>131.0</td>\n",
       "      <td>2018</td>\n",
       "      <td>Alabama</td>\n",
       "      <td>&lt; 1 Year</td>\n",
       "      <td>Male</td>\n",
       "      <td>American Indian/Alaska Native (Non-Hispanic)</td>\n",
       "    </tr>\n",
       "    <tr>\n",
       "      <th>33600</th>\n",
       "      <td>165.0</td>\n",
       "      <td>2019</td>\n",
       "      <td>Alabama</td>\n",
       "      <td>&lt; 1 Year</td>\n",
       "      <td>Male</td>\n",
       "      <td>American Indian/Alaska Native (Non-Hispanic)</td>\n",
       "    </tr>\n",
       "    <tr>\n",
       "      <th>39200</th>\n",
       "      <td>114.0</td>\n",
       "      <td>2020</td>\n",
       "      <td>Alabama</td>\n",
       "      <td>&lt; 1 Year</td>\n",
       "      <td>Male</td>\n",
       "      <td>American Indian/Alaska Native (Non-Hispanic)</td>\n",
       "    </tr>\n",
       "    <tr>\n",
       "      <th>44800</th>\n",
       "      <td>55.0</td>\n",
       "      <td>2021</td>\n",
       "      <td>Alabama</td>\n",
       "      <td>&lt; 1 Year</td>\n",
       "      <td>Male</td>\n",
       "      <td>American Indian/Alaska Native (Non-Hispanic)</td>\n",
       "    </tr>\n",
       "    <tr>\n",
       "      <th>50400</th>\n",
       "      <td>60.0</td>\n",
       "      <td>2022</td>\n",
       "      <td>Alabama</td>\n",
       "      <td>&lt; 1 Year</td>\n",
       "      <td>Male</td>\n",
       "      <td>American Indian/Alaska Native (Non-Hispanic)</td>\n",
       "    </tr>\n",
       "    <tr>\n",
       "      <th>1</th>\n",
       "      <td>632.0</td>\n",
       "      <td>2013</td>\n",
       "      <td>Alabama</td>\n",
       "      <td>1-5 Years</td>\n",
       "      <td>Male</td>\n",
       "      <td>American Indian/Alaska Native (Non-Hispanic)</td>\n",
       "    </tr>\n",
       "    <tr>\n",
       "      <th>5601</th>\n",
       "      <td>591.0</td>\n",
       "      <td>2014</td>\n",
       "      <td>Alabama</td>\n",
       "      <td>1-5 Years</td>\n",
       "      <td>Male</td>\n",
       "      <td>American Indian/Alaska Native (Non-Hispanic)</td>\n",
       "    </tr>\n",
       "    <tr>\n",
       "      <th>11201</th>\n",
       "      <td>587.0</td>\n",
       "      <td>2015</td>\n",
       "      <td>Alabama</td>\n",
       "      <td>1-5 Years</td>\n",
       "      <td>Male</td>\n",
       "      <td>American Indian/Alaska Native (Non-Hispanic)</td>\n",
       "    </tr>\n",
       "    <tr>\n",
       "      <th>16801</th>\n",
       "      <td>549.0</td>\n",
       "      <td>2016</td>\n",
       "      <td>Alabama</td>\n",
       "      <td>1-5 Years</td>\n",
       "      <td>Male</td>\n",
       "      <td>American Indian/Alaska Native (Non-Hispanic)</td>\n",
       "    </tr>\n",
       "    <tr>\n",
       "      <th>22401</th>\n",
       "      <td>534.0</td>\n",
       "      <td>2017</td>\n",
       "      <td>Alabama</td>\n",
       "      <td>1-5 Years</td>\n",
       "      <td>Male</td>\n",
       "      <td>American Indian/Alaska Native (Non-Hispanic)</td>\n",
       "    </tr>\n",
       "    <tr>\n",
       "      <th>28001</th>\n",
       "      <td>548.0</td>\n",
       "      <td>2018</td>\n",
       "      <td>Alabama</td>\n",
       "      <td>1-5 Years</td>\n",
       "      <td>Male</td>\n",
       "      <td>American Indian/Alaska Native (Non-Hispanic)</td>\n",
       "    </tr>\n",
       "    <tr>\n",
       "      <th>33601</th>\n",
       "      <td>592.0</td>\n",
       "      <td>2019</td>\n",
       "      <td>Alabama</td>\n",
       "      <td>1-5 Years</td>\n",
       "      <td>Male</td>\n",
       "      <td>American Indian/Alaska Native (Non-Hispanic)</td>\n",
       "    </tr>\n",
       "    <tr>\n",
       "      <th>39201</th>\n",
       "      <td>439.0</td>\n",
       "      <td>2020</td>\n",
       "      <td>Alabama</td>\n",
       "      <td>1-5 Years</td>\n",
       "      <td>Male</td>\n",
       "      <td>American Indian/Alaska Native (Non-Hispanic)</td>\n",
       "    </tr>\n",
       "    <tr>\n",
       "      <th>44801</th>\n",
       "      <td>473.0</td>\n",
       "      <td>2021</td>\n",
       "      <td>Alabama</td>\n",
       "      <td>1-5 Years</td>\n",
       "      <td>Male</td>\n",
       "      <td>American Indian/Alaska Native (Non-Hispanic)</td>\n",
       "    </tr>\n",
       "    <tr>\n",
       "      <th>50401</th>\n",
       "      <td>469.0</td>\n",
       "      <td>2022</td>\n",
       "      <td>Alabama</td>\n",
       "      <td>1-5 Years</td>\n",
       "      <td>Male</td>\n",
       "      <td>American Indian/Alaska Native (Non-Hispanic)</td>\n",
       "    </tr>\n",
       "  </tbody>\n",
       "</table>\n",
       "</div>"
      ],
      "text/plain": [
       "      population  year    state  age_group gender  \\\n",
       "0           96.0  2013  Alabama   < 1 Year   Male   \n",
       "5600       123.0  2014  Alabama   < 1 Year   Male   \n",
       "11200       78.0  2015  Alabama   < 1 Year   Male   \n",
       "16800       85.0  2016  Alabama   < 1 Year   Male   \n",
       "22400       95.0  2017  Alabama   < 1 Year   Male   \n",
       "28000      131.0  2018  Alabama   < 1 Year   Male   \n",
       "33600      165.0  2019  Alabama   < 1 Year   Male   \n",
       "39200      114.0  2020  Alabama   < 1 Year   Male   \n",
       "44800       55.0  2021  Alabama   < 1 Year   Male   \n",
       "50400       60.0  2022  Alabama   < 1 Year   Male   \n",
       "1          632.0  2013  Alabama  1-5 Years   Male   \n",
       "5601       591.0  2014  Alabama  1-5 Years   Male   \n",
       "11201      587.0  2015  Alabama  1-5 Years   Male   \n",
       "16801      549.0  2016  Alabama  1-5 Years   Male   \n",
       "22401      534.0  2017  Alabama  1-5 Years   Male   \n",
       "28001      548.0  2018  Alabama  1-5 Years   Male   \n",
       "33601      592.0  2019  Alabama  1-5 Years   Male   \n",
       "39201      439.0  2020  Alabama  1-5 Years   Male   \n",
       "44801      473.0  2021  Alabama  1-5 Years   Male   \n",
       "50401      469.0  2022  Alabama  1-5 Years   Male   \n",
       "\n",
       "                                          ethnicity  \n",
       "0      American Indian/Alaska Native (Non-Hispanic)  \n",
       "5600   American Indian/Alaska Native (Non-Hispanic)  \n",
       "11200  American Indian/Alaska Native (Non-Hispanic)  \n",
       "16800  American Indian/Alaska Native (Non-Hispanic)  \n",
       "22400  American Indian/Alaska Native (Non-Hispanic)  \n",
       "28000  American Indian/Alaska Native (Non-Hispanic)  \n",
       "33600  American Indian/Alaska Native (Non-Hispanic)  \n",
       "39200  American Indian/Alaska Native (Non-Hispanic)  \n",
       "44800  American Indian/Alaska Native (Non-Hispanic)  \n",
       "50400  American Indian/Alaska Native (Non-Hispanic)  \n",
       "1      American Indian/Alaska Native (Non-Hispanic)  \n",
       "5601   American Indian/Alaska Native (Non-Hispanic)  \n",
       "11201  American Indian/Alaska Native (Non-Hispanic)  \n",
       "16801  American Indian/Alaska Native (Non-Hispanic)  \n",
       "22401  American Indian/Alaska Native (Non-Hispanic)  \n",
       "28001  American Indian/Alaska Native (Non-Hispanic)  \n",
       "33601  American Indian/Alaska Native (Non-Hispanic)  \n",
       "39201  American Indian/Alaska Native (Non-Hispanic)  \n",
       "44801  American Indian/Alaska Native (Non-Hispanic)  \n",
       "50401  American Indian/Alaska Native (Non-Hispanic)  "
      ]
     },
     "execution_count": 31,
     "metadata": {},
     "output_type": "execute_result"
    }
   ],
   "source": [
    "dft.head(20)"
   ]
  },
  {
   "cell_type": "code",
   "execution_count": 32,
   "id": "6f4fb073",
   "metadata": {
    "scrolled": false
   },
   "outputs": [
    {
     "data": {
      "text/html": [
       "<div>\n",
       "<style scoped>\n",
       "    .dataframe tbody tr th:only-of-type {\n",
       "        vertical-align: middle;\n",
       "    }\n",
       "\n",
       "    .dataframe tbody tr th {\n",
       "        vertical-align: top;\n",
       "    }\n",
       "\n",
       "    .dataframe thead th {\n",
       "        text-align: right;\n",
       "    }\n",
       "</style>\n",
       "<table border=\"1\" class=\"dataframe\">\n",
       "  <thead>\n",
       "    <tr style=\"text-align: right;\">\n",
       "      <th></th>\n",
       "      <th>population</th>\n",
       "      <th>year</th>\n",
       "      <th>state</th>\n",
       "      <th>age_group</th>\n",
       "      <th>gender</th>\n",
       "      <th>ethnicity</th>\n",
       "    </tr>\n",
       "  </thead>\n",
       "  <tbody>\n",
       "    <tr>\n",
       "      <th>5598</th>\n",
       "      <td>54281.0</td>\n",
       "      <td>2013</td>\n",
       "      <td>Wyoming</td>\n",
       "      <td>50-64 Years</td>\n",
       "      <td>Female</td>\n",
       "      <td>White (Non-Hispanic)</td>\n",
       "    </tr>\n",
       "    <tr>\n",
       "      <th>11198</th>\n",
       "      <td>53730.0</td>\n",
       "      <td>2014</td>\n",
       "      <td>Wyoming</td>\n",
       "      <td>50-64 Years</td>\n",
       "      <td>Female</td>\n",
       "      <td>White (Non-Hispanic)</td>\n",
       "    </tr>\n",
       "    <tr>\n",
       "      <th>16798</th>\n",
       "      <td>53097.0</td>\n",
       "      <td>2015</td>\n",
       "      <td>Wyoming</td>\n",
       "      <td>50-64 Years</td>\n",
       "      <td>Female</td>\n",
       "      <td>White (Non-Hispanic)</td>\n",
       "    </tr>\n",
       "    <tr>\n",
       "      <th>22398</th>\n",
       "      <td>52070.0</td>\n",
       "      <td>2016</td>\n",
       "      <td>Wyoming</td>\n",
       "      <td>50-64 Years</td>\n",
       "      <td>Female</td>\n",
       "      <td>White (Non-Hispanic)</td>\n",
       "    </tr>\n",
       "    <tr>\n",
       "      <th>27998</th>\n",
       "      <td>50871.0</td>\n",
       "      <td>2017</td>\n",
       "      <td>Wyoming</td>\n",
       "      <td>50-64 Years</td>\n",
       "      <td>Female</td>\n",
       "      <td>White (Non-Hispanic)</td>\n",
       "    </tr>\n",
       "    <tr>\n",
       "      <th>33598</th>\n",
       "      <td>49761.0</td>\n",
       "      <td>2018</td>\n",
       "      <td>Wyoming</td>\n",
       "      <td>50-64 Years</td>\n",
       "      <td>Female</td>\n",
       "      <td>White (Non-Hispanic)</td>\n",
       "    </tr>\n",
       "    <tr>\n",
       "      <th>39198</th>\n",
       "      <td>48926.0</td>\n",
       "      <td>2019</td>\n",
       "      <td>Wyoming</td>\n",
       "      <td>50-64 Years</td>\n",
       "      <td>Female</td>\n",
       "      <td>White (Non-Hispanic)</td>\n",
       "    </tr>\n",
       "    <tr>\n",
       "      <th>44798</th>\n",
       "      <td>47143.0</td>\n",
       "      <td>2020</td>\n",
       "      <td>Wyoming</td>\n",
       "      <td>50-64 Years</td>\n",
       "      <td>Female</td>\n",
       "      <td>White (Non-Hispanic)</td>\n",
       "    </tr>\n",
       "    <tr>\n",
       "      <th>50398</th>\n",
       "      <td>46316.0</td>\n",
       "      <td>2021</td>\n",
       "      <td>Wyoming</td>\n",
       "      <td>50-64 Years</td>\n",
       "      <td>Female</td>\n",
       "      <td>White (Non-Hispanic)</td>\n",
       "    </tr>\n",
       "    <tr>\n",
       "      <th>55998</th>\n",
       "      <td>45391.0</td>\n",
       "      <td>2022</td>\n",
       "      <td>Wyoming</td>\n",
       "      <td>50-64 Years</td>\n",
       "      <td>Female</td>\n",
       "      <td>White (Non-Hispanic)</td>\n",
       "    </tr>\n",
       "    <tr>\n",
       "      <th>5599</th>\n",
       "      <td>38712.0</td>\n",
       "      <td>2013</td>\n",
       "      <td>Wyoming</td>\n",
       "      <td>65+</td>\n",
       "      <td>Female</td>\n",
       "      <td>White (Non-Hispanic)</td>\n",
       "    </tr>\n",
       "    <tr>\n",
       "      <th>11199</th>\n",
       "      <td>40068.0</td>\n",
       "      <td>2014</td>\n",
       "      <td>Wyoming</td>\n",
       "      <td>65+</td>\n",
       "      <td>Female</td>\n",
       "      <td>White (Non-Hispanic)</td>\n",
       "    </tr>\n",
       "    <tr>\n",
       "      <th>16799</th>\n",
       "      <td>41446.0</td>\n",
       "      <td>2015</td>\n",
       "      <td>Wyoming</td>\n",
       "      <td>65+</td>\n",
       "      <td>Female</td>\n",
       "      <td>White (Non-Hispanic)</td>\n",
       "    </tr>\n",
       "    <tr>\n",
       "      <th>22399</th>\n",
       "      <td>42781.0</td>\n",
       "      <td>2016</td>\n",
       "      <td>Wyoming</td>\n",
       "      <td>65+</td>\n",
       "      <td>Female</td>\n",
       "      <td>White (Non-Hispanic)</td>\n",
       "    </tr>\n",
       "    <tr>\n",
       "      <th>27999</th>\n",
       "      <td>44241.0</td>\n",
       "      <td>2017</td>\n",
       "      <td>Wyoming</td>\n",
       "      <td>65+</td>\n",
       "      <td>Female</td>\n",
       "      <td>White (Non-Hispanic)</td>\n",
       "    </tr>\n",
       "    <tr>\n",
       "      <th>33599</th>\n",
       "      <td>45781.0</td>\n",
       "      <td>2018</td>\n",
       "      <td>Wyoming</td>\n",
       "      <td>65+</td>\n",
       "      <td>Female</td>\n",
       "      <td>White (Non-Hispanic)</td>\n",
       "    </tr>\n",
       "    <tr>\n",
       "      <th>39199</th>\n",
       "      <td>47316.0</td>\n",
       "      <td>2019</td>\n",
       "      <td>Wyoming</td>\n",
       "      <td>65+</td>\n",
       "      <td>Female</td>\n",
       "      <td>White (Non-Hispanic)</td>\n",
       "    </tr>\n",
       "    <tr>\n",
       "      <th>44799</th>\n",
       "      <td>47690.0</td>\n",
       "      <td>2020</td>\n",
       "      <td>Wyoming</td>\n",
       "      <td>65+</td>\n",
       "      <td>Female</td>\n",
       "      <td>White (Non-Hispanic)</td>\n",
       "    </tr>\n",
       "    <tr>\n",
       "      <th>50399</th>\n",
       "      <td>49349.0</td>\n",
       "      <td>2021</td>\n",
       "      <td>Wyoming</td>\n",
       "      <td>65+</td>\n",
       "      <td>Female</td>\n",
       "      <td>White (Non-Hispanic)</td>\n",
       "    </tr>\n",
       "    <tr>\n",
       "      <th>55999</th>\n",
       "      <td>50885.0</td>\n",
       "      <td>2022</td>\n",
       "      <td>Wyoming</td>\n",
       "      <td>65+</td>\n",
       "      <td>Female</td>\n",
       "      <td>White (Non-Hispanic)</td>\n",
       "    </tr>\n",
       "  </tbody>\n",
       "</table>\n",
       "</div>"
      ],
      "text/plain": [
       "      population  year    state    age_group  gender             ethnicity\n",
       "5598     54281.0  2013  Wyoming  50-64 Years  Female  White (Non-Hispanic)\n",
       "11198    53730.0  2014  Wyoming  50-64 Years  Female  White (Non-Hispanic)\n",
       "16798    53097.0  2015  Wyoming  50-64 Years  Female  White (Non-Hispanic)\n",
       "22398    52070.0  2016  Wyoming  50-64 Years  Female  White (Non-Hispanic)\n",
       "27998    50871.0  2017  Wyoming  50-64 Years  Female  White (Non-Hispanic)\n",
       "33598    49761.0  2018  Wyoming  50-64 Years  Female  White (Non-Hispanic)\n",
       "39198    48926.0  2019  Wyoming  50-64 Years  Female  White (Non-Hispanic)\n",
       "44798    47143.0  2020  Wyoming  50-64 Years  Female  White (Non-Hispanic)\n",
       "50398    46316.0  2021  Wyoming  50-64 Years  Female  White (Non-Hispanic)\n",
       "55998    45391.0  2022  Wyoming  50-64 Years  Female  White (Non-Hispanic)\n",
       "5599     38712.0  2013  Wyoming          65+  Female  White (Non-Hispanic)\n",
       "11199    40068.0  2014  Wyoming          65+  Female  White (Non-Hispanic)\n",
       "16799    41446.0  2015  Wyoming          65+  Female  White (Non-Hispanic)\n",
       "22399    42781.0  2016  Wyoming          65+  Female  White (Non-Hispanic)\n",
       "27999    44241.0  2017  Wyoming          65+  Female  White (Non-Hispanic)\n",
       "33599    45781.0  2018  Wyoming          65+  Female  White (Non-Hispanic)\n",
       "39199    47316.0  2019  Wyoming          65+  Female  White (Non-Hispanic)\n",
       "44799    47690.0  2020  Wyoming          65+  Female  White (Non-Hispanic)\n",
       "50399    49349.0  2021  Wyoming          65+  Female  White (Non-Hispanic)\n",
       "55999    50885.0  2022  Wyoming          65+  Female  White (Non-Hispanic)"
      ]
     },
     "execution_count": 32,
     "metadata": {},
     "output_type": "execute_result"
    }
   ],
   "source": [
    "dft.tail(20)"
   ]
  },
  {
   "cell_type": "markdown",
   "id": "1479e6c8",
   "metadata": {},
   "source": [
    "The head and tail match data visible in Excel."
   ]
  },
  {
   "cell_type": "markdown",
   "id": "4e071ce8",
   "metadata": {},
   "source": [
    "### 0.6 Adjust Datatypes"
   ]
  },
  {
   "cell_type": "code",
   "execution_count": 33,
   "id": "2c150f20",
   "metadata": {},
   "outputs": [
    {
     "name": "stdout",
     "output_type": "stream",
     "text": [
      "<class 'pandas.core.frame.DataFrame'>\n",
      "Int64Index: 56000 entries, 0 to 55999\n",
      "Data columns (total 6 columns):\n",
      " #   Column      Non-Null Count  Dtype \n",
      "---  ------      --------------  ----- \n",
      " 0   population  56000 non-null  object\n",
      " 1   year        56000 non-null  object\n",
      " 2   state       56000 non-null  object\n",
      " 3   age_group   56000 non-null  object\n",
      " 4   gender      56000 non-null  object\n",
      " 5   ethnicity   56000 non-null  object\n",
      "dtypes: object(6)\n",
      "memory usage: 5.0+ MB\n"
     ]
    }
   ],
   "source": [
    "dft.info()"
   ]
  },
  {
   "cell_type": "code",
   "execution_count": 34,
   "id": "1796b69c",
   "metadata": {},
   "outputs": [],
   "source": [
    "# The max integer for any quantitative column is 2022, and int16 accomodates up to 32k\n",
    "dft['year'] = dft['year'].astype('int16')\n",
    "dft['population'] = dft['population'].astype('float64')"
   ]
  },
  {
   "cell_type": "code",
   "execution_count": 35,
   "id": "4b15eebe",
   "metadata": {},
   "outputs": [],
   "source": [
    "# The columns classified as 'objects' are really categorical variables.\n",
    "dft['state'] = dft['state'].astype('category')\n",
    "dft['age_group'] = dft['age_group'].astype('category')\n",
    "dft['gender'] = dft['gender'].astype('category')\n",
    "dft['ethnicity'] = dft['ethnicity'].astype('category')\n"
   ]
  },
  {
   "cell_type": "code",
   "execution_count": 36,
   "id": "bbd84146",
   "metadata": {},
   "outputs": [
    {
     "name": "stdout",
     "output_type": "stream",
     "text": [
      "<class 'pandas.core.frame.DataFrame'>\n",
      "Int64Index: 56000 entries, 0 to 55999\n",
      "Data columns (total 6 columns):\n",
      " #   Column      Non-Null Count  Dtype   \n",
      "---  ------      --------------  -----   \n",
      " 0   population  56000 non-null  float64 \n",
      " 1   year        56000 non-null  int16   \n",
      " 2   state       56000 non-null  category\n",
      " 3   age_group   56000 non-null  category\n",
      " 4   gender      56000 non-null  category\n",
      " 5   ethnicity   56000 non-null  category\n",
      "dtypes: category(4), float64(1), int16(1)\n",
      "memory usage: 3.2 MB\n"
     ]
    }
   ],
   "source": [
    "# Confirming changes took\n",
    "dft.info()"
   ]
  },
  {
   "cell_type": "code",
   "execution_count": 37,
   "id": "b01ab0b8",
   "metadata": {},
   "outputs": [],
   "source": [
    "# Reclaiming space\n",
    "del df\n",
    "del df2\n",
    "del col_names_df"
   ]
  },
  {
   "cell_type": "markdown",
   "id": "1d48f5a4",
   "metadata": {},
   "source": [
    "### 0.7 Clean / Check Data"
   ]
  },
  {
   "cell_type": "markdown",
   "id": "7f5ac5c1",
   "metadata": {},
   "source": [
    "#### 0.7.1 Overall df checks"
   ]
  },
  {
   "cell_type": "code",
   "execution_count": 38,
   "id": "9c2edb69",
   "metadata": {
    "scrolled": true
   },
   "outputs": [
    {
     "data": {
      "text/plain": [
       "population    0\n",
       "year          0\n",
       "state         0\n",
       "age_group     0\n",
       "gender        0\n",
       "ethnicity     0\n",
       "dtype: int64"
      ]
     },
     "execution_count": 38,
     "metadata": {},
     "output_type": "execute_result"
    }
   ],
   "source": [
    "# Checking for nulls across the df\n",
    "dft.isnull().sum()"
   ]
  },
  {
   "cell_type": "markdown",
   "id": "98a64027",
   "metadata": {},
   "source": [
    "No nulls found"
   ]
  },
  {
   "cell_type": "code",
   "execution_count": 39,
   "id": "67ac5cde",
   "metadata": {},
   "outputs": [],
   "source": [
    "# Check for mixed data types\n",
    "for col in dft.columns.tolist():\n",
    "  weird = (dft[[col]].applymap(type) != dft[[col]].iloc[0].apply(type)).any(axis = 1)\n",
    "  if len (dft[weird]) > 0:\n",
    "    print (col)"
   ]
  },
  {
   "cell_type": "markdown",
   "id": "75539abd",
   "metadata": {},
   "source": [
    "No mixed data types found"
   ]
  },
  {
   "cell_type": "code",
   "execution_count": 40,
   "id": "7f168e32",
   "metadata": {},
   "outputs": [],
   "source": [
    "# Checking for whole-row duplicates\n",
    "dups = dft[dft.duplicated()]"
   ]
  },
  {
   "cell_type": "code",
   "execution_count": 41,
   "id": "ed7663ad",
   "metadata": {},
   "outputs": [
    {
     "data": {
      "text/plain": [
       "(0, 6)"
      ]
     },
     "execution_count": 41,
     "metadata": {},
     "output_type": "execute_result"
    }
   ],
   "source": [
    "dups.shape"
   ]
  },
  {
   "cell_type": "markdown",
   "id": "c8b75178",
   "metadata": {},
   "source": [
    "No duplicates found"
   ]
  },
  {
   "cell_type": "markdown",
   "id": "6e10af9c",
   "metadata": {},
   "source": [
    "#### 0.7.2 - population cleaning/checks/wrangling"
   ]
  },
  {
   "cell_type": "code",
   "execution_count": 42,
   "id": "ac3d3b64",
   "metadata": {
    "scrolled": true
   },
   "outputs": [
    {
     "data": {
      "text/plain": [
       "count    5.600000e+04\n",
       "mean     5.799690e+04\n",
       "std      1.632155e+05\n",
       "min      0.000000e+00\n",
       "25%      9.290000e+02\n",
       "50%      5.414500e+03\n",
       "75%      3.242650e+04\n",
       "max      2.247291e+06\n",
       "Name: population, dtype: float64"
      ]
     },
     "execution_count": 42,
     "metadata": {},
     "output_type": "execute_result"
    }
   ],
   "source": [
    "#Exploring the data for this column\n",
    "dft['population'].describe()"
   ]
  },
  {
   "cell_type": "markdown",
   "id": "b77dc887",
   "metadata": {},
   "source": [
    "These numbers are appropriate given the preliminary exploration of the .csv in Excel."
   ]
  },
  {
   "cell_type": "markdown",
   "id": "b01164c0",
   "metadata": {},
   "source": [
    "#### 0.7.3 year cleaning/checks/wrangling"
   ]
  },
  {
   "cell_type": "code",
   "execution_count": 45,
   "id": "a828045f",
   "metadata": {},
   "outputs": [
    {
     "data": {
      "text/plain": [
       "count    56000.000000\n",
       "mean      2017.500000\n",
       "std          2.872307\n",
       "min       2013.000000\n",
       "25%       2015.000000\n",
       "50%       2017.500000\n",
       "75%       2020.000000\n",
       "max       2022.000000\n",
       "Name: year, dtype: float64"
      ]
     },
     "execution_count": 45,
     "metadata": {},
     "output_type": "execute_result"
    }
   ],
   "source": [
    "#Exploring the data for this column\n",
    "dft['year'].describe()"
   ]
  },
  {
   "cell_type": "code",
   "execution_count": 46,
   "id": "22684742",
   "metadata": {
    "scrolled": true
   },
   "outputs": [
    {
     "data": {
      "text/plain": [
       "2013    5600\n",
       "2014    5600\n",
       "2015    5600\n",
       "2016    5600\n",
       "2017    5600\n",
       "2018    5600\n",
       "2019    5600\n",
       "2020    5600\n",
       "2021    5600\n",
       "2022    5600\n",
       "Name: year, dtype: int64"
      ]
     },
     "execution_count": 46,
     "metadata": {},
     "output_type": "execute_result"
    }
   ],
   "source": [
    "dft['year'].value_counts().sort_index()"
   ]
  },
  {
   "attachments": {},
   "cell_type": "markdown",
   "id": "c3d9d650",
   "metadata": {},
   "source": [
    "The expected value for the counts is 5,600  (50 states * 2 genders * 8 age_groups * 7 ethnicities)\n",
    "\n",
    "This data appears to be complete and consistent."
   ]
  },
  {
   "cell_type": "code",
   "execution_count": 47,
   "id": "f1396e45",
   "metadata": {},
   "outputs": [
    {
     "data": {
      "text/plain": [
       "year\n",
       "2013    315343134.0\n",
       "2014    317638680.0\n",
       "2015    319959763.0\n",
       "2016    322255496.0\n",
       "2017    324290633.0\n",
       "2018    325985954.0\n",
       "2019    327533774.0\n",
       "2020    330840644.0\n",
       "2021    331362763.0\n",
       "2022    332615754.0\n",
       "Name: population, dtype: float64"
      ]
     },
     "execution_count": 47,
     "metadata": {},
     "output_type": "execute_result"
    }
   ],
   "source": [
    "# Exploring the total population in each year\n",
    "dft.groupby('year').population.sum()"
   ]
  },
  {
   "cell_type": "markdown",
   "id": "0041b1ef",
   "metadata": {},
   "source": [
    "#### 0.7.4 state cleaning/checks/wrangling"
   ]
  },
  {
   "cell_type": "code",
   "execution_count": 48,
   "id": "a49476f6",
   "metadata": {
    "scrolled": true
   },
   "outputs": [
    {
     "data": {
      "text/plain": [
       "count       56000\n",
       "unique         50\n",
       "top       Alabama\n",
       "freq         1120\n",
       "Name: state, dtype: object"
      ]
     },
     "execution_count": 48,
     "metadata": {},
     "output_type": "execute_result"
    }
   ],
   "source": [
    "#Exploring the data for this column\n",
    "dft['state'].describe()"
   ]
  },
  {
   "cell_type": "code",
   "execution_count": 50,
   "id": "7db74298",
   "metadata": {
    "scrolled": true
   },
   "outputs": [
    {
     "data": {
      "text/plain": [
       "Alabama           1120\n",
       "Alaska            1120\n",
       "Arizona           1120\n",
       "Arkansas          1120\n",
       "California        1120\n",
       "Colorado          1120\n",
       "Connecticut       1120\n",
       "Delaware          1120\n",
       "Florida           1120\n",
       "Georgia           1120\n",
       "Hawaii            1120\n",
       "Idaho             1120\n",
       "Illinois          1120\n",
       "Indiana           1120\n",
       "Iowa              1120\n",
       "Kansas            1120\n",
       "Kentucky          1120\n",
       "Louisiana         1120\n",
       "Maine             1120\n",
       "Maryland          1120\n",
       "Massachusetts     1120\n",
       "Michigan          1120\n",
       "Minnesota         1120\n",
       "Mississippi       1120\n",
       "Missouri          1120\n",
       "Montana           1120\n",
       "Nebraska          1120\n",
       "Nevada            1120\n",
       "New Hampshire     1120\n",
       "New Jersey        1120\n",
       "New Mexico        1120\n",
       "New York          1120\n",
       "North Carolina    1120\n",
       "North Dakota      1120\n",
       "Ohio              1120\n",
       "Oklahoma          1120\n",
       "Oregon            1120\n",
       "Pennsylvania      1120\n",
       "Rhode Island      1120\n",
       "South Carolina    1120\n",
       "South Dakota      1120\n",
       "Tennessee         1120\n",
       "Texas             1120\n",
       "Utah              1120\n",
       "Vermont           1120\n",
       "Virginia          1120\n",
       "Washington        1120\n",
       "West Virginia     1120\n",
       "Wisconsin         1120\n",
       "Wyoming           1120\n",
       "Name: state, dtype: int64"
      ]
     },
     "execution_count": 50,
     "metadata": {},
     "output_type": "execute_result"
    }
   ],
   "source": [
    "dft['state'].value_counts().sort_index()"
   ]
  },
  {
   "attachments": {},
   "cell_type": "markdown",
   "id": "534bf23c",
   "metadata": {},
   "source": [
    "The expected value for the counts would be 1,120  \n",
    "(10 years * 2 genders * 8 age groups * 7 ethnicities)\n",
    "\n",
    "This data appears to be complete and consistent."
   ]
  },
  {
   "cell_type": "markdown",
   "id": "cc4477b4",
   "metadata": {},
   "source": [
    "#### 0.7.5 age_group cleaning/checks/wrangling"
   ]
  },
  {
   "cell_type": "code",
   "execution_count": 51,
   "id": "07cdedb0",
   "metadata": {},
   "outputs": [
    {
     "data": {
      "text/plain": [
       "count         56000\n",
       "unique            8\n",
       "top       1-5 Years\n",
       "freq           7000\n",
       "Name: age_group, dtype: object"
      ]
     },
     "execution_count": 51,
     "metadata": {},
     "output_type": "execute_result"
    }
   ],
   "source": [
    "#Exploring the data for this column\n",
    "dft['age_group'].describe()"
   ]
  },
  {
   "cell_type": "code",
   "execution_count": 52,
   "id": "6d42a6ea",
   "metadata": {
    "scrolled": true
   },
   "outputs": [
    {
     "data": {
      "text/plain": [
       "1-5 Years      7000\n",
       "11-17 Years    7000\n",
       "18-34 Years    7000\n",
       "35-49 Years    7000\n",
       "50-64 Years    7000\n",
       "6-10 Years     7000\n",
       "65+            7000\n",
       "< 1 Year       7000\n",
       "Name: age_group, dtype: int64"
      ]
     },
     "execution_count": 52,
     "metadata": {},
     "output_type": "execute_result"
    }
   ],
   "source": [
    "dft['age_group'].value_counts()"
   ]
  },
  {
   "attachments": {},
   "cell_type": "markdown",
   "id": "40bd6c45",
   "metadata": {},
   "source": [
    "The expected value for the counts would be 7,000  \n",
    "(10 years * 50 states * 2 genders * 7 ethnicities)\n",
    "\n",
    "This data appears to be complete and consistent."
   ]
  },
  {
   "cell_type": "markdown",
   "id": "dde175d2",
   "metadata": {},
   "source": [
    "#### 0.7.7 gender cleaning/checks/wrangling"
   ]
  },
  {
   "cell_type": "code",
   "execution_count": 58,
   "id": "48b3fe93",
   "metadata": {},
   "outputs": [
    {
     "data": {
      "text/plain": [
       "count      56000\n",
       "unique         2\n",
       "top       Female\n",
       "freq       28000\n",
       "Name: gender, dtype: object"
      ]
     },
     "execution_count": 58,
     "metadata": {},
     "output_type": "execute_result"
    }
   ],
   "source": [
    "#Exploring the data for this column\n",
    "dft['gender'].describe()"
   ]
  },
  {
   "cell_type": "code",
   "execution_count": 59,
   "id": "307c662f",
   "metadata": {
    "scrolled": true
   },
   "outputs": [
    {
     "data": {
      "text/plain": [
       "Female    28000\n",
       "Male      28000\n",
       "Name: gender, dtype: int64"
      ]
     },
     "execution_count": 59,
     "metadata": {},
     "output_type": "execute_result"
    }
   ],
   "source": [
    "dft['gender'].value_counts()"
   ]
  },
  {
   "cell_type": "code",
   "execution_count": 60,
   "id": "7e34570c",
   "metadata": {},
   "outputs": [
    {
     "data": {
      "text/plain": [
       "1644918332.0"
      ]
     },
     "execution_count": 60,
     "metadata": {},
     "output_type": "execute_result"
    }
   ],
   "source": [
    "dft[dft['gender']=='Female'].population.sum()"
   ]
  },
  {
   "cell_type": "code",
   "execution_count": 61,
   "id": "36ad1456",
   "metadata": {},
   "outputs": [
    {
     "data": {
      "text/plain": [
       "1602908263.0"
      ]
     },
     "execution_count": 61,
     "metadata": {},
     "output_type": "execute_result"
    }
   ],
   "source": [
    "dft[dft['gender']=='Male'].population.sum()"
   ]
  },
  {
   "attachments": {},
   "cell_type": "markdown",
   "id": "48cb5549",
   "metadata": {},
   "source": [
    "The expected value for the counts would be 28,000.  \n",
    "(10 years * 50 states * 8 age groups * 7 ethnicities)\n",
    "\n",
    "This data appears to be complete and consistent."
   ]
  },
  {
   "cell_type": "markdown",
   "id": "f7b3844d",
   "metadata": {},
   "source": [
    "#### 0.7.8 ethnicity cleaning/checks/wrangling"
   ]
  },
  {
   "cell_type": "code",
   "execution_count": 62,
   "id": "a28b12d5",
   "metadata": {},
   "outputs": [
    {
     "data": {
      "text/plain": [
       "count                                            56000\n",
       "unique                                               7\n",
       "top       American Indian/Alaska Native (Non-Hispanic)\n",
       "freq                                              8000\n",
       "Name: ethnicity, dtype: object"
      ]
     },
     "execution_count": 62,
     "metadata": {},
     "output_type": "execute_result"
    }
   ],
   "source": [
    "#Exploring the data for this column\n",
    "dft['ethnicity'].describe()"
   ]
  },
  {
   "cell_type": "code",
   "execution_count": 63,
   "id": "9c585bdb",
   "metadata": {},
   "outputs": [
    {
     "data": {
      "text/plain": [
       "American Indian/Alaska Native (Non-Hispanic)    8000\n",
       "Asian (Non-Hispanic)                            8000\n",
       "Black (Non-Hispanic)                            8000\n",
       "Hispanic/Latino                                 8000\n",
       "Multiracial (Non-Hispanic)                      8000\n",
       "Pacific Islander (Non-Hispanic)                 8000\n",
       "White (Non-Hispanic)                            8000\n",
       "Name: ethnicity, dtype: int64"
      ]
     },
     "execution_count": 63,
     "metadata": {},
     "output_type": "execute_result"
    }
   ],
   "source": [
    "dft['ethnicity'].value_counts()"
   ]
  },
  {
   "cell_type": "markdown",
   "id": "bca8dd19",
   "metadata": {},
   "source": [
    "The expected value for the counts would be 8,000  \n",
    "(10 years * 50 states * 2 genders * 8 age groups)\n",
    "\n",
    "This data appears to be complete and consistent."
   ]
  },
  {
   "cell_type": "markdown",
   "id": "7d9b1c03",
   "metadata": {},
   "source": [
    "### 0.8 Export the Clean Dataframe: census_2013-22_clean.pkl"
   ]
  },
  {
   "cell_type": "code",
   "execution_count": 64,
   "id": "186d00ee",
   "metadata": {},
   "outputs": [
    {
     "data": {
      "text/plain": [
       "(56000, 6)"
      ]
     },
     "execution_count": 64,
     "metadata": {},
     "output_type": "execute_result"
    }
   ],
   "source": [
    "# Confirming final shape and datetypes\n",
    "dft.shape"
   ]
  },
  {
   "cell_type": "code",
   "execution_count": 65,
   "id": "8b04dab1",
   "metadata": {},
   "outputs": [
    {
     "name": "stdout",
     "output_type": "stream",
     "text": [
      "<class 'pandas.core.frame.DataFrame'>\n",
      "Int64Index: 56000 entries, 0 to 55999\n",
      "Data columns (total 6 columns):\n",
      " #   Column      Non-Null Count  Dtype   \n",
      "---  ------      --------------  -----   \n",
      " 0   population  56000 non-null  float64 \n",
      " 1   year        56000 non-null  int16   \n",
      " 2   state       56000 non-null  category\n",
      " 3   age_group   56000 non-null  category\n",
      " 4   gender      56000 non-null  category\n",
      " 5   ethnicity   56000 non-null  category\n",
      "dtypes: category(4), float64(1), int16(1)\n",
      "memory usage: 3.2 MB\n"
     ]
    }
   ],
   "source": [
    "dft.info()"
   ]
  },
  {
   "cell_type": "code",
   "execution_count": 66,
   "id": "b4aa7408",
   "metadata": {},
   "outputs": [],
   "source": [
    "# Export df as a pickle file for future analysis in Python\n",
    "dft.to_pickle(os.path.join(path, '02 Data','Prepared Data', 'census_2013-22_clean.pkl'))"
   ]
  },
  {
   "cell_type": "code",
   "execution_count": 67,
   "id": "4fee9af4",
   "metadata": {},
   "outputs": [],
   "source": [
    "# Export a copy of the df as .csv that can be opened in Excel\n",
    "dft.to_csv(os.path.join(path, '02 Data','Prepared Data', 'census_2013-22_clean.csv'), index = False)"
   ]
  },
  {
   "cell_type": "code",
   "execution_count": null,
   "id": "8204d931",
   "metadata": {},
   "outputs": [],
   "source": []
  }
 ],
 "metadata": {
  "kernelspec": {
   "display_name": "Python 3 (ipykernel)",
   "language": "python",
   "name": "python3"
  },
  "language_info": {
   "codemirror_mode": {
    "name": "ipython",
    "version": 3
   },
   "file_extension": ".py",
   "mimetype": "text/x-python",
   "name": "python",
   "nbconvert_exporter": "python",
   "pygments_lexer": "ipython3",
   "version": "3.9.13"
  }
 },
 "nbformat": 4,
 "nbformat_minor": 5
}
